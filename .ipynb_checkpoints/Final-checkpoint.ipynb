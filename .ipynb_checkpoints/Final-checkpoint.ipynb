{
 "cells": [
  {
   "cell_type": "code",
   "execution_count": null,
   "metadata": {},
   "outputs": [],
   "source": [
    "train test, information gain, Unique Values in ID(dupicates),  startified kfod, remove minmax"
   ]
  },
  {
   "cell_type": "code",
   "execution_count": 3,
   "metadata": {},
   "outputs": [],
   "source": [
    "import numpy as np\n",
    "import pandas as pd\n",
    "import matplotlib.pyplot as plt\n",
    "import seaborn as sns\n",
    "from sklearn.preprocessing import *\n",
    "from sklearn.preprocessing import MinMaxScaler"
   ]
  },
  {
   "cell_type": "code",
   "execution_count": 4,
   "metadata": {},
   "outputs": [],
   "source": [
    "#Loading Data\n",
    "train = pd.read_csv(\"train_s3TEQDk.csv\")\n",
    "train.name = 'train'\n",
    "test = pd.read_csv(\"test_mSzZ8RL.csv\")\n",
    "test.name = 'test'\n",
    "submission = pd.read_csv(\"sample_submission_eyYijxG.csv\")\n",
    "submission.name = 'submission'\n"
   ]
  },
  {
   "cell_type": "code",
   "execution_count": 5,
   "metadata": {},
   "outputs": [],
   "source": [
    "def display_unique(data):\n",
    "    for column in data.columns :\n",
    "        if data[column].dtype == \"object\":\n",
    "            print(\"No of Unique Values in \"+column+\" Column are : \"+str(data[column].nunique()))\n",
    "            print(data[column].value_counts())\n",
    "            print(\"\")\n"
   ]
  },
  {
   "cell_type": "code",
   "execution_count": 6,
   "metadata": {},
   "outputs": [],
   "source": [
    "def display_dataFrame_info(data):\n",
    "    print(\"Information of\",data.name,\"\\n\")\n",
    "    print(\"No of Rows: \",data.shape[0])\n",
    "    print(\"No of Columns: \",data.shape[1],\"\\n\")\n",
    "    print(\"Data Type Count:\")\n",
    "    print(data.dtypes.value_counts(),\"\\n\")\n",
    "    print(data.info(),\"\\n\")\n",
    "    display(data.describe())\n",
    "    display(data.describe( include = \"object\"))\n",
    "    \n",
    "    tab_info = pd.DataFrame(data.dtypes).T.rename(index={0:'column type'})\n",
    "    tab_info = tab_info.append(pd.DataFrame(data.isnull().sum()).T.rename(index={0:'null values'}))\n",
    "    tab_info=tab_info.append(pd.DataFrame(data.isnull().sum()/data.shape[0]*100).T.rename(index={0:'null values (%)'}))\n",
    "    \n",
    "    display(tab_info)\n",
    "    display_unique(data)\n",
    "    "
   ]
  },
  {
   "cell_type": "code",
   "execution_count": 7,
   "metadata": {
    "scrolled": false
   },
   "outputs": [
    {
     "name": "stdout",
     "output_type": "stream",
     "text": [
      "Information of train \n",
      "\n",
      "No of Rows:  245725\n",
      "No of Columns:  11 \n",
      "\n",
      "Data Type Count:\n",
      "object    7\n",
      "int64     4\n",
      "dtype: int64 \n",
      "\n",
      "<class 'pandas.core.frame.DataFrame'>\n",
      "RangeIndex: 245725 entries, 0 to 245724\n",
      "Data columns (total 11 columns):\n",
      " #   Column               Non-Null Count   Dtype \n",
      "---  ------               --------------   ----- \n",
      " 0   ID                   245725 non-null  object\n",
      " 1   Gender               245725 non-null  object\n",
      " 2   Age                  245725 non-null  int64 \n",
      " 3   Region_Code          245725 non-null  object\n",
      " 4   Occupation           245725 non-null  object\n",
      " 5   Channel_Code         245725 non-null  object\n",
      " 6   Vintage              245725 non-null  int64 \n",
      " 7   Credit_Product       216400 non-null  object\n",
      " 8   Avg_Account_Balance  245725 non-null  int64 \n",
      " 9   Is_Active            245725 non-null  object\n",
      " 10  Is_Lead              245725 non-null  int64 \n",
      "dtypes: int64(4), object(7)\n",
      "memory usage: 20.6+ MB\n",
      "None \n",
      "\n"
     ]
    },
    {
     "data": {
      "text/html": [
       "<div>\n",
       "<style scoped>\n",
       "    .dataframe tbody tr th:only-of-type {\n",
       "        vertical-align: middle;\n",
       "    }\n",
       "\n",
       "    .dataframe tbody tr th {\n",
       "        vertical-align: top;\n",
       "    }\n",
       "\n",
       "    .dataframe thead th {\n",
       "        text-align: right;\n",
       "    }\n",
       "</style>\n",
       "<table border=\"1\" class=\"dataframe\">\n",
       "  <thead>\n",
       "    <tr style=\"text-align: right;\">\n",
       "      <th></th>\n",
       "      <th>Age</th>\n",
       "      <th>Vintage</th>\n",
       "      <th>Avg_Account_Balance</th>\n",
       "      <th>Is_Lead</th>\n",
       "    </tr>\n",
       "  </thead>\n",
       "  <tbody>\n",
       "    <tr>\n",
       "      <th>count</th>\n",
       "      <td>245725.000000</td>\n",
       "      <td>245725.000000</td>\n",
       "      <td>2.457250e+05</td>\n",
       "      <td>245725.000000</td>\n",
       "    </tr>\n",
       "    <tr>\n",
       "      <th>mean</th>\n",
       "      <td>43.856307</td>\n",
       "      <td>46.959141</td>\n",
       "      <td>1.128403e+06</td>\n",
       "      <td>0.237208</td>\n",
       "    </tr>\n",
       "    <tr>\n",
       "      <th>std</th>\n",
       "      <td>14.828672</td>\n",
       "      <td>32.353136</td>\n",
       "      <td>8.529364e+05</td>\n",
       "      <td>0.425372</td>\n",
       "    </tr>\n",
       "    <tr>\n",
       "      <th>min</th>\n",
       "      <td>23.000000</td>\n",
       "      <td>7.000000</td>\n",
       "      <td>2.079000e+04</td>\n",
       "      <td>0.000000</td>\n",
       "    </tr>\n",
       "    <tr>\n",
       "      <th>25%</th>\n",
       "      <td>30.000000</td>\n",
       "      <td>20.000000</td>\n",
       "      <td>6.043100e+05</td>\n",
       "      <td>0.000000</td>\n",
       "    </tr>\n",
       "    <tr>\n",
       "      <th>50%</th>\n",
       "      <td>43.000000</td>\n",
       "      <td>32.000000</td>\n",
       "      <td>8.946010e+05</td>\n",
       "      <td>0.000000</td>\n",
       "    </tr>\n",
       "    <tr>\n",
       "      <th>75%</th>\n",
       "      <td>54.000000</td>\n",
       "      <td>73.000000</td>\n",
       "      <td>1.366666e+06</td>\n",
       "      <td>0.000000</td>\n",
       "    </tr>\n",
       "    <tr>\n",
       "      <th>max</th>\n",
       "      <td>85.000000</td>\n",
       "      <td>135.000000</td>\n",
       "      <td>1.035201e+07</td>\n",
       "      <td>1.000000</td>\n",
       "    </tr>\n",
       "  </tbody>\n",
       "</table>\n",
       "</div>"
      ],
      "text/plain": [
       "                 Age        Vintage  Avg_Account_Balance        Is_Lead\n",
       "count  245725.000000  245725.000000         2.457250e+05  245725.000000\n",
       "mean       43.856307      46.959141         1.128403e+06       0.237208\n",
       "std        14.828672      32.353136         8.529364e+05       0.425372\n",
       "min        23.000000       7.000000         2.079000e+04       0.000000\n",
       "25%        30.000000      20.000000         6.043100e+05       0.000000\n",
       "50%        43.000000      32.000000         8.946010e+05       0.000000\n",
       "75%        54.000000      73.000000         1.366666e+06       0.000000\n",
       "max        85.000000     135.000000         1.035201e+07       1.000000"
      ]
     },
     "metadata": {},
     "output_type": "display_data"
    },
    {
     "data": {
      "text/html": [
       "<div>\n",
       "<style scoped>\n",
       "    .dataframe tbody tr th:only-of-type {\n",
       "        vertical-align: middle;\n",
       "    }\n",
       "\n",
       "    .dataframe tbody tr th {\n",
       "        vertical-align: top;\n",
       "    }\n",
       "\n",
       "    .dataframe thead th {\n",
       "        text-align: right;\n",
       "    }\n",
       "</style>\n",
       "<table border=\"1\" class=\"dataframe\">\n",
       "  <thead>\n",
       "    <tr style=\"text-align: right;\">\n",
       "      <th></th>\n",
       "      <th>ID</th>\n",
       "      <th>Gender</th>\n",
       "      <th>Region_Code</th>\n",
       "      <th>Occupation</th>\n",
       "      <th>Channel_Code</th>\n",
       "      <th>Credit_Product</th>\n",
       "      <th>Is_Active</th>\n",
       "    </tr>\n",
       "  </thead>\n",
       "  <tbody>\n",
       "    <tr>\n",
       "      <th>count</th>\n",
       "      <td>245725</td>\n",
       "      <td>245725</td>\n",
       "      <td>245725</td>\n",
       "      <td>245725</td>\n",
       "      <td>245725</td>\n",
       "      <td>216400</td>\n",
       "      <td>245725</td>\n",
       "    </tr>\n",
       "    <tr>\n",
       "      <th>unique</th>\n",
       "      <td>245725</td>\n",
       "      <td>2</td>\n",
       "      <td>35</td>\n",
       "      <td>4</td>\n",
       "      <td>4</td>\n",
       "      <td>2</td>\n",
       "      <td>2</td>\n",
       "    </tr>\n",
       "    <tr>\n",
       "      <th>top</th>\n",
       "      <td>HFMIMSP4</td>\n",
       "      <td>Male</td>\n",
       "      <td>RG268</td>\n",
       "      <td>Self_Employed</td>\n",
       "      <td>X1</td>\n",
       "      <td>No</td>\n",
       "      <td>No</td>\n",
       "    </tr>\n",
       "    <tr>\n",
       "      <th>freq</th>\n",
       "      <td>1</td>\n",
       "      <td>134197</td>\n",
       "      <td>35934</td>\n",
       "      <td>100886</td>\n",
       "      <td>103718</td>\n",
       "      <td>144357</td>\n",
       "      <td>150290</td>\n",
       "    </tr>\n",
       "  </tbody>\n",
       "</table>\n",
       "</div>"
      ],
      "text/plain": [
       "              ID  Gender Region_Code     Occupation Channel_Code  \\\n",
       "count     245725  245725      245725         245725       245725   \n",
       "unique    245725       2          35              4            4   \n",
       "top     HFMIMSP4    Male       RG268  Self_Employed           X1   \n",
       "freq           1  134197       35934         100886       103718   \n",
       "\n",
       "       Credit_Product Is_Active  \n",
       "count          216400    245725  \n",
       "unique              2         2  \n",
       "top                No        No  \n",
       "freq           144357    150290  "
      ]
     },
     "metadata": {},
     "output_type": "display_data"
    },
    {
     "data": {
      "text/html": [
       "<div>\n",
       "<style scoped>\n",
       "    .dataframe tbody tr th:only-of-type {\n",
       "        vertical-align: middle;\n",
       "    }\n",
       "\n",
       "    .dataframe tbody tr th {\n",
       "        vertical-align: top;\n",
       "    }\n",
       "\n",
       "    .dataframe thead th {\n",
       "        text-align: right;\n",
       "    }\n",
       "</style>\n",
       "<table border=\"1\" class=\"dataframe\">\n",
       "  <thead>\n",
       "    <tr style=\"text-align: right;\">\n",
       "      <th></th>\n",
       "      <th>ID</th>\n",
       "      <th>Gender</th>\n",
       "      <th>Age</th>\n",
       "      <th>Region_Code</th>\n",
       "      <th>Occupation</th>\n",
       "      <th>Channel_Code</th>\n",
       "      <th>Vintage</th>\n",
       "      <th>Credit_Product</th>\n",
       "      <th>Avg_Account_Balance</th>\n",
       "      <th>Is_Active</th>\n",
       "      <th>Is_Lead</th>\n",
       "    </tr>\n",
       "  </thead>\n",
       "  <tbody>\n",
       "    <tr>\n",
       "      <th>column type</th>\n",
       "      <td>object</td>\n",
       "      <td>object</td>\n",
       "      <td>int64</td>\n",
       "      <td>object</td>\n",
       "      <td>object</td>\n",
       "      <td>object</td>\n",
       "      <td>int64</td>\n",
       "      <td>object</td>\n",
       "      <td>int64</td>\n",
       "      <td>object</td>\n",
       "      <td>int64</td>\n",
       "    </tr>\n",
       "    <tr>\n",
       "      <th>null values</th>\n",
       "      <td>0</td>\n",
       "      <td>0</td>\n",
       "      <td>0</td>\n",
       "      <td>0</td>\n",
       "      <td>0</td>\n",
       "      <td>0</td>\n",
       "      <td>0</td>\n",
       "      <td>29325</td>\n",
       "      <td>0</td>\n",
       "      <td>0</td>\n",
       "      <td>0</td>\n",
       "    </tr>\n",
       "    <tr>\n",
       "      <th>null values (%)</th>\n",
       "      <td>0</td>\n",
       "      <td>0</td>\n",
       "      <td>0</td>\n",
       "      <td>0</td>\n",
       "      <td>0</td>\n",
       "      <td>0</td>\n",
       "      <td>0</td>\n",
       "      <td>11.9341</td>\n",
       "      <td>0</td>\n",
       "      <td>0</td>\n",
       "      <td>0</td>\n",
       "    </tr>\n",
       "  </tbody>\n",
       "</table>\n",
       "</div>"
      ],
      "text/plain": [
       "                     ID  Gender    Age Region_Code Occupation Channel_Code  \\\n",
       "column type      object  object  int64      object     object       object   \n",
       "null values           0       0      0           0          0            0   \n",
       "null values (%)       0       0      0           0          0            0   \n",
       "\n",
       "                Vintage Credit_Product Avg_Account_Balance Is_Active Is_Lead  \n",
       "column type       int64         object               int64    object   int64  \n",
       "null values           0          29325                   0         0       0  \n",
       "null values (%)       0        11.9341                   0         0       0  "
      ]
     },
     "metadata": {},
     "output_type": "display_data"
    },
    {
     "name": "stdout",
     "output_type": "stream",
     "text": [
      "No of Unique Values in ID Column are : 245725\n",
      "HFMIMSP4    1\n",
      "DWLMNRVP    1\n",
      "QBRX5NT9    1\n",
      "SZ5QGZ6E    1\n",
      "CDFALTYK    1\n",
      "           ..\n",
      "3UCOUWLG    1\n",
      "WRT9BQAJ    1\n",
      "FRZBPJTE    1\n",
      "VPJMXGH5    1\n",
      "GCWZVWBU    1\n",
      "Name: ID, Length: 245725, dtype: int64\n",
      "\n",
      "No of Unique Values in Gender Column are : 2\n",
      "Male      134197\n",
      "Female    111528\n",
      "Name: Gender, dtype: int64\n",
      "\n",
      "No of Unique Values in Region_Code Column are : 35\n",
      "RG268    35934\n",
      "RG283    29416\n",
      "RG254    26840\n",
      "RG284    19320\n",
      "RG277    12826\n",
      "RG280    12775\n",
      "RG269     7863\n",
      "RG270     7720\n",
      "RG261     7633\n",
      "RG257     6101\n",
      "RG251     5950\n",
      "RG282     5829\n",
      "RG274     5286\n",
      "RG272     5252\n",
      "RG281     5093\n",
      "RG273     4497\n",
      "RG252     4286\n",
      "RG279     3976\n",
      "RG263     3687\n",
      "RG275     3245\n",
      "RG260     3110\n",
      "RG256     2847\n",
      "RG264     2793\n",
      "RG276     2764\n",
      "RG259     2586\n",
      "RG250     2496\n",
      "RG255     2018\n",
      "RG258     1951\n",
      "RG253     1858\n",
      "RG278     1822\n",
      "RG262     1788\n",
      "RG266     1578\n",
      "RG265     1546\n",
      "RG271     1542\n",
      "RG267     1497\n",
      "Name: Region_Code, dtype: int64\n",
      "\n",
      "No of Unique Values in Occupation Column are : 4\n",
      "Self_Employed    100886\n",
      "Salaried          71999\n",
      "Other             70173\n",
      "Entrepreneur       2667\n",
      "Name: Occupation, dtype: int64\n",
      "\n",
      "No of Unique Values in Channel_Code Column are : 4\n",
      "X1    103718\n",
      "X3     68712\n",
      "X2     67726\n",
      "X4      5569\n",
      "Name: Channel_Code, dtype: int64\n",
      "\n",
      "No of Unique Values in Credit_Product Column are : 2\n",
      "No     144357\n",
      "Yes     72043\n",
      "Name: Credit_Product, dtype: int64\n",
      "\n",
      "No of Unique Values in Is_Active Column are : 2\n",
      "No     150290\n",
      "Yes     95435\n",
      "Name: Is_Active, dtype: int64\n",
      "\n"
     ]
    }
   ],
   "source": [
    "display_dataFrame_info(train)"
   ]
  },
  {
   "cell_type": "code",
   "execution_count": 8,
   "metadata": {
    "scrolled": false
   },
   "outputs": [
    {
     "name": "stdout",
     "output_type": "stream",
     "text": [
      "Information of test \n",
      "\n",
      "No of Rows:  105312\n",
      "No of Columns:  10 \n",
      "\n",
      "Data Type Count:\n",
      "object    7\n",
      "int64     3\n",
      "dtype: int64 \n",
      "\n",
      "<class 'pandas.core.frame.DataFrame'>\n",
      "RangeIndex: 105312 entries, 0 to 105311\n",
      "Data columns (total 10 columns):\n",
      " #   Column               Non-Null Count   Dtype \n",
      "---  ------               --------------   ----- \n",
      " 0   ID                   105312 non-null  object\n",
      " 1   Gender               105312 non-null  object\n",
      " 2   Age                  105312 non-null  int64 \n",
      " 3   Region_Code          105312 non-null  object\n",
      " 4   Occupation           105312 non-null  object\n",
      " 5   Channel_Code         105312 non-null  object\n",
      " 6   Vintage              105312 non-null  int64 \n",
      " 7   Credit_Product       92790 non-null   object\n",
      " 8   Avg_Account_Balance  105312 non-null  int64 \n",
      " 9   Is_Active            105312 non-null  object\n",
      "dtypes: int64(3), object(7)\n",
      "memory usage: 8.0+ MB\n",
      "None \n",
      "\n"
     ]
    },
    {
     "data": {
      "text/html": [
       "<div>\n",
       "<style scoped>\n",
       "    .dataframe tbody tr th:only-of-type {\n",
       "        vertical-align: middle;\n",
       "    }\n",
       "\n",
       "    .dataframe tbody tr th {\n",
       "        vertical-align: top;\n",
       "    }\n",
       "\n",
       "    .dataframe thead th {\n",
       "        text-align: right;\n",
       "    }\n",
       "</style>\n",
       "<table border=\"1\" class=\"dataframe\">\n",
       "  <thead>\n",
       "    <tr style=\"text-align: right;\">\n",
       "      <th></th>\n",
       "      <th>Age</th>\n",
       "      <th>Vintage</th>\n",
       "      <th>Avg_Account_Balance</th>\n",
       "    </tr>\n",
       "  </thead>\n",
       "  <tbody>\n",
       "    <tr>\n",
       "      <th>count</th>\n",
       "      <td>105312.000000</td>\n",
       "      <td>105312.000000</td>\n",
       "      <td>1.053120e+05</td>\n",
       "    </tr>\n",
       "    <tr>\n",
       "      <th>mean</th>\n",
       "      <td>43.871002</td>\n",
       "      <td>46.842819</td>\n",
       "      <td>1.134195e+06</td>\n",
       "    </tr>\n",
       "    <tr>\n",
       "      <th>std</th>\n",
       "      <td>14.872890</td>\n",
       "      <td>32.273634</td>\n",
       "      <td>8.662430e+05</td>\n",
       "    </tr>\n",
       "    <tr>\n",
       "      <th>min</th>\n",
       "      <td>24.000000</td>\n",
       "      <td>7.000000</td>\n",
       "      <td>2.259700e+04</td>\n",
       "    </tr>\n",
       "    <tr>\n",
       "      <th>25%</th>\n",
       "      <td>30.000000</td>\n",
       "      <td>20.000000</td>\n",
       "      <td>6.039822e+05</td>\n",
       "    </tr>\n",
       "    <tr>\n",
       "      <th>50%</th>\n",
       "      <td>43.000000</td>\n",
       "      <td>32.000000</td>\n",
       "      <td>8.966345e+05</td>\n",
       "    </tr>\n",
       "    <tr>\n",
       "      <th>75%</th>\n",
       "      <td>54.000000</td>\n",
       "      <td>73.000000</td>\n",
       "      <td>1.371598e+06</td>\n",
       "    </tr>\n",
       "    <tr>\n",
       "      <th>max</th>\n",
       "      <td>85.000000</td>\n",
       "      <td>135.000000</td>\n",
       "      <td>9.908858e+06</td>\n",
       "    </tr>\n",
       "  </tbody>\n",
       "</table>\n",
       "</div>"
      ],
      "text/plain": [
       "                 Age        Vintage  Avg_Account_Balance\n",
       "count  105312.000000  105312.000000         1.053120e+05\n",
       "mean       43.871002      46.842819         1.134195e+06\n",
       "std        14.872890      32.273634         8.662430e+05\n",
       "min        24.000000       7.000000         2.259700e+04\n",
       "25%        30.000000      20.000000         6.039822e+05\n",
       "50%        43.000000      32.000000         8.966345e+05\n",
       "75%        54.000000      73.000000         1.371598e+06\n",
       "max        85.000000     135.000000         9.908858e+06"
      ]
     },
     "metadata": {},
     "output_type": "display_data"
    },
    {
     "data": {
      "text/html": [
       "<div>\n",
       "<style scoped>\n",
       "    .dataframe tbody tr th:only-of-type {\n",
       "        vertical-align: middle;\n",
       "    }\n",
       "\n",
       "    .dataframe tbody tr th {\n",
       "        vertical-align: top;\n",
       "    }\n",
       "\n",
       "    .dataframe thead th {\n",
       "        text-align: right;\n",
       "    }\n",
       "</style>\n",
       "<table border=\"1\" class=\"dataframe\">\n",
       "  <thead>\n",
       "    <tr style=\"text-align: right;\">\n",
       "      <th></th>\n",
       "      <th>ID</th>\n",
       "      <th>Gender</th>\n",
       "      <th>Region_Code</th>\n",
       "      <th>Occupation</th>\n",
       "      <th>Channel_Code</th>\n",
       "      <th>Credit_Product</th>\n",
       "      <th>Is_Active</th>\n",
       "    </tr>\n",
       "  </thead>\n",
       "  <tbody>\n",
       "    <tr>\n",
       "      <th>count</th>\n",
       "      <td>105312</td>\n",
       "      <td>105312</td>\n",
       "      <td>105312</td>\n",
       "      <td>105312</td>\n",
       "      <td>105312</td>\n",
       "      <td>92790</td>\n",
       "      <td>105312</td>\n",
       "    </tr>\n",
       "    <tr>\n",
       "      <th>unique</th>\n",
       "      <td>105312</td>\n",
       "      <td>2</td>\n",
       "      <td>35</td>\n",
       "      <td>4</td>\n",
       "      <td>4</td>\n",
       "      <td>2</td>\n",
       "      <td>2</td>\n",
       "    </tr>\n",
       "    <tr>\n",
       "      <th>top</th>\n",
       "      <td>5NWQE68C</td>\n",
       "      <td>Male</td>\n",
       "      <td>RG268</td>\n",
       "      <td>Self_Employed</td>\n",
       "      <td>X1</td>\n",
       "      <td>No</td>\n",
       "      <td>No</td>\n",
       "    </tr>\n",
       "    <tr>\n",
       "      <th>freq</th>\n",
       "      <td>1</td>\n",
       "      <td>57705</td>\n",
       "      <td>15125</td>\n",
       "      <td>43192</td>\n",
       "      <td>44484</td>\n",
       "      <td>61608</td>\n",
       "      <td>63797</td>\n",
       "    </tr>\n",
       "  </tbody>\n",
       "</table>\n",
       "</div>"
      ],
      "text/plain": [
       "              ID  Gender Region_Code     Occupation Channel_Code  \\\n",
       "count     105312  105312      105312         105312       105312   \n",
       "unique    105312       2          35              4            4   \n",
       "top     5NWQE68C    Male       RG268  Self_Employed           X1   \n",
       "freq           1   57705       15125          43192        44484   \n",
       "\n",
       "       Credit_Product Is_Active  \n",
       "count           92790    105312  \n",
       "unique              2         2  \n",
       "top                No        No  \n",
       "freq            61608     63797  "
      ]
     },
     "metadata": {},
     "output_type": "display_data"
    },
    {
     "data": {
      "text/html": [
       "<div>\n",
       "<style scoped>\n",
       "    .dataframe tbody tr th:only-of-type {\n",
       "        vertical-align: middle;\n",
       "    }\n",
       "\n",
       "    .dataframe tbody tr th {\n",
       "        vertical-align: top;\n",
       "    }\n",
       "\n",
       "    .dataframe thead th {\n",
       "        text-align: right;\n",
       "    }\n",
       "</style>\n",
       "<table border=\"1\" class=\"dataframe\">\n",
       "  <thead>\n",
       "    <tr style=\"text-align: right;\">\n",
       "      <th></th>\n",
       "      <th>ID</th>\n",
       "      <th>Gender</th>\n",
       "      <th>Age</th>\n",
       "      <th>Region_Code</th>\n",
       "      <th>Occupation</th>\n",
       "      <th>Channel_Code</th>\n",
       "      <th>Vintage</th>\n",
       "      <th>Credit_Product</th>\n",
       "      <th>Avg_Account_Balance</th>\n",
       "      <th>Is_Active</th>\n",
       "    </tr>\n",
       "  </thead>\n",
       "  <tbody>\n",
       "    <tr>\n",
       "      <th>column type</th>\n",
       "      <td>object</td>\n",
       "      <td>object</td>\n",
       "      <td>int64</td>\n",
       "      <td>object</td>\n",
       "      <td>object</td>\n",
       "      <td>object</td>\n",
       "      <td>int64</td>\n",
       "      <td>object</td>\n",
       "      <td>int64</td>\n",
       "      <td>object</td>\n",
       "    </tr>\n",
       "    <tr>\n",
       "      <th>null values</th>\n",
       "      <td>0</td>\n",
       "      <td>0</td>\n",
       "      <td>0</td>\n",
       "      <td>0</td>\n",
       "      <td>0</td>\n",
       "      <td>0</td>\n",
       "      <td>0</td>\n",
       "      <td>12522</td>\n",
       "      <td>0</td>\n",
       "      <td>0</td>\n",
       "    </tr>\n",
       "    <tr>\n",
       "      <th>null values (%)</th>\n",
       "      <td>0</td>\n",
       "      <td>0</td>\n",
       "      <td>0</td>\n",
       "      <td>0</td>\n",
       "      <td>0</td>\n",
       "      <td>0</td>\n",
       "      <td>0</td>\n",
       "      <td>11.8904</td>\n",
       "      <td>0</td>\n",
       "      <td>0</td>\n",
       "    </tr>\n",
       "  </tbody>\n",
       "</table>\n",
       "</div>"
      ],
      "text/plain": [
       "                     ID  Gender    Age Region_Code Occupation Channel_Code  \\\n",
       "column type      object  object  int64      object     object       object   \n",
       "null values           0       0      0           0          0            0   \n",
       "null values (%)       0       0      0           0          0            0   \n",
       "\n",
       "                Vintage Credit_Product Avg_Account_Balance Is_Active  \n",
       "column type       int64         object               int64    object  \n",
       "null values           0          12522                   0         0  \n",
       "null values (%)       0        11.8904                   0         0  "
      ]
     },
     "metadata": {},
     "output_type": "display_data"
    },
    {
     "name": "stdout",
     "output_type": "stream",
     "text": [
      "No of Unique Values in ID Column are : 105312\n",
      "5NWQE68C    1\n",
      "SMM9QYHW    1\n",
      "RI2FH4CN    1\n",
      "9EYBFFMV    1\n",
      "4ULOWYSK    1\n",
      "           ..\n",
      "C9GB4IJN    1\n",
      "SWJFN7BX    1\n",
      "GVY2CW6W    1\n",
      "8UGWYQC4    1\n",
      "UQGT76HP    1\n",
      "Name: ID, Length: 105312, dtype: int64\n",
      "\n",
      "No of Unique Values in Gender Column are : 2\n",
      "Male      57705\n",
      "Female    47607\n",
      "Name: Gender, dtype: int64\n",
      "\n",
      "No of Unique Values in Region_Code Column are : 35\n",
      "RG268    15125\n",
      "RG283    12881\n",
      "RG254    11737\n",
      "RG284     8173\n",
      "RG277     5596\n",
      "RG280     5529\n",
      "RG270     3440\n",
      "RG269     3288\n",
      "RG261     3286\n",
      "RG251     2678\n",
      "RG257     2588\n",
      "RG272     2338\n",
      "RG282     2337\n",
      "RG274     2208\n",
      "RG281     2144\n",
      "RG252     1811\n",
      "RG273     1803\n",
      "RG263     1615\n",
      "RG279     1600\n",
      "RG275     1383\n",
      "RG260     1300\n",
      "RG264     1241\n",
      "RG256     1194\n",
      "RG276     1185\n",
      "RG259     1102\n",
      "RG250     1048\n",
      "RG255      891\n",
      "RG278      824\n",
      "RG258      812\n",
      "RG253      810\n",
      "RG262      800\n",
      "RG265      668\n",
      "RG271      654\n",
      "RG266      631\n",
      "RG267      592\n",
      "Name: Region_Code, dtype: int64\n",
      "\n",
      "No of Unique Values in Occupation Column are : 4\n",
      "Self_Employed    43192\n",
      "Salaried         30913\n",
      "Other            30131\n",
      "Entrepreneur      1076\n",
      "Name: Occupation, dtype: int64\n",
      "\n",
      "No of Unique Values in Channel_Code Column are : 4\n",
      "X1    44484\n",
      "X3    29269\n",
      "X2    29176\n",
      "X4     2383\n",
      "Name: Channel_Code, dtype: int64\n",
      "\n",
      "No of Unique Values in Credit_Product Column are : 2\n",
      "No     61608\n",
      "Yes    31182\n",
      "Name: Credit_Product, dtype: int64\n",
      "\n",
      "No of Unique Values in Is_Active Column are : 2\n",
      "No     63797\n",
      "Yes    41515\n",
      "Name: Is_Active, dtype: int64\n",
      "\n"
     ]
    }
   ],
   "source": [
    "display_dataFrame_info(test)"
   ]
  },
  {
   "cell_type": "markdown",
   "metadata": {},
   "source": [
    "##### Credit_Product has 11 to 12 percent missisng vaues in both test and train which is significant so droping them is not an option. It has two unique Values  if we impute  yes or no somehow ...which will resut in unkown data for trained model during predictions... therfore making it as a third categaorical varible \"na\".... now  we have [\"yes\",\"no\",\"na\"]  as 3 unique categorica variabes for Credit_Product\n",
    "\n",
    "##### droping ID colmn because they are unique "
   ]
  },
  {
   "cell_type": "markdown",
   "metadata": {},
   "source": [
    "##### tried one-hot encoding but no improvment for diffrent model except logistic regression rest of the models gave same roc....also computation time increased mutifold therefor going forward with label encoding."
   ]
  },
  {
   "cell_type": "code",
   "execution_count": 9,
   "metadata": {},
   "outputs": [],
   "source": [
    "def data_prep(data): #label encoding everything\n",
    "    data.drop(['ID'], axis=1, inplace = True )\n",
    "    data[\"Credit_Product\"] = data[\"Credit_Product\"].fillna(0) #filling na \n",
    "    data[\"Credit_Product\"] = data[\"Credit_Product\"].replace({'No':1,'Yes':2})\n",
    "    data[\"Is_Active\"] = data[\"Is_Active\"].replace({'No':0,'Yes':1})\n",
    "    data[\"Gender\"] = data[\"Gender\"].replace({'Female':0,'Male':1})\n",
    "    data[\"Occupation\"] = data[\"Occupation\"].replace({'Other':0,'Salaried':1,'Entrepreneur':2,'Self_Employed':3})\n",
    "    data[\"Channel_Code\"] = data[\"Channel_Code\"].replace({'X1':0,'X2':1,'X3':2,'X4':3})\n",
    "    data[\"Region_Code\"] = data[\"Region_Code\"].replace({'RG268': 0 ,'RG283':1 ,'RG254':2 ,'RG284':3 ,'RG277':4 ,'RG280':5 ,'RG270':5 ,'RG269':6 ,'RG261':7 ,'RG251':8 ,'RG257':8 ,'RG272':9 ,'RG282':10 ,'RG274':11 ,'RG281':12 ,'RG252':13 ,'RG273':14 ,'RG263':15 ,'RG279':16 ,'RG275':17 ,'RG260':18 ,'RG264':19 ,'RG256':20 ,'RG276':21 ,'RG259':22 ,'RG250':23 ,'RG255':24 ,'RG278':25 ,'RG258':26 ,'RG253':27 ,'RG262':29 ,'RG265':30 ,'RG271':31 ,'RG266':32 ,'RG267':33})\n",
    "    "
   ]
  },
  {
   "cell_type": "code",
   "execution_count": 10,
   "metadata": {},
   "outputs": [
    {
     "data": {
      "text/html": [
       "<div>\n",
       "<style scoped>\n",
       "    .dataframe tbody tr th:only-of-type {\n",
       "        vertical-align: middle;\n",
       "    }\n",
       "\n",
       "    .dataframe tbody tr th {\n",
       "        vertical-align: top;\n",
       "    }\n",
       "\n",
       "    .dataframe thead th {\n",
       "        text-align: right;\n",
       "    }\n",
       "</style>\n",
       "<table border=\"1\" class=\"dataframe\">\n",
       "  <thead>\n",
       "    <tr style=\"text-align: right;\">\n",
       "      <th></th>\n",
       "      <th>Gender</th>\n",
       "      <th>Age</th>\n",
       "      <th>Region_Code</th>\n",
       "      <th>Occupation</th>\n",
       "      <th>Channel_Code</th>\n",
       "      <th>Vintage</th>\n",
       "      <th>Credit_Product</th>\n",
       "      <th>Avg_Account_Balance</th>\n",
       "      <th>Is_Active</th>\n",
       "      <th>Is_Lead</th>\n",
       "    </tr>\n",
       "  </thead>\n",
       "  <tbody>\n",
       "    <tr>\n",
       "      <th>0</th>\n",
       "      <td>0</td>\n",
       "      <td>73</td>\n",
       "      <td>0</td>\n",
       "      <td>0</td>\n",
       "      <td>2</td>\n",
       "      <td>43</td>\n",
       "      <td>1</td>\n",
       "      <td>1045696</td>\n",
       "      <td>0</td>\n",
       "      <td>0</td>\n",
       "    </tr>\n",
       "    <tr>\n",
       "      <th>1</th>\n",
       "      <td>0</td>\n",
       "      <td>30</td>\n",
       "      <td>4</td>\n",
       "      <td>1</td>\n",
       "      <td>0</td>\n",
       "      <td>32</td>\n",
       "      <td>1</td>\n",
       "      <td>581988</td>\n",
       "      <td>0</td>\n",
       "      <td>0</td>\n",
       "    </tr>\n",
       "    <tr>\n",
       "      <th>2</th>\n",
       "      <td>0</td>\n",
       "      <td>56</td>\n",
       "      <td>0</td>\n",
       "      <td>3</td>\n",
       "      <td>2</td>\n",
       "      <td>26</td>\n",
       "      <td>1</td>\n",
       "      <td>1484315</td>\n",
       "      <td>1</td>\n",
       "      <td>0</td>\n",
       "    </tr>\n",
       "    <tr>\n",
       "      <th>3</th>\n",
       "      <td>1</td>\n",
       "      <td>34</td>\n",
       "      <td>5</td>\n",
       "      <td>1</td>\n",
       "      <td>0</td>\n",
       "      <td>19</td>\n",
       "      <td>1</td>\n",
       "      <td>470454</td>\n",
       "      <td>0</td>\n",
       "      <td>0</td>\n",
       "    </tr>\n",
       "    <tr>\n",
       "      <th>4</th>\n",
       "      <td>0</td>\n",
       "      <td>30</td>\n",
       "      <td>10</td>\n",
       "      <td>1</td>\n",
       "      <td>0</td>\n",
       "      <td>33</td>\n",
       "      <td>1</td>\n",
       "      <td>886787</td>\n",
       "      <td>0</td>\n",
       "      <td>0</td>\n",
       "    </tr>\n",
       "  </tbody>\n",
       "</table>\n",
       "</div>"
      ],
      "text/plain": [
       "   Gender  Age  Region_Code  Occupation  Channel_Code  Vintage  \\\n",
       "0       0   73            0           0             2       43   \n",
       "1       0   30            4           1             0       32   \n",
       "2       0   56            0           3             2       26   \n",
       "3       1   34            5           1             0       19   \n",
       "4       0   30           10           1             0       33   \n",
       "\n",
       "   Credit_Product  Avg_Account_Balance  Is_Active  Is_Lead  \n",
       "0               1              1045696          0        0  \n",
       "1               1               581988          0        0  \n",
       "2               1              1484315          1        0  \n",
       "3               1               470454          0        0  \n",
       "4               1               886787          0        0  "
      ]
     },
     "execution_count": 10,
     "metadata": {},
     "output_type": "execute_result"
    }
   ],
   "source": [
    "temp = train.copy()\n",
    "data_prep(temp)\n",
    "temp.head()"
   ]
  },
  {
   "cell_type": "code",
   "execution_count": 11,
   "metadata": {},
   "outputs": [
    {
     "data": {
      "text/html": [
       "<div>\n",
       "<style scoped>\n",
       "    .dataframe tbody tr th:only-of-type {\n",
       "        vertical-align: middle;\n",
       "    }\n",
       "\n",
       "    .dataframe tbody tr th {\n",
       "        vertical-align: top;\n",
       "    }\n",
       "\n",
       "    .dataframe thead th {\n",
       "        text-align: right;\n",
       "    }\n",
       "</style>\n",
       "<table border=\"1\" class=\"dataframe\">\n",
       "  <thead>\n",
       "    <tr style=\"text-align: right;\">\n",
       "      <th></th>\n",
       "      <th>Gender</th>\n",
       "      <th>Age</th>\n",
       "      <th>Region_Code</th>\n",
       "      <th>Occupation</th>\n",
       "      <th>Channel_Code</th>\n",
       "      <th>Vintage</th>\n",
       "      <th>Credit_Product</th>\n",
       "      <th>Avg_Account_Balance</th>\n",
       "      <th>Is_Active</th>\n",
       "      <th>Is_Lead</th>\n",
       "    </tr>\n",
       "  </thead>\n",
       "  <tbody>\n",
       "    <tr>\n",
       "      <th>Gender</th>\n",
       "      <td>1.000000</td>\n",
       "      <td>0.152076</td>\n",
       "      <td>-0.021311</td>\n",
       "      <td>0.058284</td>\n",
       "      <td>0.150586</td>\n",
       "      <td>0.146380</td>\n",
       "      <td>0.001726</td>\n",
       "      <td>0.022477</td>\n",
       "      <td>0.064207</td>\n",
       "      <td>0.072068</td>\n",
       "    </tr>\n",
       "    <tr>\n",
       "      <th>Age</th>\n",
       "      <td>0.152076</td>\n",
       "      <td>1.000000</td>\n",
       "      <td>-0.173305</td>\n",
       "      <td>-0.019709</td>\n",
       "      <td>0.605543</td>\n",
       "      <td>0.631242</td>\n",
       "      <td>-0.005145</td>\n",
       "      <td>0.145232</td>\n",
       "      <td>0.218770</td>\n",
       "      <td>0.230814</td>\n",
       "    </tr>\n",
       "    <tr>\n",
       "      <th>Region_Code</th>\n",
       "      <td>-0.021311</td>\n",
       "      <td>-0.173305</td>\n",
       "      <td>1.000000</td>\n",
       "      <td>-0.056567</td>\n",
       "      <td>-0.153822</td>\n",
       "      <td>-0.183710</td>\n",
       "      <td>0.008507</td>\n",
       "      <td>-0.251650</td>\n",
       "      <td>-0.126037</td>\n",
       "      <td>-0.071240</td>\n",
       "    </tr>\n",
       "    <tr>\n",
       "      <th>Occupation</th>\n",
       "      <td>0.058284</td>\n",
       "      <td>-0.019709</td>\n",
       "      <td>-0.056567</td>\n",
       "      <td>1.000000</td>\n",
       "      <td>0.233852</td>\n",
       "      <td>0.120847</td>\n",
       "      <td>0.014861</td>\n",
       "      <td>-0.015787</td>\n",
       "      <td>0.117004</td>\n",
       "      <td>0.062796</td>\n",
       "    </tr>\n",
       "    <tr>\n",
       "      <th>Channel_Code</th>\n",
       "      <td>0.150586</td>\n",
       "      <td>0.605543</td>\n",
       "      <td>-0.153822</td>\n",
       "      <td>0.233852</td>\n",
       "      <td>1.000000</td>\n",
       "      <td>0.537852</td>\n",
       "      <td>0.020034</td>\n",
       "      <td>0.099911</td>\n",
       "      <td>0.249655</td>\n",
       "      <td>0.261211</td>\n",
       "    </tr>\n",
       "    <tr>\n",
       "      <th>Vintage</th>\n",
       "      <td>0.146380</td>\n",
       "      <td>0.631242</td>\n",
       "      <td>-0.183710</td>\n",
       "      <td>0.120847</td>\n",
       "      <td>0.537852</td>\n",
       "      <td>1.000000</td>\n",
       "      <td>-0.047703</td>\n",
       "      <td>0.167433</td>\n",
       "      <td>0.209356</td>\n",
       "      <td>0.279642</td>\n",
       "    </tr>\n",
       "    <tr>\n",
       "      <th>Credit_Product</th>\n",
       "      <td>0.001726</td>\n",
       "      <td>-0.005145</td>\n",
       "      <td>0.008507</td>\n",
       "      <td>0.014861</td>\n",
       "      <td>0.020034</td>\n",
       "      <td>-0.047703</td>\n",
       "      <td>1.000000</td>\n",
       "      <td>0.011652</td>\n",
       "      <td>-0.115421</td>\n",
       "      <td>-0.192146</td>\n",
       "    </tr>\n",
       "    <tr>\n",
       "      <th>Avg_Account_Balance</th>\n",
       "      <td>0.022477</td>\n",
       "      <td>0.145232</td>\n",
       "      <td>-0.251650</td>\n",
       "      <td>-0.015787</td>\n",
       "      <td>0.099911</td>\n",
       "      <td>0.167433</td>\n",
       "      <td>0.011652</td>\n",
       "      <td>1.000000</td>\n",
       "      <td>0.076637</td>\n",
       "      <td>0.053370</td>\n",
       "    </tr>\n",
       "    <tr>\n",
       "      <th>Is_Active</th>\n",
       "      <td>0.064207</td>\n",
       "      <td>0.218770</td>\n",
       "      <td>-0.126037</td>\n",
       "      <td>0.117004</td>\n",
       "      <td>0.249655</td>\n",
       "      <td>0.209356</td>\n",
       "      <td>-0.115421</td>\n",
       "      <td>0.076637</td>\n",
       "      <td>1.000000</td>\n",
       "      <td>0.085723</td>\n",
       "    </tr>\n",
       "    <tr>\n",
       "      <th>Is_Lead</th>\n",
       "      <td>0.072068</td>\n",
       "      <td>0.230814</td>\n",
       "      <td>-0.071240</td>\n",
       "      <td>0.062796</td>\n",
       "      <td>0.261211</td>\n",
       "      <td>0.279642</td>\n",
       "      <td>-0.192146</td>\n",
       "      <td>0.053370</td>\n",
       "      <td>0.085723</td>\n",
       "      <td>1.000000</td>\n",
       "    </tr>\n",
       "  </tbody>\n",
       "</table>\n",
       "</div>"
      ],
      "text/plain": [
       "                       Gender       Age  Region_Code  Occupation  \\\n",
       "Gender               1.000000  0.152076    -0.021311    0.058284   \n",
       "Age                  0.152076  1.000000    -0.173305   -0.019709   \n",
       "Region_Code         -0.021311 -0.173305     1.000000   -0.056567   \n",
       "Occupation           0.058284 -0.019709    -0.056567    1.000000   \n",
       "Channel_Code         0.150586  0.605543    -0.153822    0.233852   \n",
       "Vintage              0.146380  0.631242    -0.183710    0.120847   \n",
       "Credit_Product       0.001726 -0.005145     0.008507    0.014861   \n",
       "Avg_Account_Balance  0.022477  0.145232    -0.251650   -0.015787   \n",
       "Is_Active            0.064207  0.218770    -0.126037    0.117004   \n",
       "Is_Lead              0.072068  0.230814    -0.071240    0.062796   \n",
       "\n",
       "                     Channel_Code   Vintage  Credit_Product  \\\n",
       "Gender                   0.150586  0.146380        0.001726   \n",
       "Age                      0.605543  0.631242       -0.005145   \n",
       "Region_Code             -0.153822 -0.183710        0.008507   \n",
       "Occupation               0.233852  0.120847        0.014861   \n",
       "Channel_Code             1.000000  0.537852        0.020034   \n",
       "Vintage                  0.537852  1.000000       -0.047703   \n",
       "Credit_Product           0.020034 -0.047703        1.000000   \n",
       "Avg_Account_Balance      0.099911  0.167433        0.011652   \n",
       "Is_Active                0.249655  0.209356       -0.115421   \n",
       "Is_Lead                  0.261211  0.279642       -0.192146   \n",
       "\n",
       "                     Avg_Account_Balance  Is_Active   Is_Lead  \n",
       "Gender                          0.022477   0.064207  0.072068  \n",
       "Age                             0.145232   0.218770  0.230814  \n",
       "Region_Code                    -0.251650  -0.126037 -0.071240  \n",
       "Occupation                     -0.015787   0.117004  0.062796  \n",
       "Channel_Code                    0.099911   0.249655  0.261211  \n",
       "Vintage                         0.167433   0.209356  0.279642  \n",
       "Credit_Product                  0.011652  -0.115421 -0.192146  \n",
       "Avg_Account_Balance             1.000000   0.076637  0.053370  \n",
       "Is_Active                       0.076637   1.000000  0.085723  \n",
       "Is_Lead                         0.053370   0.085723  1.000000  "
      ]
     },
     "execution_count": 11,
     "metadata": {},
     "output_type": "execute_result"
    }
   ],
   "source": [
    "temp.corr()"
   ]
  },
  {
   "cell_type": "code",
   "execution_count": 12,
   "metadata": {},
   "outputs": [
    {
     "data": {
      "text/plain": [
       "<AxesSubplot:>"
      ]
     },
     "execution_count": 12,
     "metadata": {},
     "output_type": "execute_result"
    },
    {
     "data": {
      "image/png": "[encoded data removed]",
      "text/plain": [
       "<Figure size 864x720 with 2 Axes>"
      ]
     },
     "metadata": {
      "needs_background": "light"
     },
     "output_type": "display_data"
    }
   ],
   "source": [
    "plt.figure(1, figsize=(12,10))\n",
    "sns.heatmap(temp.corr(),cmap=\"cubehelix\")"
   ]
  },
  {
   "cell_type": "code",
   "execution_count": 13,
   "metadata": {},
   "outputs": [
    {
     "data": {
      "text/plain": [
       "<function matplotlib.pyplot.show(close=None, block=None)>"
      ]
     },
     "execution_count": 13,
     "metadata": {},
     "output_type": "execute_result"
    },
    {
     "data": {
      "image/png": "[encoded data removed]",
      "text/plain": [
       "<Figure size 2160x432 with 10 Axes>"
      ]
     },
     "metadata": {
      "needs_background": "light"
     },
     "output_type": "display_data"
    }
   ],
   "source": [
    "plt.figure(1, figsize=(30,6))\n",
    "n=0\n",
    "for x in temp.columns:\n",
    "    n += 1\n",
    "    plt.subplot(1,temp.shape[1],n)\n",
    "    plt.subplots_adjust(hspace  = 1, wspace = 1)\n",
    "    sns.histplot(temp[x], bins =20)\n",
    "    plt.title('Distplot of {}'.format(x))\n",
    "plt.show"
   ]
  },
  {
   "cell_type": "markdown",
   "metadata": {},
   "source": [
    "##### distribution shows skewness... therefore cross validation is the way forward"
   ]
  },
  {
   "cell_type": "markdown",
   "metadata": {},
   "source": [
    "##### MinMax scaling showed decent improvment in score aso computaion time decressed a bit"
   ]
  },
  {
   "cell_type": "code",
   "execution_count": 14,
   "metadata": {},
   "outputs": [],
   "source": [
    "def transform(data):\n",
    "    scaler = MinMaxScaler(feature_range=(0,1))\n",
    "    data = scaler.fit_transform(data)\n",
    "    return data"
   ]
  },
  {
   "cell_type": "code",
   "execution_count": 15,
   "metadata": {},
   "outputs": [
    {
     "data": {
      "text/plain": [
       "array([[0.        , 0.80645161, 0.        , ..., 0.5       , 0.09920475,\n",
       "        0.        ],\n",
       "       [0.        , 0.11290323, 0.12121212, ..., 0.5       , 0.0543206 ,\n",
       "        0.        ],\n",
       "       [0.        , 0.53225806, 0.        , ..., 0.5       , 0.14166044,\n",
       "        1.        ],\n",
       "       ...,\n",
       "       [0.        , 0.0483871 , 0.36363636, ..., 0.5       , 0.06290342,\n",
       "        0.        ],\n",
       "       [0.        , 0.08064516, 0.42424242, ..., 0.5       , 0.03743159,\n",
       "        0.        ],\n",
       "       [1.        , 0.09677419, 0.18181818, ..., 0.5       , 0.10729479,\n",
       "        0.        ]])"
      ]
     },
     "execution_count": 15,
     "metadata": {},
     "output_type": "execute_result"
    }
   ],
   "source": [
    "X = temp.drop('Is_Lead',axis=1)\n",
    "X = transform(X)\n",
    "X"
   ]
  },
  {
   "cell_type": "code",
   "execution_count": 16,
   "metadata": {},
   "outputs": [
    {
     "data": {
      "text/plain": [
       "(245725, 9)"
      ]
     },
     "execution_count": 16,
     "metadata": {},
     "output_type": "execute_result"
    }
   ],
   "source": [
    "X.shape"
   ]
  },
  {
   "cell_type": "code",
   "execution_count": 17,
   "metadata": {},
   "outputs": [
    {
     "data": {
      "text/plain": [
       "0         0.0\n",
       "1         0.0\n",
       "2         0.0\n",
       "3         0.0\n",
       "4         0.0\n",
       "         ... \n",
       "245720    0.0\n",
       "245721    0.0\n",
       "245722    0.0\n",
       "245723    0.0\n",
       "245724    0.0\n",
       "Name: Is_Lead, Length: 245725, dtype: float64"
      ]
     },
     "execution_count": 17,
     "metadata": {},
     "output_type": "execute_result"
    }
   ],
   "source": [
    "Y = temp['Is_Lead']\n",
    "Y = Y.astype('float64') #data type of x and y are diffrent\n",
    "Y"
   ]
  },
  {
   "cell_type": "code",
   "execution_count": 18,
   "metadata": {},
   "outputs": [
    {
     "data": {
      "text/plain": [
       "(245725,)"
      ]
     },
     "execution_count": 18,
     "metadata": {},
     "output_type": "execute_result"
    }
   ],
   "source": [
    "Y.shape"
   ]
  },
  {
   "cell_type": "markdown",
   "metadata": {},
   "source": [
    "# Model selection"
   ]
  },
  {
   "cell_type": "code",
   "execution_count": 19,
   "metadata": {},
   "outputs": [],
   "source": [
    "from sklearn.model_selection import KFold\n",
    "from sklearn import model_selection\n",
    "\n",
    "\n",
    "from sklearn.ensemble import RandomForestClassifier\n",
    "from sklearn.linear_model import LogisticRegression\n",
    "from sklearn.tree import DecisionTreeClassifier\n",
    "from sklearn.naive_bayes import GaussianNB\n",
    "from sklearn.neighbors import KNeighborsClassifier\n",
    "from xgboost import XGBClassifier\n",
    "from sklearn.ensemble import AdaBoostClassifier\n",
    "from sklearn.ensemble import VotingClassifier\n",
    "\n",
    "#from sklearn.svm import SVC\n",
    "#from sklearn.linear_model import SGDClassifier"
   ]
  },
  {
   "cell_type": "code",
   "execution_count": 20,
   "metadata": {},
   "outputs": [],
   "source": [
    "#scoring\n",
    "from sklearn.metrics import accuracy_score\n",
    "from sklearn.metrics import roc_auc_score\n",
    "from sklearn.metrics import f1_score\n"
   ]
  },
  {
   "cell_type": "code",
   "execution_count": 21,
   "metadata": {},
   "outputs": [],
   "source": [
    "seed = 1994\n",
    "num_trees = 30\n",
    "classifier_name = []\n",
    "accuracy =  []\n",
    "roc_auc = []\n",
    "f1 = []\n",
    "time = []"
   ]
  },
  {
   "cell_type": "code",
   "execution_count": 22,
   "metadata": {},
   "outputs": [],
   "source": [
    "#Models\n",
    "#SGD_classifier = SGDClassifier()\n",
    "#svm_classifier = SVC()\n",
    "logistic_classifier = LogisticRegression()\n",
    "random_forest_classifier = RandomForestClassifier()\n",
    "decision_classifier = DecisionTreeClassifier()\n",
    "naiveB_classifier = GaussianNB()\n",
    "knn_classifier = KNeighborsClassifier()\n",
    "adb_classifier = AdaBoostClassifier( n_estimators = num_trees, random_state = seed )\n",
    "xgb_classifier = XGBClassifier(n_estimators = num_trees, random_state = seed )\n",
    "voting_classifier1 = VotingClassifier(estimators=[('lr', logistic_classifier), ('rf', random_forest_classifier), ('dtc',decision_classifier),('nbc',naiveB_classifier),('knn', knn_classifier)],voting='soft')\n",
    "voting_classifier2 = VotingClassifier(estimators=[('adb',adb_classifier),('xgb',xgb_classifier)],voting='soft')\n",
    "\n",
    "\n",
    "models = [logistic_classifier, random_forest_classifier, decision_classifier, naiveB_classifier, knn_classifier, adb_classifier, xgb_classifier, voting_classifier1,voting_classifier2]"
   ]
  },
  {
   "cell_type": "code",
   "execution_count": 23,
   "metadata": {},
   "outputs": [
    {
     "name": "stderr",
     "output_type": "stream",
     "text": [
      "C:\\Users\\anand\\anaconda3\\lib\\site-packages\\xgboost\\sklearn.py:1146: UserWarning: The use of label encoder in XGBClassifier is deprecated and will be removed in a future release. To remove this warning, do the following: 1) Pass option use_label_encoder=False when constructing XGBClassifier object; and 2) Encode your labels (y) as integers starting with 0, i.e. 0, 1, 2, ..., [num_class - 1].\n",
      "  warnings.warn(label_encoder_deprecation_msg, UserWarning)\n"
     ]
    },
    {
     "name": "stdout",
     "output_type": "stream",
     "text": [
      "[22:26:24] WARNING: C:/Users/Administrator/workspace/xgboost-win64_release_1.4.0/src/learner.cc:1095: Starting in XGBoost 1.3.0, the default evaluation metric used with the objective 'binary:logistic' was changed from 'error' to 'logloss'. Explicitly set eval_metric if you'd like to restore the old behavior.\n"
     ]
    },
    {
     "name": "stderr",
     "output_type": "stream",
     "text": [
      "C:\\Users\\anand\\anaconda3\\lib\\site-packages\\xgboost\\sklearn.py:1146: UserWarning: The use of label encoder in XGBClassifier is deprecated and will be removed in a future release. To remove this warning, do the following: 1) Pass option use_label_encoder=False when constructing XGBClassifier object; and 2) Encode your labels (y) as integers starting with 0, i.e. 0, 1, 2, ..., [num_class - 1].\n",
      "  warnings.warn(label_encoder_deprecation_msg, UserWarning)\n"
     ]
    },
    {
     "name": "stdout",
     "output_type": "stream",
     "text": [
      "[22:26:28] WARNING: C:/Users/Administrator/workspace/xgboost-win64_release_1.4.0/src/learner.cc:1095: Starting in XGBoost 1.3.0, the default evaluation metric used with the objective 'binary:logistic' was changed from 'error' to 'logloss'. Explicitly set eval_metric if you'd like to restore the old behavior.\n"
     ]
    },
    {
     "name": "stderr",
     "output_type": "stream",
     "text": [
      "C:\\Users\\anand\\anaconda3\\lib\\site-packages\\xgboost\\sklearn.py:1146: UserWarning: The use of label encoder in XGBClassifier is deprecated and will be removed in a future release. To remove this warning, do the following: 1) Pass option use_label_encoder=False when constructing XGBClassifier object; and 2) Encode your labels (y) as integers starting with 0, i.e. 0, 1, 2, ..., [num_class - 1].\n",
      "  warnings.warn(label_encoder_deprecation_msg, UserWarning)\n"
     ]
    },
    {
     "name": "stdout",
     "output_type": "stream",
     "text": [
      "[22:26:31] WARNING: C:/Users/Administrator/workspace/xgboost-win64_release_1.4.0/src/learner.cc:1095: Starting in XGBoost 1.3.0, the default evaluation metric used with the objective 'binary:logistic' was changed from 'error' to 'logloss'. Explicitly set eval_metric if you'd like to restore the old behavior.\n"
     ]
    },
    {
     "name": "stderr",
     "output_type": "stream",
     "text": [
      "C:\\Users\\anand\\anaconda3\\lib\\site-packages\\xgboost\\sklearn.py:1146: UserWarning: The use of label encoder in XGBClassifier is deprecated and will be removed in a future release. To remove this warning, do the following: 1) Pass option use_label_encoder=False when constructing XGBClassifier object; and 2) Encode your labels (y) as integers starting with 0, i.e. 0, 1, 2, ..., [num_class - 1].\n",
      "  warnings.warn(label_encoder_deprecation_msg, UserWarning)\n"
     ]
    },
    {
     "name": "stdout",
     "output_type": "stream",
     "text": [
      "[22:26:35] WARNING: C:/Users/Administrator/workspace/xgboost-win64_release_1.4.0/src/learner.cc:1095: Starting in XGBoost 1.3.0, the default evaluation metric used with the objective 'binary:logistic' was changed from 'error' to 'logloss'. Explicitly set eval_metric if you'd like to restore the old behavior.\n"
     ]
    },
    {
     "name": "stderr",
     "output_type": "stream",
     "text": [
      "C:\\Users\\anand\\anaconda3\\lib\\site-packages\\xgboost\\sklearn.py:1146: UserWarning: The use of label encoder in XGBClassifier is deprecated and will be removed in a future release. To remove this warning, do the following: 1) Pass option use_label_encoder=False when constructing XGBClassifier object; and 2) Encode your labels (y) as integers starting with 0, i.e. 0, 1, 2, ..., [num_class - 1].\n",
      "  warnings.warn(label_encoder_deprecation_msg, UserWarning)\n"
     ]
    },
    {
     "name": "stdout",
     "output_type": "stream",
     "text": [
      "[22:26:39] WARNING: C:/Users/Administrator/workspace/xgboost-win64_release_1.4.0/src/learner.cc:1095: Starting in XGBoost 1.3.0, the default evaluation metric used with the objective 'binary:logistic' was changed from 'error' to 'logloss'. Explicitly set eval_metric if you'd like to restore the old behavior.\n"
     ]
    },
    {
     "name": "stderr",
     "output_type": "stream",
     "text": [
      "C:\\Users\\anand\\anaconda3\\lib\\site-packages\\xgboost\\sklearn.py:1146: UserWarning: The use of label encoder in XGBClassifier is deprecated and will be removed in a future release. To remove this warning, do the following: 1) Pass option use_label_encoder=False when constructing XGBClassifier object; and 2) Encode your labels (y) as integers starting with 0, i.e. 0, 1, 2, ..., [num_class - 1].\n",
      "  warnings.warn(label_encoder_deprecation_msg, UserWarning)\n"
     ]
    },
    {
     "name": "stdout",
     "output_type": "stream",
     "text": [
      "[22:26:42] WARNING: C:/Users/Administrator/workspace/xgboost-win64_release_1.4.0/src/learner.cc:1095: Starting in XGBoost 1.3.0, the default evaluation metric used with the objective 'binary:logistic' was changed from 'error' to 'logloss'. Explicitly set eval_metric if you'd like to restore the old behavior.\n"
     ]
    },
    {
     "name": "stderr",
     "output_type": "stream",
     "text": [
      "C:\\Users\\anand\\anaconda3\\lib\\site-packages\\xgboost\\sklearn.py:1146: UserWarning: The use of label encoder in XGBClassifier is deprecated and will be removed in a future release. To remove this warning, do the following: 1) Pass option use_label_encoder=False when constructing XGBClassifier object; and 2) Encode your labels (y) as integers starting with 0, i.e. 0, 1, 2, ..., [num_class - 1].\n",
      "  warnings.warn(label_encoder_deprecation_msg, UserWarning)\n"
     ]
    },
    {
     "name": "stdout",
     "output_type": "stream",
     "text": [
      "[22:26:46] WARNING: C:/Users/Administrator/workspace/xgboost-win64_release_1.4.0/src/learner.cc:1095: Starting in XGBoost 1.3.0, the default evaluation metric used with the objective 'binary:logistic' was changed from 'error' to 'logloss'. Explicitly set eval_metric if you'd like to restore the old behavior.\n"
     ]
    },
    {
     "name": "stderr",
     "output_type": "stream",
     "text": [
      "C:\\Users\\anand\\anaconda3\\lib\\site-packages\\xgboost\\sklearn.py:1146: UserWarning: The use of label encoder in XGBClassifier is deprecated and will be removed in a future release. To remove this warning, do the following: 1) Pass option use_label_encoder=False when constructing XGBClassifier object; and 2) Encode your labels (y) as integers starting with 0, i.e. 0, 1, 2, ..., [num_class - 1].\n",
      "  warnings.warn(label_encoder_deprecation_msg, UserWarning)\n"
     ]
    },
    {
     "name": "stdout",
     "output_type": "stream",
     "text": [
      "[22:26:50] WARNING: C:/Users/Administrator/workspace/xgboost-win64_release_1.4.0/src/learner.cc:1095: Starting in XGBoost 1.3.0, the default evaluation metric used with the objective 'binary:logistic' was changed from 'error' to 'logloss'. Explicitly set eval_metric if you'd like to restore the old behavior.\n"
     ]
    },
    {
     "name": "stderr",
     "output_type": "stream",
     "text": [
      "C:\\Users\\anand\\anaconda3\\lib\\site-packages\\xgboost\\sklearn.py:1146: UserWarning: The use of label encoder in XGBClassifier is deprecated and will be removed in a future release. To remove this warning, do the following: 1) Pass option use_label_encoder=False when constructing XGBClassifier object; and 2) Encode your labels (y) as integers starting with 0, i.e. 0, 1, 2, ..., [num_class - 1].\n",
      "  warnings.warn(label_encoder_deprecation_msg, UserWarning)\n"
     ]
    },
    {
     "name": "stdout",
     "output_type": "stream",
     "text": [
      "[22:26:53] WARNING: C:/Users/Administrator/workspace/xgboost-win64_release_1.4.0/src/learner.cc:1095: Starting in XGBoost 1.3.0, the default evaluation metric used with the objective 'binary:logistic' was changed from 'error' to 'logloss'. Explicitly set eval_metric if you'd like to restore the old behavior.\n"
     ]
    },
    {
     "name": "stderr",
     "output_type": "stream",
     "text": [
      "C:\\Users\\anand\\anaconda3\\lib\\site-packages\\xgboost\\sklearn.py:1146: UserWarning: The use of label encoder in XGBClassifier is deprecated and will be removed in a future release. To remove this warning, do the following: 1) Pass option use_label_encoder=False when constructing XGBClassifier object; and 2) Encode your labels (y) as integers starting with 0, i.e. 0, 1, 2, ..., [num_class - 1].\n",
      "  warnings.warn(label_encoder_deprecation_msg, UserWarning)\n"
     ]
    },
    {
     "name": "stdout",
     "output_type": "stream",
     "text": [
      "[22:26:57] WARNING: C:/Users/Administrator/workspace/xgboost-win64_release_1.4.0/src/learner.cc:1095: Starting in XGBoost 1.3.0, the default evaluation metric used with the objective 'binary:logistic' was changed from 'error' to 'logloss'. Explicitly set eval_metric if you'd like to restore the old behavior.\n"
     ]
    },
    {
     "name": "stderr",
     "output_type": "stream",
     "text": [
      "C:\\Users\\anand\\anaconda3\\lib\\site-packages\\xgboost\\sklearn.py:1146: UserWarning: The use of label encoder in XGBClassifier is deprecated and will be removed in a future release. To remove this warning, do the following: 1) Pass option use_label_encoder=False when constructing XGBClassifier object; and 2) Encode your labels (y) as integers starting with 0, i.e. 0, 1, 2, ..., [num_class - 1].\n",
      "  warnings.warn(label_encoder_deprecation_msg, UserWarning)\n"
     ]
    },
    {
     "name": "stdout",
     "output_type": "stream",
     "text": [
      "[22:40:27] WARNING: C:/Users/Administrator/workspace/xgboost-win64_release_1.4.0/src/learner.cc:1095: Starting in XGBoost 1.3.0, the default evaluation metric used with the objective 'binary:logistic' was changed from 'error' to 'logloss'. Explicitly set eval_metric if you'd like to restore the old behavior.\n"
     ]
    },
    {
     "name": "stderr",
     "output_type": "stream",
     "text": [
      "C:\\Users\\anand\\anaconda3\\lib\\site-packages\\xgboost\\sklearn.py:1146: UserWarning: The use of label encoder in XGBClassifier is deprecated and will be removed in a future release. To remove this warning, do the following: 1) Pass option use_label_encoder=False when constructing XGBClassifier object; and 2) Encode your labels (y) as integers starting with 0, i.e. 0, 1, 2, ..., [num_class - 1].\n",
      "  warnings.warn(label_encoder_deprecation_msg, UserWarning)\n"
     ]
    },
    {
     "name": "stdout",
     "output_type": "stream",
     "text": [
      "[22:40:35] WARNING: C:/Users/Administrator/workspace/xgboost-win64_release_1.4.0/src/learner.cc:1095: Starting in XGBoost 1.3.0, the default evaluation metric used with the objective 'binary:logistic' was changed from 'error' to 'logloss'. Explicitly set eval_metric if you'd like to restore the old behavior.\n"
     ]
    },
    {
     "name": "stderr",
     "output_type": "stream",
     "text": [
      "C:\\Users\\anand\\anaconda3\\lib\\site-packages\\xgboost\\sklearn.py:1146: UserWarning: The use of label encoder in XGBClassifier is deprecated and will be removed in a future release. To remove this warning, do the following: 1) Pass option use_label_encoder=False when constructing XGBClassifier object; and 2) Encode your labels (y) as integers starting with 0, i.e. 0, 1, 2, ..., [num_class - 1].\n",
      "  warnings.warn(label_encoder_deprecation_msg, UserWarning)\n"
     ]
    },
    {
     "name": "stdout",
     "output_type": "stream",
     "text": [
      "[22:40:44] WARNING: C:/Users/Administrator/workspace/xgboost-win64_release_1.4.0/src/learner.cc:1095: Starting in XGBoost 1.3.0, the default evaluation metric used with the objective 'binary:logistic' was changed from 'error' to 'logloss'. Explicitly set eval_metric if you'd like to restore the old behavior.\n"
     ]
    },
    {
     "name": "stderr",
     "output_type": "stream",
     "text": [
      "C:\\Users\\anand\\anaconda3\\lib\\site-packages\\xgboost\\sklearn.py:1146: UserWarning: The use of label encoder in XGBClassifier is deprecated and will be removed in a future release. To remove this warning, do the following: 1) Pass option use_label_encoder=False when constructing XGBClassifier object; and 2) Encode your labels (y) as integers starting with 0, i.e. 0, 1, 2, ..., [num_class - 1].\n",
      "  warnings.warn(label_encoder_deprecation_msg, UserWarning)\n"
     ]
    },
    {
     "name": "stdout",
     "output_type": "stream",
     "text": [
      "[22:40:52] WARNING: C:/Users/Administrator/workspace/xgboost-win64_release_1.4.0/src/learner.cc:1095: Starting in XGBoost 1.3.0, the default evaluation metric used with the objective 'binary:logistic' was changed from 'error' to 'logloss'. Explicitly set eval_metric if you'd like to restore the old behavior.\n"
     ]
    },
    {
     "name": "stderr",
     "output_type": "stream",
     "text": [
      "C:\\Users\\anand\\anaconda3\\lib\\site-packages\\xgboost\\sklearn.py:1146: UserWarning: The use of label encoder in XGBClassifier is deprecated and will be removed in a future release. To remove this warning, do the following: 1) Pass option use_label_encoder=False when constructing XGBClassifier object; and 2) Encode your labels (y) as integers starting with 0, i.e. 0, 1, 2, ..., [num_class - 1].\n",
      "  warnings.warn(label_encoder_deprecation_msg, UserWarning)\n"
     ]
    },
    {
     "name": "stdout",
     "output_type": "stream",
     "text": [
      "[22:41:00] WARNING: C:/Users/Administrator/workspace/xgboost-win64_release_1.4.0/src/learner.cc:1095: Starting in XGBoost 1.3.0, the default evaluation metric used with the objective 'binary:logistic' was changed from 'error' to 'logloss'. Explicitly set eval_metric if you'd like to restore the old behavior.\n"
     ]
    },
    {
     "name": "stderr",
     "output_type": "stream",
     "text": [
      "C:\\Users\\anand\\anaconda3\\lib\\site-packages\\xgboost\\sklearn.py:1146: UserWarning: The use of label encoder in XGBClassifier is deprecated and will be removed in a future release. To remove this warning, do the following: 1) Pass option use_label_encoder=False when constructing XGBClassifier object; and 2) Encode your labels (y) as integers starting with 0, i.e. 0, 1, 2, ..., [num_class - 1].\n",
      "  warnings.warn(label_encoder_deprecation_msg, UserWarning)\n"
     ]
    },
    {
     "name": "stdout",
     "output_type": "stream",
     "text": [
      "[22:41:08] WARNING: C:/Users/Administrator/workspace/xgboost-win64_release_1.4.0/src/learner.cc:1095: Starting in XGBoost 1.3.0, the default evaluation metric used with the objective 'binary:logistic' was changed from 'error' to 'logloss'. Explicitly set eval_metric if you'd like to restore the old behavior.\n"
     ]
    },
    {
     "name": "stderr",
     "output_type": "stream",
     "text": [
      "C:\\Users\\anand\\anaconda3\\lib\\site-packages\\xgboost\\sklearn.py:1146: UserWarning: The use of label encoder in XGBClassifier is deprecated and will be removed in a future release. To remove this warning, do the following: 1) Pass option use_label_encoder=False when constructing XGBClassifier object; and 2) Encode your labels (y) as integers starting with 0, i.e. 0, 1, 2, ..., [num_class - 1].\n",
      "  warnings.warn(label_encoder_deprecation_msg, UserWarning)\n"
     ]
    },
    {
     "name": "stdout",
     "output_type": "stream",
     "text": [
      "[22:41:17] WARNING: C:/Users/Administrator/workspace/xgboost-win64_release_1.4.0/src/learner.cc:1095: Starting in XGBoost 1.3.0, the default evaluation metric used with the objective 'binary:logistic' was changed from 'error' to 'logloss'. Explicitly set eval_metric if you'd like to restore the old behavior.\n"
     ]
    },
    {
     "name": "stderr",
     "output_type": "stream",
     "text": [
      "C:\\Users\\anand\\anaconda3\\lib\\site-packages\\xgboost\\sklearn.py:1146: UserWarning: The use of label encoder in XGBClassifier is deprecated and will be removed in a future release. To remove this warning, do the following: 1) Pass option use_label_encoder=False when constructing XGBClassifier object; and 2) Encode your labels (y) as integers starting with 0, i.e. 0, 1, 2, ..., [num_class - 1].\n",
      "  warnings.warn(label_encoder_deprecation_msg, UserWarning)\n"
     ]
    },
    {
     "name": "stdout",
     "output_type": "stream",
     "text": [
      "[22:41:25] WARNING: C:/Users/Administrator/workspace/xgboost-win64_release_1.4.0/src/learner.cc:1095: Starting in XGBoost 1.3.0, the default evaluation metric used with the objective 'binary:logistic' was changed from 'error' to 'logloss'. Explicitly set eval_metric if you'd like to restore the old behavior.\n"
     ]
    },
    {
     "name": "stderr",
     "output_type": "stream",
     "text": [
      "C:\\Users\\anand\\anaconda3\\lib\\site-packages\\xgboost\\sklearn.py:1146: UserWarning: The use of label encoder in XGBClassifier is deprecated and will be removed in a future release. To remove this warning, do the following: 1) Pass option use_label_encoder=False when constructing XGBClassifier object; and 2) Encode your labels (y) as integers starting with 0, i.e. 0, 1, 2, ..., [num_class - 1].\n",
      "  warnings.warn(label_encoder_deprecation_msg, UserWarning)\n"
     ]
    },
    {
     "name": "stdout",
     "output_type": "stream",
     "text": [
      "[22:41:34] WARNING: C:/Users/Administrator/workspace/xgboost-win64_release_1.4.0/src/learner.cc:1095: Starting in XGBoost 1.3.0, the default evaluation metric used with the objective 'binary:logistic' was changed from 'error' to 'logloss'. Explicitly set eval_metric if you'd like to restore the old behavior.\n"
     ]
    },
    {
     "name": "stderr",
     "output_type": "stream",
     "text": [
      "C:\\Users\\anand\\anaconda3\\lib\\site-packages\\xgboost\\sklearn.py:1146: UserWarning: The use of label encoder in XGBClassifier is deprecated and will be removed in a future release. To remove this warning, do the following: 1) Pass option use_label_encoder=False when constructing XGBClassifier object; and 2) Encode your labels (y) as integers starting with 0, i.e. 0, 1, 2, ..., [num_class - 1].\n",
      "  warnings.warn(label_encoder_deprecation_msg, UserWarning)\n"
     ]
    },
    {
     "name": "stdout",
     "output_type": "stream",
     "text": [
      "[22:41:43] WARNING: C:/Users/Administrator/workspace/xgboost-win64_release_1.4.0/src/learner.cc:1095: Starting in XGBoost 1.3.0, the default evaluation metric used with the objective 'binary:logistic' was changed from 'error' to 'logloss'. Explicitly set eval_metric if you'd like to restore the old behavior.\n"
     ]
    }
   ],
   "source": [
    "\n",
    "kfold = model_selection.KFold( n_splits = 10, random_state = seed, shuffle=True)\n",
    "\n",
    "for model in models:\n",
    "    results = model_selection.cross_validate(model, X, Y, cv = kfold, scoring=['accuracy','roc_auc','f1'])\n",
    "    classifier_name.append(model.__class__.__name__)\n",
    "    accuracy.append(results['test_accuracy'])\n",
    "    roc_auc.append(results['test_roc_auc'])\n",
    "    f1.append(results['test_f1'])\n",
    "    time.append(results['fit_time'])\n"
   ]
  },
  {
   "cell_type": "code",
   "execution_count": 24,
   "metadata": {},
   "outputs": [
    {
     "data": {
      "text/html": [
       "<div>\n",
       "<style scoped>\n",
       "    .dataframe tbody tr th:only-of-type {\n",
       "        vertical-align: middle;\n",
       "    }\n",
       "\n",
       "    .dataframe tbody tr th {\n",
       "        vertical-align: top;\n",
       "    }\n",
       "\n",
       "    .dataframe thead th {\n",
       "        text-align: right;\n",
       "    }\n",
       "</style>\n",
       "<table border=\"1\" class=\"dataframe\">\n",
       "  <thead>\n",
       "    <tr style=\"text-align: right;\">\n",
       "      <th></th>\n",
       "      <th>Model</th>\n",
       "      <th>accuracy</th>\n",
       "      <th>roc_auc</th>\n",
       "      <th>f1</th>\n",
       "      <th>Time</th>\n",
       "    </tr>\n",
       "  </thead>\n",
       "  <tbody>\n",
       "    <tr>\n",
       "      <th>0</th>\n",
       "      <td>LogisticRegression</td>\n",
       "      <td>[0.7837870833842022, 0.7895657835836081, 0.788...</td>\n",
       "      <td>[0.716056064246164, 0.724217960436667, 0.72869...</td>\n",
       "      <td>[0.33794392523364486, 0.3548346849656893, 0.34...</td>\n",
       "      <td>[0.9928724765777588, 0.7636425495147705, 0.558...</td>\n",
       "    </tr>\n",
       "    <tr>\n",
       "      <th>1</th>\n",
       "      <td>RandomForestClassifier</td>\n",
       "      <td>[0.8498758800309283, 0.8528873153461116, 0.852...</td>\n",
       "      <td>[0.8547471620180034, 0.8583796832141933, 0.858...</td>\n",
       "      <td>[0.6415314352346712, 0.6462471866131716, 0.650...</td>\n",
       "      <td>[29.489602088928223, 30.418604850769043, 28.78...</td>\n",
       "    </tr>\n",
       "    <tr>\n",
       "      <th>2</th>\n",
       "      <td>DecisionTreeClassifier</td>\n",
       "      <td>[0.784438204533431, 0.7870426891303464, 0.7861...</td>\n",
       "      <td>[0.7080956839819375, 0.7093030038322502, 0.706...</td>\n",
       "      <td>[0.5546119566131337, 0.5542209728256241, 0.552...</td>\n",
       "      <td>[1.2302179336547852, 1.257500410079956, 1.1787...</td>\n",
       "    </tr>\n",
       "    <tr>\n",
       "      <th>3</th>\n",
       "      <td>GaussianNB</td>\n",
       "      <td>[0.7727180238473121, 0.7778049078256624, 0.777...</td>\n",
       "      <td>[0.7912617581816627, 0.7970022261487715, 0.798...</td>\n",
       "      <td>[0.5529496518050109, 0.5587522224018102, 0.559...</td>\n",
       "      <td>[0.07477664947509766, 0.07480430603027344, 0.0...</td>\n",
       "    </tr>\n",
       "    <tr>\n",
       "      <th>4</th>\n",
       "      <td>KNeighborsClassifier</td>\n",
       "      <td>[0.8428356326048916, 0.8459691531355553, 0.846...</td>\n",
       "      <td>[0.820779158585198, 0.8273889940091047, 0.8262...</td>\n",
       "      <td>[0.6334472285497342, 0.6376950320666218, 0.642...</td>\n",
       "      <td>[36.11435341835022, 33.84621477127075, 32.8117...</td>\n",
       "    </tr>\n",
       "    <tr>\n",
       "      <th>5</th>\n",
       "      <td>AdaBoostClassifier</td>\n",
       "      <td>[0.8519106336222684, 0.8571602978879258, 0.855...</td>\n",
       "      <td>[0.8635114820137006, 0.8680785782078579, 0.865...</td>\n",
       "      <td>[0.6100932176149148, 0.6212775140267587, 0.618...</td>\n",
       "      <td>[4.408797264099121, 4.489642143249512, 4.57862...</td>\n",
       "    </tr>\n",
       "    <tr>\n",
       "      <th>6</th>\n",
       "      <td>XGBClassifier</td>\n",
       "      <td>[0.857933504252635, 0.862247181866276, 0.86322...</td>\n",
       "      <td>[0.8733771078440447, 0.8767447296529627, 0.874...</td>\n",
       "      <td>[0.6449710159666429, 0.6525710766704301, 0.658...</td>\n",
       "      <td>[4.419454574584961, 3.536500930786133, 3.61131...</td>\n",
       "    </tr>\n",
       "    <tr>\n",
       "      <th>7</th>\n",
       "      <td>VotingClassifier</td>\n",
       "      <td>[0.8449110812680585, 0.847474870793147, 0.8481...</td>\n",
       "      <td>[0.838928060559746, 0.8437606532676671, 0.8446...</td>\n",
       "      <td>[0.6264824071351563, 0.6289108910891089, 0.635...</td>\n",
       "      <td>[70.45159482955933, 70.03558659553528, 68.4867...</td>\n",
       "    </tr>\n",
       "    <tr>\n",
       "      <th>8</th>\n",
       "      <td>VotingClassifier</td>\n",
       "      <td>[0.857933504252635, 0.8621250966507956, 0.8632...</td>\n",
       "      <td>[0.8732480333007766, 0.8765276155518146, 0.874...</td>\n",
       "      <td>[0.643811855933068, 0.6510813594232749, 0.6583...</td>\n",
       "      <td>[8.743941307067871, 8.230270862579346, 8.22884...</td>\n",
       "    </tr>\n",
       "  </tbody>\n",
       "</table>\n",
       "</div>"
      ],
      "text/plain": [
       "                    Model                                           accuracy  \\\n",
       "0      LogisticRegression  [0.7837870833842022, 0.7895657835836081, 0.788...   \n",
       "1  RandomForestClassifier  [0.8498758800309283, 0.8528873153461116, 0.852...   \n",
       "2  DecisionTreeClassifier  [0.784438204533431, 0.7870426891303464, 0.7861...   \n",
       "3              GaussianNB  [0.7727180238473121, 0.7778049078256624, 0.777...   \n",
       "4    KNeighborsClassifier  [0.8428356326048916, 0.8459691531355553, 0.846...   \n",
       "5      AdaBoostClassifier  [0.8519106336222684, 0.8571602978879258, 0.855...   \n",
       "6           XGBClassifier  [0.857933504252635, 0.862247181866276, 0.86322...   \n",
       "7        VotingClassifier  [0.8449110812680585, 0.847474870793147, 0.8481...   \n",
       "8        VotingClassifier  [0.857933504252635, 0.8621250966507956, 0.8632...   \n",
       "\n",
       "                                             roc_auc  \\\n",
       "0  [0.716056064246164, 0.724217960436667, 0.72869...   \n",
       "1  [0.8547471620180034, 0.8583796832141933, 0.858...   \n",
       "2  [0.7080956839819375, 0.7093030038322502, 0.706...   \n",
       "3  [0.7912617581816627, 0.7970022261487715, 0.798...   \n",
       "4  [0.820779158585198, 0.8273889940091047, 0.8262...   \n",
       "5  [0.8635114820137006, 0.8680785782078579, 0.865...   \n",
       "6  [0.8733771078440447, 0.8767447296529627, 0.874...   \n",
       "7  [0.838928060559746, 0.8437606532676671, 0.8446...   \n",
       "8  [0.8732480333007766, 0.8765276155518146, 0.874...   \n",
       "\n",
       "                                                  f1  \\\n",
       "0  [0.33794392523364486, 0.3548346849656893, 0.34...   \n",
       "1  [0.6415314352346712, 0.6462471866131716, 0.650...   \n",
       "2  [0.5546119566131337, 0.5542209728256241, 0.552...   \n",
       "3  [0.5529496518050109, 0.5587522224018102, 0.559...   \n",
       "4  [0.6334472285497342, 0.6376950320666218, 0.642...   \n",
       "5  [0.6100932176149148, 0.6212775140267587, 0.618...   \n",
       "6  [0.6449710159666429, 0.6525710766704301, 0.658...   \n",
       "7  [0.6264824071351563, 0.6289108910891089, 0.635...   \n",
       "8  [0.643811855933068, 0.6510813594232749, 0.6583...   \n",
       "\n",
       "                                                Time  \n",
       "0  [0.9928724765777588, 0.7636425495147705, 0.558...  \n",
       "1  [29.489602088928223, 30.418604850769043, 28.78...  \n",
       "2  [1.2302179336547852, 1.257500410079956, 1.1787...  \n",
       "3  [0.07477664947509766, 0.07480430603027344, 0.0...  \n",
       "4  [36.11435341835022, 33.84621477127075, 32.8117...  \n",
       "5  [4.408797264099121, 4.489642143249512, 4.57862...  \n",
       "6  [4.419454574584961, 3.536500930786133, 3.61131...  \n",
       "7  [70.45159482955933, 70.03558659553528, 68.4867...  \n",
       "8  [8.743941307067871, 8.230270862579346, 8.22884...  "
      ]
     },
     "execution_count": 24,
     "metadata": {},
     "output_type": "execute_result"
    }
   ],
   "source": [
    "evaluation = pd.DataFrame({'Model': classifier_name,\n",
    "                           'accuracy': accuracy,\n",
    "                          'roc_auc':roc_auc,\n",
    "                          'f1':f1,\n",
    "                         'Time': time})\n",
    "evaluation"
   ]
  },
  {
   "cell_type": "markdown",
   "metadata": {},
   "source": [
    "# Xgb showed best resut  therefore its selected\n",
    "# model parameter tuning"
   ]
  },
  {
   "cell_type": "code",
   "execution_count": null,
   "metadata": {},
   "outputs": [],
   "source": [
    "seed = 1994\n",
    "num_trees = 30\n",
    "#classifier_name = []\n",
    "fold = []\n",
    "accuracy =  []\n",
    "roc_auc = []\n",
    "f1 = []\n",
    "time = []"
   ]
  },
  {
   "cell_type": "code",
   "execution_count": null,
   "metadata": {},
   "outputs": [],
   "source": [
    "model = XGBClassifier(n_estimators = num_trees, random_state = seed )\n",
    "\n",
    "for x in range(7,12):\n",
    "    kfold = model_selection.KFold( n_splits = x, random_state = seed, shuffle=True)\n",
    "\n",
    "    results = model_selection.cross_validate(model, X, Y, cv = kfold, scoring=['accuracy','roc_auc','f1'])\n",
    "    #classifier_name.append(model.__class__.__name__)\n",
    "    fold.append(x)\n",
    "    accuracy.append(results['test_accuracy'])\n",
    "    roc_auc.append(results['test_roc_auc'])\n",
    "    f1.append(results['test_f1'])\n",
    "    time.append(results['fit_time'])"
   ]
  },
  {
   "cell_type": "code",
   "execution_count": null,
   "metadata": {},
   "outputs": [],
   "source": [
    "evaluation = pd.DataFrame({'fold': fold,\n",
    "                           'accuracy': accuracy,\n",
    "                          'roc_auc':roc_auc,\n",
    "                          'f1':f1,\n",
    "                         'Time': time})\n",
    "evaluation"
   ]
  },
  {
   "cell_type": "markdown",
   "metadata": {},
   "source": [
    "# Model Training"
   ]
  },
  {
   "cell_type": "code",
   "execution_count": null,
   "metadata": {},
   "outputs": [],
   "source": [
    "             'reg_lambda': 29.326, \n",
    "             'subsample': 0.91, \n",
    "             'colsample_bytree': 0.33, \n",
    "             'colsample_bynode': 0.870,"
   ]
  },
  {
   "cell_type": "code",
   "execution_count": 87,
   "metadata": {},
   "outputs": [],
   "source": [
    "\n",
    "xgb_params= {'n_estimators': 30,\n",
    "             'random_state': 1994,\n",
    "             'max_depth': 20, \n",
    "             'learning_rate': 0.015,\n",
    "             'eval_metric':'auc'}"
   ]
  },
  {
   "cell_type": "code",
   "execution_count": 88,
   "metadata": {},
   "outputs": [],
   "source": [
    "def cross_val(X,Y,model,params, folds):\n",
    "    \n",
    "    kfold = KFold( n_splits = folds, random_state = seed, shuffle=True)\n",
    "    for fold, (train_idx, test_idx) in enumerate(kfold.split(X,Y)):\n",
    "        print(\"fold :\", fold)\n",
    "        \n",
    "        x_train, y_train = X[train_idx], Y[train_idx]\n",
    "        x_test, y_test = X[test_idx], Y[test_idx]\n",
    "        \n",
    "        alg = model(**params)\n",
    "        alg.fit(x_train, y_train, eval_set = [(x_test, y_test)],early_stopping_rounds=100,verbose=400)\n",
    "        \n",
    "        pred = alg.predict_proba(x_test)[:, 1]\n",
    "        roc_score = roc_auc_score(y_test, pred)\n",
    "        print(f\"roc_auc_score: {roc_score}\")\n",
    "        print(\"-\"*50)\n",
    "    \n",
    "    return alg\n",
    "    \n",
    "    "
   ]
  },
  {
   "cell_type": "code",
   "execution_count": 89,
   "metadata": {},
   "outputs": [
    {
     "name": "stdout",
     "output_type": "stream",
     "text": [
      "fold : 0\n"
     ]
    },
    {
     "name": "stderr",
     "output_type": "stream",
     "text": [
      "C:\\Users\\anand\\anaconda3\\lib\\site-packages\\xgboost\\sklearn.py:1146: UserWarning: The use of label encoder in XGBClassifier is deprecated and will be removed in a future release. To remove this warning, do the following: 1) Pass option use_label_encoder=False when constructing XGBClassifier object; and 2) Encode your labels (y) as integers starting with 0, i.e. 0, 1, 2, ..., [num_class - 1].\n",
      "  warnings.warn(label_encoder_deprecation_msg, UserWarning)\n"
     ]
    },
    {
     "name": "stdout",
     "output_type": "stream",
     "text": [
      "[0]\tvalidation_0-auc:0.86229\n",
      "[29]\tvalidation_0-auc:0.86424\n",
      "roc_auc_score: 0.8645916398102221\n",
      "--------------------------------------------------\n",
      "fold : 1\n"
     ]
    },
    {
     "name": "stderr",
     "output_type": "stream",
     "text": [
      "C:\\Users\\anand\\anaconda3\\lib\\site-packages\\xgboost\\sklearn.py:1146: UserWarning: The use of label encoder in XGBClassifier is deprecated and will be removed in a future release. To remove this warning, do the following: 1) Pass option use_label_encoder=False when constructing XGBClassifier object; and 2) Encode your labels (y) as integers starting with 0, i.e. 0, 1, 2, ..., [num_class - 1].\n",
      "  warnings.warn(label_encoder_deprecation_msg, UserWarning)\n"
     ]
    },
    {
     "name": "stdout",
     "output_type": "stream",
     "text": [
      "[0]\tvalidation_0-auc:0.86511\n",
      "[29]\tvalidation_0-auc:0.86905\n",
      "roc_auc_score: 0.8690478300294447\n",
      "--------------------------------------------------\n",
      "fold : 2\n"
     ]
    },
    {
     "name": "stderr",
     "output_type": "stream",
     "text": [
      "C:\\Users\\anand\\anaconda3\\lib\\site-packages\\xgboost\\sklearn.py:1146: UserWarning: The use of label encoder in XGBClassifier is deprecated and will be removed in a future release. To remove this warning, do the following: 1) Pass option use_label_encoder=False when constructing XGBClassifier object; and 2) Encode your labels (y) as integers starting with 0, i.e. 0, 1, 2, ..., [num_class - 1].\n",
      "  warnings.warn(label_encoder_deprecation_msg, UserWarning)\n"
     ]
    },
    {
     "name": "stdout",
     "output_type": "stream",
     "text": [
      "[0]\tvalidation_0-auc:0.86044\n",
      "[29]\tvalidation_0-auc:0.86464\n",
      "roc_auc_score: 0.8646457766789294\n",
      "--------------------------------------------------\n",
      "fold : 3\n"
     ]
    },
    {
     "name": "stderr",
     "output_type": "stream",
     "text": [
      "C:\\Users\\anand\\anaconda3\\lib\\site-packages\\xgboost\\sklearn.py:1146: UserWarning: The use of label encoder in XGBClassifier is deprecated and will be removed in a future release. To remove this warning, do the following: 1) Pass option use_label_encoder=False when constructing XGBClassifier object; and 2) Encode your labels (y) as integers starting with 0, i.e. 0, 1, 2, ..., [num_class - 1].\n",
      "  warnings.warn(label_encoder_deprecation_msg, UserWarning)\n"
     ]
    },
    {
     "name": "stdout",
     "output_type": "stream",
     "text": [
      "[0]\tvalidation_0-auc:0.86250\n",
      "[29]\tvalidation_0-auc:0.86446\n",
      "roc_auc_score: 0.8647404963314183\n",
      "--------------------------------------------------\n",
      "fold : 4\n"
     ]
    },
    {
     "name": "stderr",
     "output_type": "stream",
     "text": [
      "C:\\Users\\anand\\anaconda3\\lib\\site-packages\\xgboost\\sklearn.py:1146: UserWarning: The use of label encoder in XGBClassifier is deprecated and will be removed in a future release. To remove this warning, do the following: 1) Pass option use_label_encoder=False when constructing XGBClassifier object; and 2) Encode your labels (y) as integers starting with 0, i.e. 0, 1, 2, ..., [num_class - 1].\n",
      "  warnings.warn(label_encoder_deprecation_msg, UserWarning)\n"
     ]
    },
    {
     "name": "stdout",
     "output_type": "stream",
     "text": [
      "[0]\tvalidation_0-auc:0.85533\n",
      "[29]\tvalidation_0-auc:0.85955\n",
      "roc_auc_score: 0.8595531767626612\n",
      "--------------------------------------------------\n",
      "fold : 5\n"
     ]
    },
    {
     "name": "stderr",
     "output_type": "stream",
     "text": [
      "C:\\Users\\anand\\anaconda3\\lib\\site-packages\\xgboost\\sklearn.py:1146: UserWarning: The use of label encoder in XGBClassifier is deprecated and will be removed in a future release. To remove this warning, do the following: 1) Pass option use_label_encoder=False when constructing XGBClassifier object; and 2) Encode your labels (y) as integers starting with 0, i.e. 0, 1, 2, ..., [num_class - 1].\n",
      "  warnings.warn(label_encoder_deprecation_msg, UserWarning)\n"
     ]
    },
    {
     "name": "stdout",
     "output_type": "stream",
     "text": [
      "[0]\tvalidation_0-auc:0.85919\n",
      "[29]\tvalidation_0-auc:0.86251\n",
      "roc_auc_score: 0.8625138490247712\n",
      "--------------------------------------------------\n",
      "fold : 6\n"
     ]
    },
    {
     "name": "stderr",
     "output_type": "stream",
     "text": [
      "C:\\Users\\anand\\anaconda3\\lib\\site-packages\\xgboost\\sklearn.py:1146: UserWarning: The use of label encoder in XGBClassifier is deprecated and will be removed in a future release. To remove this warning, do the following: 1) Pass option use_label_encoder=False when constructing XGBClassifier object; and 2) Encode your labels (y) as integers starting with 0, i.e. 0, 1, 2, ..., [num_class - 1].\n",
      "  warnings.warn(label_encoder_deprecation_msg, UserWarning)\n"
     ]
    },
    {
     "name": "stdout",
     "output_type": "stream",
     "text": [
      "[0]\tvalidation_0-auc:0.86423\n",
      "[29]\tvalidation_0-auc:0.86739\n",
      "roc_auc_score: 0.8673888075120524\n",
      "--------------------------------------------------\n",
      "fold : 7\n"
     ]
    },
    {
     "name": "stderr",
     "output_type": "stream",
     "text": [
      "C:\\Users\\anand\\anaconda3\\lib\\site-packages\\xgboost\\sklearn.py:1146: UserWarning: The use of label encoder in XGBClassifier is deprecated and will be removed in a future release. To remove this warning, do the following: 1) Pass option use_label_encoder=False when constructing XGBClassifier object; and 2) Encode your labels (y) as integers starting with 0, i.e. 0, 1, 2, ..., [num_class - 1].\n",
      "  warnings.warn(label_encoder_deprecation_msg, UserWarning)\n"
     ]
    },
    {
     "name": "stdout",
     "output_type": "stream",
     "text": [
      "[0]\tvalidation_0-auc:0.86083\n",
      "[29]\tvalidation_0-auc:0.86502\n",
      "roc_auc_score: 0.8650201847386214\n",
      "--------------------------------------------------\n",
      "fold : 8\n"
     ]
    },
    {
     "name": "stderr",
     "output_type": "stream",
     "text": [
      "C:\\Users\\anand\\anaconda3\\lib\\site-packages\\xgboost\\sklearn.py:1146: UserWarning: The use of label encoder in XGBClassifier is deprecated and will be removed in a future release. To remove this warning, do the following: 1) Pass option use_label_encoder=False when constructing XGBClassifier object; and 2) Encode your labels (y) as integers starting with 0, i.e. 0, 1, 2, ..., [num_class - 1].\n",
      "  warnings.warn(label_encoder_deprecation_msg, UserWarning)\n"
     ]
    },
    {
     "name": "stdout",
     "output_type": "stream",
     "text": [
      "[0]\tvalidation_0-auc:0.86325\n",
      "[29]\tvalidation_0-auc:0.86595\n",
      "roc_auc_score: 0.8665398125314149\n",
      "--------------------------------------------------\n",
      "fold : 9\n"
     ]
    },
    {
     "name": "stderr",
     "output_type": "stream",
     "text": [
      "C:\\Users\\anand\\anaconda3\\lib\\site-packages\\xgboost\\sklearn.py:1146: UserWarning: The use of label encoder in XGBClassifier is deprecated and will be removed in a future release. To remove this warning, do the following: 1) Pass option use_label_encoder=False when constructing XGBClassifier object; and 2) Encode your labels (y) as integers starting with 0, i.e. 0, 1, 2, ..., [num_class - 1].\n",
      "  warnings.warn(label_encoder_deprecation_msg, UserWarning)\n"
     ]
    },
    {
     "name": "stdout",
     "output_type": "stream",
     "text": [
      "[0]\tvalidation_0-auc:0.86506\n",
      "[29]\tvalidation_0-auc:0.86914\n",
      "roc_auc_score: 0.8694501417088555\n",
      "--------------------------------------------------\n"
     ]
    }
   ],
   "source": [
    "xgb_model = cross_val(X, Y, XGBClassifier,xgb_params, folds = 10)"
   ]
  },
  {
   "cell_type": "code",
   "execution_count": null,
   "metadata": {},
   "outputs": [],
   "source": []
  },
  {
   "cell_type": "code",
   "execution_count": null,
   "metadata": {},
   "outputs": [],
   "source": []
  },
  {
   "cell_type": "markdown",
   "metadata": {},
   "source": [
    "# test data prep and prediction"
   ]
  },
  {
   "cell_type": "code",
   "execution_count": 90,
   "metadata": {},
   "outputs": [
    {
     "data": {
      "text/plain": [
       "array([[1.        , 0.08196721, 0.06060606, ..., 1.        , 0.07280498,\n",
       "        0.        ],\n",
       "       [1.        , 0.31147541, 0.        , ..., 0.        , 0.09133281,\n",
       "        0.        ],\n",
       "       [1.        , 0.1147541 , 0.15151515, ..., 0.5       , 0.01955765,\n",
       "        0.        ],\n",
       "       ...,\n",
       "       [1.        , 0.18032787, 0.06060606, ..., 0.5       , 0.1700471 ,\n",
       "        0.        ],\n",
       "       [1.        , 0.47540984, 0.06060606, ..., 0.5       , 0.07228021,\n",
       "        1.        ],\n",
       "       [1.        , 0.04918033, 0.60606061, ..., 0.5       , 0.05755138,\n",
       "        0.        ]])"
      ]
     },
     "execution_count": 90,
     "metadata": {},
     "output_type": "execute_result"
    }
   ],
   "source": [
    "test_set = test.copy()\n",
    "data_prep(test_set)\n",
    "test_set = transform(test_set)\n",
    "test_set"
   ]
  },
  {
   "cell_type": "code",
   "execution_count": 91,
   "metadata": {},
   "outputs": [],
   "source": [
    "pred_test_xgb = xgb_model.predict_proba(test_set)"
   ]
  },
  {
   "cell_type": "code",
   "execution_count": 92,
   "metadata": {},
   "outputs": [
    {
     "data": {
      "text/html": [
       "<div>\n",
       "<style scoped>\n",
       "    .dataframe tbody tr th:only-of-type {\n",
       "        vertical-align: middle;\n",
       "    }\n",
       "\n",
       "    .dataframe tbody tr th {\n",
       "        vertical-align: top;\n",
       "    }\n",
       "\n",
       "    .dataframe thead th {\n",
       "        text-align: right;\n",
       "    }\n",
       "</style>\n",
       "<table border=\"1\" class=\"dataframe\">\n",
       "  <thead>\n",
       "    <tr style=\"text-align: right;\">\n",
       "      <th></th>\n",
       "      <th>ID</th>\n",
       "      <th>Is_Lead</th>\n",
       "    </tr>\n",
       "  </thead>\n",
       "  <tbody>\n",
       "    <tr>\n",
       "      <th>0</th>\n",
       "      <td>VBENBARO</td>\n",
       "      <td>0.642980</td>\n",
       "    </tr>\n",
       "    <tr>\n",
       "      <th>1</th>\n",
       "      <td>CCMEWNKY</td>\n",
       "      <td>0.378705</td>\n",
       "    </tr>\n",
       "    <tr>\n",
       "      <th>2</th>\n",
       "      <td>VK3KGA9M</td>\n",
       "      <td>0.640537</td>\n",
       "    </tr>\n",
       "    <tr>\n",
       "      <th>3</th>\n",
       "      <td>TT8RPZVC</td>\n",
       "      <td>0.650242</td>\n",
       "    </tr>\n",
       "    <tr>\n",
       "      <th>4</th>\n",
       "      <td>SHQZEYTZ</td>\n",
       "      <td>0.650242</td>\n",
       "    </tr>\n",
       "  </tbody>\n",
       "</table>\n",
       "</div>"
      ],
      "text/plain": [
       "         ID   Is_Lead\n",
       "0  VBENBARO  0.642980\n",
       "1  CCMEWNKY  0.378705\n",
       "2  VK3KGA9M  0.640537\n",
       "3  TT8RPZVC  0.650242\n",
       "4  SHQZEYTZ  0.650242"
      ]
     },
     "execution_count": 92,
     "metadata": {},
     "output_type": "execute_result"
    }
   ],
   "source": [
    "submission.head()"
   ]
  },
  {
   "cell_type": "code",
   "execution_count": 93,
   "metadata": {},
   "outputs": [],
   "source": [
    "submission['Is_Lead'] = pred_test_xgb"
   ]
  },
  {
   "cell_type": "code",
   "execution_count": 94,
   "metadata": {},
   "outputs": [
    {
     "data": {
      "text/html": [
       "<div>\n",
       "<style scoped>\n",
       "    .dataframe tbody tr th:only-of-type {\n",
       "        vertical-align: middle;\n",
       "    }\n",
       "\n",
       "    .dataframe tbody tr th {\n",
       "        vertical-align: top;\n",
       "    }\n",
       "\n",
       "    .dataframe thead th {\n",
       "        text-align: right;\n",
       "    }\n",
       "</style>\n",
       "<table border=\"1\" class=\"dataframe\">\n",
       "  <thead>\n",
       "    <tr style=\"text-align: right;\">\n",
       "      <th></th>\n",
       "      <th>ID</th>\n",
       "      <th>Is_Lead</th>\n",
       "    </tr>\n",
       "  </thead>\n",
       "  <tbody>\n",
       "    <tr>\n",
       "      <th>0</th>\n",
       "      <td>VBENBARO</td>\n",
       "      <td>0.643112</td>\n",
       "    </tr>\n",
       "    <tr>\n",
       "      <th>1</th>\n",
       "      <td>CCMEWNKY</td>\n",
       "      <td>0.388429</td>\n",
       "    </tr>\n",
       "    <tr>\n",
       "      <th>2</th>\n",
       "      <td>VK3KGA9M</td>\n",
       "      <td>0.640537</td>\n",
       "    </tr>\n",
       "    <tr>\n",
       "      <th>3</th>\n",
       "      <td>TT8RPZVC</td>\n",
       "      <td>0.650242</td>\n",
       "    </tr>\n",
       "    <tr>\n",
       "      <th>4</th>\n",
       "      <td>SHQZEYTZ</td>\n",
       "      <td>0.650242</td>\n",
       "    </tr>\n",
       "  </tbody>\n",
       "</table>\n",
       "</div>"
      ],
      "text/plain": [
       "         ID   Is_Lead\n",
       "0  VBENBARO  0.643112\n",
       "1  CCMEWNKY  0.388429\n",
       "2  VK3KGA9M  0.640537\n",
       "3  TT8RPZVC  0.650242\n",
       "4  SHQZEYTZ  0.650242"
      ]
     },
     "execution_count": 94,
     "metadata": {},
     "output_type": "execute_result"
    }
   ],
   "source": [
    "submission.head()"
   ]
  },
  {
   "cell_type": "code",
   "execution_count": 95,
   "metadata": {},
   "outputs": [],
   "source": [
    "submission.to_csv(f'pred_test_xgb.csv',index=False)"
   ]
  },
  {
   "cell_type": "code",
   "execution_count": 96,
   "metadata": {},
   "outputs": [
    {
     "name": "stdout",
     "output_type": "stream",
     "text": [
      "finish\n"
     ]
    }
   ],
   "source": [
    "print(\"finish\")"
   ]
  },
  {
   "cell_type": "code",
   "execution_count": null,
   "metadata": {},
   "outputs": [],
   "source": []
  },
  {
   "cell_type": "code",
   "execution_count": null,
   "metadata": {},
   "outputs": [],
   "source": []
  },
  {
   "cell_type": "code",
   "execution_count": null,
   "metadata": {},
   "outputs": [],
   "source": []
  },
  {
   "cell_type": "code",
   "execution_count": null,
   "metadata": {},
   "outputs": [],
   "source": []
  },
  {
   "cell_type": "code",
   "execution_count": null,
   "metadata": {},
   "outputs": [],
   "source": []
  },
  {
   "cell_type": "code",
   "execution_count": null,
   "metadata": {},
   "outputs": [],
   "source": []
  },
  {
   "cell_type": "code",
   "execution_count": null,
   "metadata": {},
   "outputs": [],
   "source": []
  },
  {
   "cell_type": "code",
   "execution_count": null,
   "metadata": {},
   "outputs": [],
   "source": []
  },
  {
   "cell_type": "code",
   "execution_count": null,
   "metadata": {},
   "outputs": [],
   "source": []
  },
  {
   "cell_type": "code",
   "execution_count": null,
   "metadata": {},
   "outputs": [],
   "source": []
  },
  {
   "cell_type": "code",
   "execution_count": null,
   "metadata": {},
   "outputs": [],
   "source": []
  },
  {
   "cell_type": "code",
   "execution_count": null,
   "metadata": {},
   "outputs": [],
   "source": []
  },
  {
   "cell_type": "code",
   "execution_count": null,
   "metadata": {},
   "outputs": [],
   "source": []
  },
  {
   "cell_type": "code",
   "execution_count": null,
   "metadata": {},
   "outputs": [],
   "source": []
  },
  {
   "cell_type": "code",
   "execution_count": null,
   "metadata": {},
   "outputs": [],
   "source": []
  },
  {
   "cell_type": "code",
   "execution_count": null,
   "metadata": {},
   "outputs": [],
   "source": []
  },
  {
   "cell_type": "code",
   "execution_count": null,
   "metadata": {},
   "outputs": [],
   "source": []
  },
  {
   "cell_type": "code",
   "execution_count": null,
   "metadata": {},
   "outputs": [],
   "source": []
  },
  {
   "cell_type": "code",
   "execution_count": null,
   "metadata": {},
   "outputs": [],
   "source": []
  },
  {
   "cell_type": "code",
   "execution_count": null,
   "metadata": {},
   "outputs": [],
   "source": []
  },
  {
   "cell_type": "code",
   "execution_count": null,
   "metadata": {},
   "outputs": [],
   "source": []
  },
  {
   "cell_type": "code",
   "execution_count": null,
   "metadata": {},
   "outputs": [],
   "source": []
  },
  {
   "cell_type": "code",
   "execution_count": null,
   "metadata": {},
   "outputs": [],
   "source": []
  },
  {
   "cell_type": "code",
   "execution_count": null,
   "metadata": {},
   "outputs": [],
   "source": []
  },
  {
   "cell_type": "code",
   "execution_count": null,
   "metadata": {},
   "outputs": [],
   "source": []
  },
  {
   "cell_type": "code",
   "execution_count": null,
   "metadata": {},
   "outputs": [],
   "source": []
  },
  {
   "cell_type": "code",
   "execution_count": null,
   "metadata": {},
   "outputs": [],
   "source": []
  },
  {
   "cell_type": "code",
   "execution_count": null,
   "metadata": {},
   "outputs": [],
   "source": []
  },
  {
   "cell_type": "code",
   "execution_count": null,
   "metadata": {},
   "outputs": [],
   "source": []
  },
  {
   "cell_type": "code",
   "execution_count": null,
   "metadata": {},
   "outputs": [],
   "source": []
  },
  {
   "cell_type": "code",
   "execution_count": null,
   "metadata": {},
   "outputs": [],
   "source": []
  },
  {
   "cell_type": "code",
   "execution_count": null,
   "metadata": {},
   "outputs": [],
   "source": []
  },
  {
   "cell_type": "code",
   "execution_count": null,
   "metadata": {},
   "outputs": [],
   "source": []
  },
  {
   "cell_type": "code",
   "execution_count": null,
   "metadata": {},
   "outputs": [],
   "source": []
  }
 ],
 "metadata": {
  "kernelspec": {
   "display_name": "Python 3",
   "language": "python",
   "name": "python3"
  },
  "language_info": {
   "codemirror_mode": {
    "name": "ipython",
    "version": 3
   },
   "file_extension": ".py",
   "mimetype": "text/x-python",
   "name": "python",
   "nbconvert_exporter": "python",
   "pygments_lexer": "ipython3",
   "version": "3.8.3"
  }
 },
 "nbformat": 4,
 "nbformat_minor": 4
}
