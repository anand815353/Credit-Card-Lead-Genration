{
 "cells": [
  {
   "cell_type": "code",
   "execution_count": 1,
   "metadata": {},
   "outputs": [],
   "source": [
    "import numpy as np\n",
    "import pandas as pd\n",
    "import matplotlib.pyplot as plt\n",
    "import seaborn as sns\n",
    "from sklearn.preprocessing import *\n",
    "from sklearn.preprocessing import MinMaxScaler"
   ]
  },
  {
   "cell_type": "code",
   "execution_count": 2,
   "metadata": {},
   "outputs": [],
   "source": [
    "#Loading Data\n",
    "train = pd.read_csv(\"train_s3TEQDk.csv\")\n",
    "train.name = 'train'\n",
    "test = pd.read_csv(\"test_mSzZ8RL.csv\")\n",
    "test.name = 'test'\n",
    "submission = pd.read_csv(\"sample_submission_eyYijxG.csv\")\n",
    "submission.name = 'submission'\n"
   ]
  },
  {
   "cell_type": "markdown",
   "metadata": {},
   "source": [
    "### 1. EDA"
   ]
  },
  {
   "cell_type": "code",
   "execution_count": 3,
   "metadata": {},
   "outputs": [
    {
     "data": {
      "text/html": [
       "<div>\n",
       "<style scoped>\n",
       "    .dataframe tbody tr th:only-of-type {\n",
       "        vertical-align: middle;\n",
       "    }\n",
       "\n",
       "    .dataframe tbody tr th {\n",
       "        vertical-align: top;\n",
       "    }\n",
       "\n",
       "    .dataframe thead th {\n",
       "        text-align: right;\n",
       "    }\n",
       "</style>\n",
       "<table border=\"1\" class=\"dataframe\">\n",
       "  <thead>\n",
       "    <tr style=\"text-align: right;\">\n",
       "      <th></th>\n",
       "      <th>ID</th>\n",
       "      <th>Gender</th>\n",
       "      <th>Age</th>\n",
       "      <th>Region_Code</th>\n",
       "      <th>Occupation</th>\n",
       "      <th>Channel_Code</th>\n",
       "      <th>Vintage</th>\n",
       "      <th>Credit_Product</th>\n",
       "      <th>Avg_Account_Balance</th>\n",
       "      <th>Is_Active</th>\n",
       "      <th>Is_Lead</th>\n",
       "    </tr>\n",
       "  </thead>\n",
       "  <tbody>\n",
       "    <tr>\n",
       "      <th>0</th>\n",
       "      <td>NNVBBKZB</td>\n",
       "      <td>Female</td>\n",
       "      <td>73</td>\n",
       "      <td>RG268</td>\n",
       "      <td>Other</td>\n",
       "      <td>X3</td>\n",
       "      <td>43</td>\n",
       "      <td>No</td>\n",
       "      <td>1045696</td>\n",
       "      <td>No</td>\n",
       "      <td>0</td>\n",
       "    </tr>\n",
       "    <tr>\n",
       "      <th>1</th>\n",
       "      <td>IDD62UNG</td>\n",
       "      <td>Female</td>\n",
       "      <td>30</td>\n",
       "      <td>RG277</td>\n",
       "      <td>Salaried</td>\n",
       "      <td>X1</td>\n",
       "      <td>32</td>\n",
       "      <td>No</td>\n",
       "      <td>581988</td>\n",
       "      <td>No</td>\n",
       "      <td>0</td>\n",
       "    </tr>\n",
       "    <tr>\n",
       "      <th>2</th>\n",
       "      <td>HD3DSEMC</td>\n",
       "      <td>Female</td>\n",
       "      <td>56</td>\n",
       "      <td>RG268</td>\n",
       "      <td>Self_Employed</td>\n",
       "      <td>X3</td>\n",
       "      <td>26</td>\n",
       "      <td>No</td>\n",
       "      <td>1484315</td>\n",
       "      <td>Yes</td>\n",
       "      <td>0</td>\n",
       "    </tr>\n",
       "    <tr>\n",
       "      <th>3</th>\n",
       "      <td>BF3NC7KV</td>\n",
       "      <td>Male</td>\n",
       "      <td>34</td>\n",
       "      <td>RG270</td>\n",
       "      <td>Salaried</td>\n",
       "      <td>X1</td>\n",
       "      <td>19</td>\n",
       "      <td>No</td>\n",
       "      <td>470454</td>\n",
       "      <td>No</td>\n",
       "      <td>0</td>\n",
       "    </tr>\n",
       "    <tr>\n",
       "      <th>4</th>\n",
       "      <td>TEASRWXV</td>\n",
       "      <td>Female</td>\n",
       "      <td>30</td>\n",
       "      <td>RG282</td>\n",
       "      <td>Salaried</td>\n",
       "      <td>X1</td>\n",
       "      <td>33</td>\n",
       "      <td>No</td>\n",
       "      <td>886787</td>\n",
       "      <td>No</td>\n",
       "      <td>0</td>\n",
       "    </tr>\n",
       "  </tbody>\n",
       "</table>\n",
       "</div>"
      ],
      "text/plain": [
       "         ID  Gender  Age Region_Code     Occupation Channel_Code  Vintage  \\\n",
       "0  NNVBBKZB  Female   73       RG268          Other           X3       43   \n",
       "1  IDD62UNG  Female   30       RG277       Salaried           X1       32   \n",
       "2  HD3DSEMC  Female   56       RG268  Self_Employed           X3       26   \n",
       "3  BF3NC7KV    Male   34       RG270       Salaried           X1       19   \n",
       "4  TEASRWXV  Female   30       RG282       Salaried           X1       33   \n",
       "\n",
       "  Credit_Product  Avg_Account_Balance Is_Active  Is_Lead  \n",
       "0             No              1045696        No        0  \n",
       "1             No               581988        No        0  \n",
       "2             No              1484315       Yes        0  \n",
       "3             No               470454        No        0  \n",
       "4             No               886787        No        0  "
      ]
     },
     "execution_count": 3,
     "metadata": {},
     "output_type": "execute_result"
    }
   ],
   "source": [
    "train.head()"
   ]
  },
  {
   "cell_type": "code",
   "execution_count": 4,
   "metadata": {},
   "outputs": [],
   "source": [
    "def display_unique(data):\n",
    "    for column in data.columns :\n",
    "        if data[column].dtype == \"object\":\n",
    "            print(\"No of Unique Values in \"+column+\" Column are : \"+str(data[column].nunique()))\n",
    "            print(data[column].value_counts())\n",
    "            print(\"\")\n"
   ]
  },
  {
   "cell_type": "code",
   "execution_count": 5,
   "metadata": {},
   "outputs": [],
   "source": [
    "def display_dataFrame_info(data):\n",
    "    print(\"Information of\",data.name,\"\\n\")\n",
    "    print(\"No of Rows: \",data.shape[0])\n",
    "    print(\"No of Columns: \",data.shape[1],\"\\n\")\n",
    "    print(\"Data Type Count:\")\n",
    "    print(data.dtypes.value_counts(),\"\\n\")\n",
    "    print(data.info(),\"\\n\")\n",
    "    display(data.describe())\n",
    "    display(data.describe( include = \"object\"))\n",
    "    \n",
    "    tab_info = pd.DataFrame(data.dtypes).T.rename(index={0:'column type'})\n",
    "    tab_info = tab_info.append(pd.DataFrame(data.isnull().sum()).T.rename(index={0:'null values'}))\n",
    "    tab_info=tab_info.append(pd.DataFrame(data.isnull().sum()/data.shape[0]*100).T.rename(index={0:'null values (%)'}))\n",
    "    \n",
    "    display(tab_info)\n",
    "    display_unique(data)\n",
    "    "
   ]
  },
  {
   "cell_type": "code",
   "execution_count": 6,
   "metadata": {
    "scrolled": true
   },
   "outputs": [
    {
     "name": "stdout",
     "output_type": "stream",
     "text": [
      "Information of train \n",
      "\n",
      "No of Rows:  245725\n",
      "No of Columns:  11 \n",
      "\n",
      "Data Type Count:\n",
      "object    7\n",
      "int64     4\n",
      "dtype: int64 \n",
      "\n",
      "<class 'pandas.core.frame.DataFrame'>\n",
      "RangeIndex: 245725 entries, 0 to 245724\n",
      "Data columns (total 11 columns):\n",
      " #   Column               Non-Null Count   Dtype \n",
      "---  ------               --------------   ----- \n",
      " 0   ID                   245725 non-null  object\n",
      " 1   Gender               245725 non-null  object\n",
      " 2   Age                  245725 non-null  int64 \n",
      " 3   Region_Code          245725 non-null  object\n",
      " 4   Occupation           245725 non-null  object\n",
      " 5   Channel_Code         245725 non-null  object\n",
      " 6   Vintage              245725 non-null  int64 \n",
      " 7   Credit_Product       216400 non-null  object\n",
      " 8   Avg_Account_Balance  245725 non-null  int64 \n",
      " 9   Is_Active            245725 non-null  object\n",
      " 10  Is_Lead              245725 non-null  int64 \n",
      "dtypes: int64(4), object(7)\n",
      "memory usage: 20.6+ MB\n",
      "None \n",
      "\n"
     ]
    },
    {
     "data": {
      "text/html": [
       "<div>\n",
       "<style scoped>\n",
       "    .dataframe tbody tr th:only-of-type {\n",
       "        vertical-align: middle;\n",
       "    }\n",
       "\n",
       "    .dataframe tbody tr th {\n",
       "        vertical-align: top;\n",
       "    }\n",
       "\n",
       "    .dataframe thead th {\n",
       "        text-align: right;\n",
       "    }\n",
       "</style>\n",
       "<table border=\"1\" class=\"dataframe\">\n",
       "  <thead>\n",
       "    <tr style=\"text-align: right;\">\n",
       "      <th></th>\n",
       "      <th>Age</th>\n",
       "      <th>Vintage</th>\n",
       "      <th>Avg_Account_Balance</th>\n",
       "      <th>Is_Lead</th>\n",
       "    </tr>\n",
       "  </thead>\n",
       "  <tbody>\n",
       "    <tr>\n",
       "      <th>count</th>\n",
       "      <td>245725.000000</td>\n",
       "      <td>245725.000000</td>\n",
       "      <td>2.457250e+05</td>\n",
       "      <td>245725.000000</td>\n",
       "    </tr>\n",
       "    <tr>\n",
       "      <th>mean</th>\n",
       "      <td>43.856307</td>\n",
       "      <td>46.959141</td>\n",
       "      <td>1.128403e+06</td>\n",
       "      <td>0.237208</td>\n",
       "    </tr>\n",
       "    <tr>\n",
       "      <th>std</th>\n",
       "      <td>14.828672</td>\n",
       "      <td>32.353136</td>\n",
       "      <td>8.529364e+05</td>\n",
       "      <td>0.425372</td>\n",
       "    </tr>\n",
       "    <tr>\n",
       "      <th>min</th>\n",
       "      <td>23.000000</td>\n",
       "      <td>7.000000</td>\n",
       "      <td>2.079000e+04</td>\n",
       "      <td>0.000000</td>\n",
       "    </tr>\n",
       "    <tr>\n",
       "      <th>25%</th>\n",
       "      <td>30.000000</td>\n",
       "      <td>20.000000</td>\n",
       "      <td>6.043100e+05</td>\n",
       "      <td>0.000000</td>\n",
       "    </tr>\n",
       "    <tr>\n",
       "      <th>50%</th>\n",
       "      <td>43.000000</td>\n",
       "      <td>32.000000</td>\n",
       "      <td>8.946010e+05</td>\n",
       "      <td>0.000000</td>\n",
       "    </tr>\n",
       "    <tr>\n",
       "      <th>75%</th>\n",
       "      <td>54.000000</td>\n",
       "      <td>73.000000</td>\n",
       "      <td>1.366666e+06</td>\n",
       "      <td>0.000000</td>\n",
       "    </tr>\n",
       "    <tr>\n",
       "      <th>max</th>\n",
       "      <td>85.000000</td>\n",
       "      <td>135.000000</td>\n",
       "      <td>1.035201e+07</td>\n",
       "      <td>1.000000</td>\n",
       "    </tr>\n",
       "  </tbody>\n",
       "</table>\n",
       "</div>"
      ],
      "text/plain": [
       "                 Age        Vintage  Avg_Account_Balance        Is_Lead\n",
       "count  245725.000000  245725.000000         2.457250e+05  245725.000000\n",
       "mean       43.856307      46.959141         1.128403e+06       0.237208\n",
       "std        14.828672      32.353136         8.529364e+05       0.425372\n",
       "min        23.000000       7.000000         2.079000e+04       0.000000\n",
       "25%        30.000000      20.000000         6.043100e+05       0.000000\n",
       "50%        43.000000      32.000000         8.946010e+05       0.000000\n",
       "75%        54.000000      73.000000         1.366666e+06       0.000000\n",
       "max        85.000000     135.000000         1.035201e+07       1.000000"
      ]
     },
     "metadata": {},
     "output_type": "display_data"
    },
    {
     "data": {
      "text/html": [
       "<div>\n",
       "<style scoped>\n",
       "    .dataframe tbody tr th:only-of-type {\n",
       "        vertical-align: middle;\n",
       "    }\n",
       "\n",
       "    .dataframe tbody tr th {\n",
       "        vertical-align: top;\n",
       "    }\n",
       "\n",
       "    .dataframe thead th {\n",
       "        text-align: right;\n",
       "    }\n",
       "</style>\n",
       "<table border=\"1\" class=\"dataframe\">\n",
       "  <thead>\n",
       "    <tr style=\"text-align: right;\">\n",
       "      <th></th>\n",
       "      <th>ID</th>\n",
       "      <th>Gender</th>\n",
       "      <th>Region_Code</th>\n",
       "      <th>Occupation</th>\n",
       "      <th>Channel_Code</th>\n",
       "      <th>Credit_Product</th>\n",
       "      <th>Is_Active</th>\n",
       "    </tr>\n",
       "  </thead>\n",
       "  <tbody>\n",
       "    <tr>\n",
       "      <th>count</th>\n",
       "      <td>245725</td>\n",
       "      <td>245725</td>\n",
       "      <td>245725</td>\n",
       "      <td>245725</td>\n",
       "      <td>245725</td>\n",
       "      <td>216400</td>\n",
       "      <td>245725</td>\n",
       "    </tr>\n",
       "    <tr>\n",
       "      <th>unique</th>\n",
       "      <td>245725</td>\n",
       "      <td>2</td>\n",
       "      <td>35</td>\n",
       "      <td>4</td>\n",
       "      <td>4</td>\n",
       "      <td>2</td>\n",
       "      <td>2</td>\n",
       "    </tr>\n",
       "    <tr>\n",
       "      <th>top</th>\n",
       "      <td>GSADRBWZ</td>\n",
       "      <td>Male</td>\n",
       "      <td>RG268</td>\n",
       "      <td>Self_Employed</td>\n",
       "      <td>X1</td>\n",
       "      <td>No</td>\n",
       "      <td>No</td>\n",
       "    </tr>\n",
       "    <tr>\n",
       "      <th>freq</th>\n",
       "      <td>1</td>\n",
       "      <td>134197</td>\n",
       "      <td>35934</td>\n",
       "      <td>100886</td>\n",
       "      <td>103718</td>\n",
       "      <td>144357</td>\n",
       "      <td>150290</td>\n",
       "    </tr>\n",
       "  </tbody>\n",
       "</table>\n",
       "</div>"
      ],
      "text/plain": [
       "              ID  Gender Region_Code     Occupation Channel_Code  \\\n",
       "count     245725  245725      245725         245725       245725   \n",
       "unique    245725       2          35              4            4   \n",
       "top     GSADRBWZ    Male       RG268  Self_Employed           X1   \n",
       "freq           1  134197       35934         100886       103718   \n",
       "\n",
       "       Credit_Product Is_Active  \n",
       "count          216400    245725  \n",
       "unique              2         2  \n",
       "top                No        No  \n",
       "freq           144357    150290  "
      ]
     },
     "metadata": {},
     "output_type": "display_data"
    },
    {
     "data": {
      "text/html": [
       "<div>\n",
       "<style scoped>\n",
       "    .dataframe tbody tr th:only-of-type {\n",
       "        vertical-align: middle;\n",
       "    }\n",
       "\n",
       "    .dataframe tbody tr th {\n",
       "        vertical-align: top;\n",
       "    }\n",
       "\n",
       "    .dataframe thead th {\n",
       "        text-align: right;\n",
       "    }\n",
       "</style>\n",
       "<table border=\"1\" class=\"dataframe\">\n",
       "  <thead>\n",
       "    <tr style=\"text-align: right;\">\n",
       "      <th></th>\n",
       "      <th>ID</th>\n",
       "      <th>Gender</th>\n",
       "      <th>Age</th>\n",
       "      <th>Region_Code</th>\n",
       "      <th>Occupation</th>\n",
       "      <th>Channel_Code</th>\n",
       "      <th>Vintage</th>\n",
       "      <th>Credit_Product</th>\n",
       "      <th>Avg_Account_Balance</th>\n",
       "      <th>Is_Active</th>\n",
       "      <th>Is_Lead</th>\n",
       "    </tr>\n",
       "  </thead>\n",
       "  <tbody>\n",
       "    <tr>\n",
       "      <th>column type</th>\n",
       "      <td>object</td>\n",
       "      <td>object</td>\n",
       "      <td>int64</td>\n",
       "      <td>object</td>\n",
       "      <td>object</td>\n",
       "      <td>object</td>\n",
       "      <td>int64</td>\n",
       "      <td>object</td>\n",
       "      <td>int64</td>\n",
       "      <td>object</td>\n",
       "      <td>int64</td>\n",
       "    </tr>\n",
       "    <tr>\n",
       "      <th>null values</th>\n",
       "      <td>0</td>\n",
       "      <td>0</td>\n",
       "      <td>0</td>\n",
       "      <td>0</td>\n",
       "      <td>0</td>\n",
       "      <td>0</td>\n",
       "      <td>0</td>\n",
       "      <td>29325</td>\n",
       "      <td>0</td>\n",
       "      <td>0</td>\n",
       "      <td>0</td>\n",
       "    </tr>\n",
       "    <tr>\n",
       "      <th>null values (%)</th>\n",
       "      <td>0</td>\n",
       "      <td>0</td>\n",
       "      <td>0</td>\n",
       "      <td>0</td>\n",
       "      <td>0</td>\n",
       "      <td>0</td>\n",
       "      <td>0</td>\n",
       "      <td>11.9341</td>\n",
       "      <td>0</td>\n",
       "      <td>0</td>\n",
       "      <td>0</td>\n",
       "    </tr>\n",
       "  </tbody>\n",
       "</table>\n",
       "</div>"
      ],
      "text/plain": [
       "                     ID  Gender    Age Region_Code Occupation Channel_Code  \\\n",
       "column type      object  object  int64      object     object       object   \n",
       "null values           0       0      0           0          0            0   \n",
       "null values (%)       0       0      0           0          0            0   \n",
       "\n",
       "                Vintage Credit_Product Avg_Account_Balance Is_Active Is_Lead  \n",
       "column type       int64         object               int64    object   int64  \n",
       "null values           0          29325                   0         0       0  \n",
       "null values (%)       0        11.9341                   0         0       0  "
      ]
     },
     "metadata": {},
     "output_type": "display_data"
    },
    {
     "name": "stdout",
     "output_type": "stream",
     "text": [
      "No of Unique Values in ID Column are : 245725\n",
      "GSADRBWZ    1\n",
      "NZKOXJGC    1\n",
      "9GFEFJL7    1\n",
      "FF2QHJUZ    1\n",
      "BFOD8HRA    1\n",
      "           ..\n",
      "8TOZGRQZ    1\n",
      "IBD7MYJL    1\n",
      "KTNFF475    1\n",
      "ERCH8ZTC    1\n",
      "HM8KCRMI    1\n",
      "Name: ID, Length: 245725, dtype: int64\n",
      "\n",
      "No of Unique Values in Gender Column are : 2\n",
      "Male      134197\n",
      "Female    111528\n",
      "Name: Gender, dtype: int64\n",
      "\n",
      "No of Unique Values in Region_Code Column are : 35\n",
      "RG268    35934\n",
      "RG283    29416\n",
      "RG254    26840\n",
      "RG284    19320\n",
      "RG277    12826\n",
      "RG280    12775\n",
      "RG269     7863\n",
      "RG270     7720\n",
      "RG261     7633\n",
      "RG257     6101\n",
      "RG251     5950\n",
      "RG282     5829\n",
      "RG274     5286\n",
      "RG272     5252\n",
      "RG281     5093\n",
      "RG273     4497\n",
      "RG252     4286\n",
      "RG279     3976\n",
      "RG263     3687\n",
      "RG275     3245\n",
      "RG260     3110\n",
      "RG256     2847\n",
      "RG264     2793\n",
      "RG276     2764\n",
      "RG259     2586\n",
      "RG250     2496\n",
      "RG255     2018\n",
      "RG258     1951\n",
      "RG253     1858\n",
      "RG278     1822\n",
      "RG262     1788\n",
      "RG266     1578\n",
      "RG265     1546\n",
      "RG271     1542\n",
      "RG267     1497\n",
      "Name: Region_Code, dtype: int64\n",
      "\n",
      "No of Unique Values in Occupation Column are : 4\n",
      "Self_Employed    100886\n",
      "Salaried          71999\n",
      "Other             70173\n",
      "Entrepreneur       2667\n",
      "Name: Occupation, dtype: int64\n",
      "\n",
      "No of Unique Values in Channel_Code Column are : 4\n",
      "X1    103718\n",
      "X3     68712\n",
      "X2     67726\n",
      "X4      5569\n",
      "Name: Channel_Code, dtype: int64\n",
      "\n",
      "No of Unique Values in Credit_Product Column are : 2\n",
      "No     144357\n",
      "Yes     72043\n",
      "Name: Credit_Product, dtype: int64\n",
      "\n",
      "No of Unique Values in Is_Active Column are : 2\n",
      "No     150290\n",
      "Yes     95435\n",
      "Name: Is_Active, dtype: int64\n",
      "\n"
     ]
    }
   ],
   "source": [
    "display_dataFrame_info(train)"
   ]
  },
  {
   "cell_type": "code",
   "execution_count": 7,
   "metadata": {},
   "outputs": [
    {
     "name": "stdout",
     "output_type": "stream",
     "text": [
      "Information of test \n",
      "\n",
      "No of Rows:  105312\n",
      "No of Columns:  10 \n",
      "\n",
      "Data Type Count:\n",
      "object    7\n",
      "int64     3\n",
      "dtype: int64 \n",
      "\n",
      "<class 'pandas.core.frame.DataFrame'>\n",
      "RangeIndex: 105312 entries, 0 to 105311\n",
      "Data columns (total 10 columns):\n",
      " #   Column               Non-Null Count   Dtype \n",
      "---  ------               --------------   ----- \n",
      " 0   ID                   105312 non-null  object\n",
      " 1   Gender               105312 non-null  object\n",
      " 2   Age                  105312 non-null  int64 \n",
      " 3   Region_Code          105312 non-null  object\n",
      " 4   Occupation           105312 non-null  object\n",
      " 5   Channel_Code         105312 non-null  object\n",
      " 6   Vintage              105312 non-null  int64 \n",
      " 7   Credit_Product       92790 non-null   object\n",
      " 8   Avg_Account_Balance  105312 non-null  int64 \n",
      " 9   Is_Active            105312 non-null  object\n",
      "dtypes: int64(3), object(7)\n",
      "memory usage: 8.0+ MB\n",
      "None \n",
      "\n"
     ]
    },
    {
     "data": {
      "text/html": [
       "<div>\n",
       "<style scoped>\n",
       "    .dataframe tbody tr th:only-of-type {\n",
       "        vertical-align: middle;\n",
       "    }\n",
       "\n",
       "    .dataframe tbody tr th {\n",
       "        vertical-align: top;\n",
       "    }\n",
       "\n",
       "    .dataframe thead th {\n",
       "        text-align: right;\n",
       "    }\n",
       "</style>\n",
       "<table border=\"1\" class=\"dataframe\">\n",
       "  <thead>\n",
       "    <tr style=\"text-align: right;\">\n",
       "      <th></th>\n",
       "      <th>Age</th>\n",
       "      <th>Vintage</th>\n",
       "      <th>Avg_Account_Balance</th>\n",
       "    </tr>\n",
       "  </thead>\n",
       "  <tbody>\n",
       "    <tr>\n",
       "      <th>count</th>\n",
       "      <td>105312.000000</td>\n",
       "      <td>105312.000000</td>\n",
       "      <td>1.053120e+05</td>\n",
       "    </tr>\n",
       "    <tr>\n",
       "      <th>mean</th>\n",
       "      <td>43.871002</td>\n",
       "      <td>46.842819</td>\n",
       "      <td>1.134195e+06</td>\n",
       "    </tr>\n",
       "    <tr>\n",
       "      <th>std</th>\n",
       "      <td>14.872890</td>\n",
       "      <td>32.273634</td>\n",
       "      <td>8.662430e+05</td>\n",
       "    </tr>\n",
       "    <tr>\n",
       "      <th>min</th>\n",
       "      <td>24.000000</td>\n",
       "      <td>7.000000</td>\n",
       "      <td>2.259700e+04</td>\n",
       "    </tr>\n",
       "    <tr>\n",
       "      <th>25%</th>\n",
       "      <td>30.000000</td>\n",
       "      <td>20.000000</td>\n",
       "      <td>6.039822e+05</td>\n",
       "    </tr>\n",
       "    <tr>\n",
       "      <th>50%</th>\n",
       "      <td>43.000000</td>\n",
       "      <td>32.000000</td>\n",
       "      <td>8.966345e+05</td>\n",
       "    </tr>\n",
       "    <tr>\n",
       "      <th>75%</th>\n",
       "      <td>54.000000</td>\n",
       "      <td>73.000000</td>\n",
       "      <td>1.371598e+06</td>\n",
       "    </tr>\n",
       "    <tr>\n",
       "      <th>max</th>\n",
       "      <td>85.000000</td>\n",
       "      <td>135.000000</td>\n",
       "      <td>9.908858e+06</td>\n",
       "    </tr>\n",
       "  </tbody>\n",
       "</table>\n",
       "</div>"
      ],
      "text/plain": [
       "                 Age        Vintage  Avg_Account_Balance\n",
       "count  105312.000000  105312.000000         1.053120e+05\n",
       "mean       43.871002      46.842819         1.134195e+06\n",
       "std        14.872890      32.273634         8.662430e+05\n",
       "min        24.000000       7.000000         2.259700e+04\n",
       "25%        30.000000      20.000000         6.039822e+05\n",
       "50%        43.000000      32.000000         8.966345e+05\n",
       "75%        54.000000      73.000000         1.371598e+06\n",
       "max        85.000000     135.000000         9.908858e+06"
      ]
     },
     "metadata": {},
     "output_type": "display_data"
    },
    {
     "data": {
      "text/html": [
       "<div>\n",
       "<style scoped>\n",
       "    .dataframe tbody tr th:only-of-type {\n",
       "        vertical-align: middle;\n",
       "    }\n",
       "\n",
       "    .dataframe tbody tr th {\n",
       "        vertical-align: top;\n",
       "    }\n",
       "\n",
       "    .dataframe thead th {\n",
       "        text-align: right;\n",
       "    }\n",
       "</style>\n",
       "<table border=\"1\" class=\"dataframe\">\n",
       "  <thead>\n",
       "    <tr style=\"text-align: right;\">\n",
       "      <th></th>\n",
       "      <th>ID</th>\n",
       "      <th>Gender</th>\n",
       "      <th>Region_Code</th>\n",
       "      <th>Occupation</th>\n",
       "      <th>Channel_Code</th>\n",
       "      <th>Credit_Product</th>\n",
       "      <th>Is_Active</th>\n",
       "    </tr>\n",
       "  </thead>\n",
       "  <tbody>\n",
       "    <tr>\n",
       "      <th>count</th>\n",
       "      <td>105312</td>\n",
       "      <td>105312</td>\n",
       "      <td>105312</td>\n",
       "      <td>105312</td>\n",
       "      <td>105312</td>\n",
       "      <td>92790</td>\n",
       "      <td>105312</td>\n",
       "    </tr>\n",
       "    <tr>\n",
       "      <th>unique</th>\n",
       "      <td>105312</td>\n",
       "      <td>2</td>\n",
       "      <td>35</td>\n",
       "      <td>4</td>\n",
       "      <td>4</td>\n",
       "      <td>2</td>\n",
       "      <td>2</td>\n",
       "    </tr>\n",
       "    <tr>\n",
       "      <th>top</th>\n",
       "      <td>HT9NJXPG</td>\n",
       "      <td>Male</td>\n",
       "      <td>RG268</td>\n",
       "      <td>Self_Employed</td>\n",
       "      <td>X1</td>\n",
       "      <td>No</td>\n",
       "      <td>No</td>\n",
       "    </tr>\n",
       "    <tr>\n",
       "      <th>freq</th>\n",
       "      <td>1</td>\n",
       "      <td>57705</td>\n",
       "      <td>15125</td>\n",
       "      <td>43192</td>\n",
       "      <td>44484</td>\n",
       "      <td>61608</td>\n",
       "      <td>63797</td>\n",
       "    </tr>\n",
       "  </tbody>\n",
       "</table>\n",
       "</div>"
      ],
      "text/plain": [
       "              ID  Gender Region_Code     Occupation Channel_Code  \\\n",
       "count     105312  105312      105312         105312       105312   \n",
       "unique    105312       2          35              4            4   \n",
       "top     HT9NJXPG    Male       RG268  Self_Employed           X1   \n",
       "freq           1   57705       15125          43192        44484   \n",
       "\n",
       "       Credit_Product Is_Active  \n",
       "count           92790    105312  \n",
       "unique              2         2  \n",
       "top                No        No  \n",
       "freq            61608     63797  "
      ]
     },
     "metadata": {},
     "output_type": "display_data"
    },
    {
     "data": {
      "text/html": [
       "<div>\n",
       "<style scoped>\n",
       "    .dataframe tbody tr th:only-of-type {\n",
       "        vertical-align: middle;\n",
       "    }\n",
       "\n",
       "    .dataframe tbody tr th {\n",
       "        vertical-align: top;\n",
       "    }\n",
       "\n",
       "    .dataframe thead th {\n",
       "        text-align: right;\n",
       "    }\n",
       "</style>\n",
       "<table border=\"1\" class=\"dataframe\">\n",
       "  <thead>\n",
       "    <tr style=\"text-align: right;\">\n",
       "      <th></th>\n",
       "      <th>ID</th>\n",
       "      <th>Gender</th>\n",
       "      <th>Age</th>\n",
       "      <th>Region_Code</th>\n",
       "      <th>Occupation</th>\n",
       "      <th>Channel_Code</th>\n",
       "      <th>Vintage</th>\n",
       "      <th>Credit_Product</th>\n",
       "      <th>Avg_Account_Balance</th>\n",
       "      <th>Is_Active</th>\n",
       "    </tr>\n",
       "  </thead>\n",
       "  <tbody>\n",
       "    <tr>\n",
       "      <th>column type</th>\n",
       "      <td>object</td>\n",
       "      <td>object</td>\n",
       "      <td>int64</td>\n",
       "      <td>object</td>\n",
       "      <td>object</td>\n",
       "      <td>object</td>\n",
       "      <td>int64</td>\n",
       "      <td>object</td>\n",
       "      <td>int64</td>\n",
       "      <td>object</td>\n",
       "    </tr>\n",
       "    <tr>\n",
       "      <th>null values</th>\n",
       "      <td>0</td>\n",
       "      <td>0</td>\n",
       "      <td>0</td>\n",
       "      <td>0</td>\n",
       "      <td>0</td>\n",
       "      <td>0</td>\n",
       "      <td>0</td>\n",
       "      <td>12522</td>\n",
       "      <td>0</td>\n",
       "      <td>0</td>\n",
       "    </tr>\n",
       "    <tr>\n",
       "      <th>null values (%)</th>\n",
       "      <td>0</td>\n",
       "      <td>0</td>\n",
       "      <td>0</td>\n",
       "      <td>0</td>\n",
       "      <td>0</td>\n",
       "      <td>0</td>\n",
       "      <td>0</td>\n",
       "      <td>11.8904</td>\n",
       "      <td>0</td>\n",
       "      <td>0</td>\n",
       "    </tr>\n",
       "  </tbody>\n",
       "</table>\n",
       "</div>"
      ],
      "text/plain": [
       "                     ID  Gender    Age Region_Code Occupation Channel_Code  \\\n",
       "column type      object  object  int64      object     object       object   \n",
       "null values           0       0      0           0          0            0   \n",
       "null values (%)       0       0      0           0          0            0   \n",
       "\n",
       "                Vintage Credit_Product Avg_Account_Balance Is_Active  \n",
       "column type       int64         object               int64    object  \n",
       "null values           0          12522                   0         0  \n",
       "null values (%)       0        11.8904                   0         0  "
      ]
     },
     "metadata": {},
     "output_type": "display_data"
    },
    {
     "name": "stdout",
     "output_type": "stream",
     "text": [
      "No of Unique Values in ID Column are : 105312\n",
      "HT9NJXPG    1\n",
      "7V7GCZZY    1\n",
      "FA2V66OU    1\n",
      "KBGPVXYH    1\n",
      "R4H28TSZ    1\n",
      "           ..\n",
      "8U8LASSW    1\n",
      "79GKWKKG    1\n",
      "D5IDC8UV    1\n",
      "A7AEPJMQ    1\n",
      "FFCG2KMZ    1\n",
      "Name: ID, Length: 105312, dtype: int64\n",
      "\n",
      "No of Unique Values in Gender Column are : 2\n",
      "Male      57705\n",
      "Female    47607\n",
      "Name: Gender, dtype: int64\n",
      "\n",
      "No of Unique Values in Region_Code Column are : 35\n",
      "RG268    15125\n",
      "RG283    12881\n",
      "RG254    11737\n",
      "RG284     8173\n",
      "RG277     5596\n",
      "RG280     5529\n",
      "RG270     3440\n",
      "RG269     3288\n",
      "RG261     3286\n",
      "RG251     2678\n",
      "RG257     2588\n",
      "RG272     2338\n",
      "RG282     2337\n",
      "RG274     2208\n",
      "RG281     2144\n",
      "RG252     1811\n",
      "RG273     1803\n",
      "RG263     1615\n",
      "RG279     1600\n",
      "RG275     1383\n",
      "RG260     1300\n",
      "RG264     1241\n",
      "RG256     1194\n",
      "RG276     1185\n",
      "RG259     1102\n",
      "RG250     1048\n",
      "RG255      891\n",
      "RG278      824\n",
      "RG258      812\n",
      "RG253      810\n",
      "RG262      800\n",
      "RG265      668\n",
      "RG271      654\n",
      "RG266      631\n",
      "RG267      592\n",
      "Name: Region_Code, dtype: int64\n",
      "\n",
      "No of Unique Values in Occupation Column are : 4\n",
      "Self_Employed    43192\n",
      "Salaried         30913\n",
      "Other            30131\n",
      "Entrepreneur      1076\n",
      "Name: Occupation, dtype: int64\n",
      "\n",
      "No of Unique Values in Channel_Code Column are : 4\n",
      "X1    44484\n",
      "X3    29269\n",
      "X2    29176\n",
      "X4     2383\n",
      "Name: Channel_Code, dtype: int64\n",
      "\n",
      "No of Unique Values in Credit_Product Column are : 2\n",
      "No     61608\n",
      "Yes    31182\n",
      "Name: Credit_Product, dtype: int64\n",
      "\n",
      "No of Unique Values in Is_Active Column are : 2\n",
      "No     63797\n",
      "Yes    41515\n",
      "Name: Is_Active, dtype: int64\n",
      "\n"
     ]
    }
   ],
   "source": [
    "display_dataFrame_info(test)"
   ]
  },
  {
   "cell_type": "markdown",
   "metadata": {},
   "source": [
    "### 2. Outlier detection and treatment"
   ]
  },
  {
   "cell_type": "code",
   "execution_count": 8,
   "metadata": {
    "scrolled": false
   },
   "outputs": [
    {
     "data": {
      "text/plain": [
       "<AxesSubplot:xlabel='Avg_Account_Balance'>"
      ]
     },
     "execution_count": 8,
     "metadata": {},
     "output_type": "execute_result"
    },
    {
     "data": {
      "image/png": "[encoded data removed]",
      "text/plain": [
       "<Figure size 576x1440 with 3 Axes>"
      ]
     },
     "metadata": {
      "needs_background": "light"
     },
     "output_type": "display_data"
    }
   ],
   "source": [
    "fig,axes = plt.subplots(3,1, figsize=(8,20)) #subplots(no of rows, no of columns)\n",
    "plt.subplots_adjust(left=0.1,bottom=0.1, right=0.9, top=0.9, wspace=0.4, hspace=0.4)\n",
    "sns.boxplot(x='Age',data=train, ax= axes[0], width=0.4)\n",
    "sns.boxplot(x='Vintage',data=train, ax= axes[1], width=0.4)\n",
    "sns.boxplot(x='Avg_Account_Balance',data=train, ax= axes[2], width=0.4)\n"
   ]
  },
  {
   "cell_type": "code",
   "execution_count": 14,
   "metadata": {},
   "outputs": [
    {
     "data": {
      "text/plain": [
       "<AxesSubplot:xlabel='Avg_Account_Balance', ylabel='Count'>"
      ]
     },
     "execution_count": 14,
     "metadata": {},
     "output_type": "execute_result"
    },
    {
     "data": {
      "image/png": "[encoded data removed]",
      "text/plain": [
       "<Figure size 1080x432 with 1 Axes>"
      ]
     },
     "metadata": {
      "needs_background": "light"
     },
     "output_type": "display_data"
    }
   ],
   "source": [
    "plt.figure(1, figsize=(15,6))\n",
    "sns.histplot(train[\"Avg_Account_Balance\"], bins= 100)"
   ]
  },
  {
   "cell_type": "code",
   "execution_count": 18,
   "metadata": {},
   "outputs": [],
   "source": [
    "q1 = train[\"Avg_Account_Balance\"].quantile(0.25)\n",
    "q3 = train[\"Avg_Account_Balance\"].quantile(0.75)\n",
    "iqr = q3-q1\n",
    "u_limit = q3 +1.5*iqr\n",
    "l_limit  = q1 -1.5*iqr"
   ]
  },
  {
   "cell_type": "code",
   "execution_count": 25,
   "metadata": {},
   "outputs": [
    {
     "data": {
      "text/plain": [
       "0.05946484891647166"
      ]
     },
     "execution_count": 25,
     "metadata": {},
     "output_type": "execute_result"
    }
   ],
   "source": [
    "len(train.loc[train[\"Avg_Account_Balance\"]>u_limit])/len(train)"
   ]
  },
  {
   "cell_type": "code",
   "execution_count": 37,
   "metadata": {},
   "outputs": [],
   "source": [
    "acc_bnc_less_thn_upr_lmt =  train.loc[train[\"Avg_Account_Balance\"]<u_limit]"
   ]
  },
  {
   "cell_type": "code",
   "execution_count": 49,
   "metadata": {},
   "outputs": [],
   "source": [
    "acc_bnc_gr_thn_uper_lmt =  train.loc[train[\"Avg_Account_Balance\"]>u_limit]"
   ]
  },
  {
   "cell_type": "code",
   "execution_count": 32,
   "metadata": {
    "scrolled": false
   },
   "outputs": [
    {
     "data": {
      "text/plain": [
       "<AxesSubplot:xlabel='Avg_Account_Balance', ylabel='Count'>"
      ]
     },
     "execution_count": 32,
     "metadata": {},
     "output_type": "execute_result"
    },
    {
     "data": {
      "image/png": "[encoded data removed]",
      "text/plain": [
       "<Figure size 1080x432 with 1 Axes>"
      ]
     },
     "metadata": {
      "needs_background": "light"
     },
     "output_type": "display_data"
    }
   ],
   "source": [
    "plt.figure(1, figsize=(15,6))\n",
    "sns.histplot(acc_bnc_gr_thn_uper_lmt[\"Avg_Account_Balance\"])"
   ]
  },
  {
   "cell_type": "code",
   "execution_count": 41,
   "metadata": {},
   "outputs": [
    {
     "data": {
      "text/plain": [
       "0.2714207500684369"
      ]
     },
     "execution_count": 41,
     "metadata": {},
     "output_type": "execute_result"
    }
   ],
   "source": [
    "len(acc_bnc_gr_thn_uper_lmt[acc_bnc_gr_thn_uper_lmt[\"Is_Lead\"]==1]) / len(acc_bnc_gr_thn_uper_lmt)"
   ]
  },
  {
   "cell_type": "code",
   "execution_count": 44,
   "metadata": {},
   "outputs": [
    {
     "data": {
      "text/plain": [
       "0.23504519434216162"
      ]
     },
     "execution_count": 44,
     "metadata": {},
     "output_type": "execute_result"
    }
   ],
   "source": [
    "len(acc_bnc_less_thn_upr_lmt[acc_bnc_less_thn_upr_lmt[\"Is_Lead\"]==1]) / len(acc_bnc_less_thn_upr_lmt)"
   ]
  },
  {
   "cell_type": "markdown",
   "metadata": {},
   "source": [
    "##### percentage of \"Is_Lead\" == true in subset where account balance greater than upper limit  VS  percentage of \"Is_Lead\" == true in subset where account balance less than upper limit suggest we might loss information if we treat outliers. So I am leaving it as it is."
   ]
  },
  {
   "cell_type": "markdown",
   "metadata": {},
   "source": [
    "### 3. duplicates treatment"
   ]
  },
  {
   "cell_type": "code",
   "execution_count": 52,
   "metadata": {},
   "outputs": [
    {
     "name": "stdout",
     "output_type": "stream",
     "text": [
      "In train\n",
      "No of duplicate : 0\n",
      "% of duplicate : 0.0\n",
      "\n",
      "\n",
      "In test \n",
      "No of duplicate : 0\n",
      "% of duplicate : 0.0\n"
     ]
    }
   ],
   "source": [
    "def duplicates(data):\n",
    "    print(\"No of duplicate :\", data.duplicated().sum())\n",
    "    print(\"% of duplicate :\", (data.duplicated().sum()/len(data))*100)\n",
    "\n",
    "print(\"In train\")\n",
    "duplicates(train)\n",
    "\n",
    "print(\"\\n\\nIn test \")\n",
    "duplicates(test)"
   ]
  },
  {
   "cell_type": "markdown",
   "metadata": {},
   "source": [
    "### 5. data preparation"
   ]
  },
  {
   "cell_type": "code",
   "execution_count": 57,
   "metadata": {},
   "outputs": [
    {
     "name": "stdout",
     "output_type": "stream",
     "text": [
      "29325 12522\n"
     ]
    }
   ],
   "source": [
    "print(train[\"Credit_Product\"].isnull().sum(), test[\"Credit_Product\"].isnull().sum())"
   ]
  },
  {
   "cell_type": "markdown",
   "metadata": {},
   "source": [
    "##### Credit_Product has 11 to 12 percent missisng vaues in both test and train which is significant so droping them is not an option. It has two unique Values  if we impute  yes or no somehow ...which will resut in unkown data for trained model during predictions... therfore making it as a third categaorical variable \"na\".... now  we have [\"yes\",\"no\",\"na\"]  as 3 unique categorica variabes for Credit_Product\n",
    "\n",
    "##### droping ID colmn because they are unique "
   ]
  },
  {
   "cell_type": "markdown",
   "metadata": {},
   "source": [
    "##### tried one-hot encoding but no improvment for diffrent model except logistic regression rest of the models gave same roc....also computation time increased mutifold therefore going forward with label encoding."
   ]
  },
  {
   "cell_type": "code",
   "execution_count": 59,
   "metadata": {},
   "outputs": [],
   "source": [
    "def data_prep(data): #label encoding \n",
    "    data.drop(['ID'], axis=1, inplace = True )\n",
    "    data[\"Credit_Product\"] = data[\"Credit_Product\"].fillna(0) #filling na \n",
    "    data[\"Credit_Product\"] = data[\"Credit_Product\"].replace({'No':1,'Yes':2})\n",
    "    data[\"Is_Active\"] = data[\"Is_Active\"].replace({'No':0,'Yes':1})\n",
    "    data[\"Gender\"] = data[\"Gender\"].replace({'Female':0,'Male':1})\n",
    "    data[\"Occupation\"] = data[\"Occupation\"].replace({'Other':0,'Salaried':1,'Entrepreneur':2,'Self_Employed':3})\n",
    "    data[\"Channel_Code\"] = data[\"Channel_Code\"].replace({'X1':0,'X2':1,'X3':2,'X4':3})\n",
    "    data[\"Region_Code\"] = data[\"Region_Code\"].replace({'RG268': 0 ,'RG283':1 ,'RG254':2 ,'RG284':3 ,'RG277':4 ,'RG280':5 ,'RG270':5 ,'RG269':6 ,'RG261':7 ,'RG251':8 ,'RG257':8 ,'RG272':9 ,'RG282':10 ,'RG274':11 ,'RG281':12 ,'RG252':13 ,'RG273':14 ,'RG263':15 ,'RG279':16 ,'RG275':17 ,'RG260':18 ,'RG264':19 ,'RG256':20 ,'RG276':21 ,'RG259':22 ,'RG250':23 ,'RG255':24 ,'RG278':25 ,'RG258':26 ,'RG253':27 ,'RG262':29 ,'RG265':30 ,'RG271':31 ,'RG266':32 ,'RG267':33})\n",
    "    "
   ]
  },
  {
   "cell_type": "code",
   "execution_count": 60,
   "metadata": {},
   "outputs": [
    {
     "data": {
      "text/html": [
       "<div>\n",
       "<style scoped>\n",
       "    .dataframe tbody tr th:only-of-type {\n",
       "        vertical-align: middle;\n",
       "    }\n",
       "\n",
       "    .dataframe tbody tr th {\n",
       "        vertical-align: top;\n",
       "    }\n",
       "\n",
       "    .dataframe thead th {\n",
       "        text-align: right;\n",
       "    }\n",
       "</style>\n",
       "<table border=\"1\" class=\"dataframe\">\n",
       "  <thead>\n",
       "    <tr style=\"text-align: right;\">\n",
       "      <th></th>\n",
       "      <th>Gender</th>\n",
       "      <th>Age</th>\n",
       "      <th>Region_Code</th>\n",
       "      <th>Occupation</th>\n",
       "      <th>Channel_Code</th>\n",
       "      <th>Vintage</th>\n",
       "      <th>Credit_Product</th>\n",
       "      <th>Avg_Account_Balance</th>\n",
       "      <th>Is_Active</th>\n",
       "      <th>Is_Lead</th>\n",
       "    </tr>\n",
       "  </thead>\n",
       "  <tbody>\n",
       "    <tr>\n",
       "      <th>0</th>\n",
       "      <td>0</td>\n",
       "      <td>73</td>\n",
       "      <td>0</td>\n",
       "      <td>0</td>\n",
       "      <td>2</td>\n",
       "      <td>43</td>\n",
       "      <td>1</td>\n",
       "      <td>1045696</td>\n",
       "      <td>0</td>\n",
       "      <td>0</td>\n",
       "    </tr>\n",
       "    <tr>\n",
       "      <th>1</th>\n",
       "      <td>0</td>\n",
       "      <td>30</td>\n",
       "      <td>4</td>\n",
       "      <td>1</td>\n",
       "      <td>0</td>\n",
       "      <td>32</td>\n",
       "      <td>1</td>\n",
       "      <td>581988</td>\n",
       "      <td>0</td>\n",
       "      <td>0</td>\n",
       "    </tr>\n",
       "    <tr>\n",
       "      <th>2</th>\n",
       "      <td>0</td>\n",
       "      <td>56</td>\n",
       "      <td>0</td>\n",
       "      <td>3</td>\n",
       "      <td>2</td>\n",
       "      <td>26</td>\n",
       "      <td>1</td>\n",
       "      <td>1484315</td>\n",
       "      <td>1</td>\n",
       "      <td>0</td>\n",
       "    </tr>\n",
       "    <tr>\n",
       "      <th>3</th>\n",
       "      <td>1</td>\n",
       "      <td>34</td>\n",
       "      <td>5</td>\n",
       "      <td>1</td>\n",
       "      <td>0</td>\n",
       "      <td>19</td>\n",
       "      <td>1</td>\n",
       "      <td>470454</td>\n",
       "      <td>0</td>\n",
       "      <td>0</td>\n",
       "    </tr>\n",
       "    <tr>\n",
       "      <th>4</th>\n",
       "      <td>0</td>\n",
       "      <td>30</td>\n",
       "      <td>10</td>\n",
       "      <td>1</td>\n",
       "      <td>0</td>\n",
       "      <td>33</td>\n",
       "      <td>1</td>\n",
       "      <td>886787</td>\n",
       "      <td>0</td>\n",
       "      <td>0</td>\n",
       "    </tr>\n",
       "  </tbody>\n",
       "</table>\n",
       "</div>"
      ],
      "text/plain": [
       "   Gender  Age  Region_Code  Occupation  Channel_Code  Vintage  \\\n",
       "0       0   73            0           0             2       43   \n",
       "1       0   30            4           1             0       32   \n",
       "2       0   56            0           3             2       26   \n",
       "3       1   34            5           1             0       19   \n",
       "4       0   30           10           1             0       33   \n",
       "\n",
       "   Credit_Product  Avg_Account_Balance  Is_Active  Is_Lead  \n",
       "0               1              1045696          0        0  \n",
       "1               1               581988          0        0  \n",
       "2               1              1484315          1        0  \n",
       "3               1               470454          0        0  \n",
       "4               1               886787          0        0  "
      ]
     },
     "execution_count": 60,
     "metadata": {},
     "output_type": "execute_result"
    }
   ],
   "source": [
    "temp = train.copy()\n",
    "data_prep(temp)\n",
    "temp.head()"
   ]
  },
  {
   "cell_type": "markdown",
   "metadata": {},
   "source": [
    "##### MinMax scaling"
   ]
  },
  {
   "cell_type": "code",
   "execution_count": 339,
   "metadata": {},
   "outputs": [],
   "source": [
    "def transform(data):\n",
    "    scaler = MinMaxScaler(feature_range=(0,1))\n",
    "    data = scaler.fit_transform(data)\n",
    "    return data"
   ]
  },
  {
   "cell_type": "code",
   "execution_count": 340,
   "metadata": {},
   "outputs": [],
   "source": [
    "X = temp.drop('Is_Lead',axis=1) #Independent variables\n",
    "X = transform(X)"
   ]
  },
  {
   "cell_type": "code",
   "execution_count": 341,
   "metadata": {},
   "outputs": [
    {
     "data": {
      "text/html": [
       "<div>\n",
       "<style scoped>\n",
       "    .dataframe tbody tr th:only-of-type {\n",
       "        vertical-align: middle;\n",
       "    }\n",
       "\n",
       "    .dataframe tbody tr th {\n",
       "        vertical-align: top;\n",
       "    }\n",
       "\n",
       "    .dataframe thead th {\n",
       "        text-align: right;\n",
       "    }\n",
       "</style>\n",
       "<table border=\"1\" class=\"dataframe\">\n",
       "  <thead>\n",
       "    <tr style=\"text-align: right;\">\n",
       "      <th></th>\n",
       "      <th>Gender</th>\n",
       "      <th>Age</th>\n",
       "      <th>Region_Code</th>\n",
       "      <th>Occupation</th>\n",
       "      <th>Channel_Code</th>\n",
       "      <th>Vintage</th>\n",
       "      <th>Credit_Product</th>\n",
       "      <th>Avg_Account_Balance</th>\n",
       "      <th>Is_Active</th>\n",
       "    </tr>\n",
       "  </thead>\n",
       "  <tbody>\n",
       "    <tr>\n",
       "      <th>0</th>\n",
       "      <td>0.0</td>\n",
       "      <td>0.806452</td>\n",
       "      <td>0.000000</td>\n",
       "      <td>0.000000</td>\n",
       "      <td>0.666667</td>\n",
       "      <td>0.281250</td>\n",
       "      <td>0.5</td>\n",
       "      <td>0.099205</td>\n",
       "      <td>0.0</td>\n",
       "    </tr>\n",
       "    <tr>\n",
       "      <th>1</th>\n",
       "      <td>0.0</td>\n",
       "      <td>0.112903</td>\n",
       "      <td>0.121212</td>\n",
       "      <td>0.333333</td>\n",
       "      <td>0.000000</td>\n",
       "      <td>0.195312</td>\n",
       "      <td>0.5</td>\n",
       "      <td>0.054321</td>\n",
       "      <td>0.0</td>\n",
       "    </tr>\n",
       "    <tr>\n",
       "      <th>2</th>\n",
       "      <td>0.0</td>\n",
       "      <td>0.532258</td>\n",
       "      <td>0.000000</td>\n",
       "      <td>1.000000</td>\n",
       "      <td>0.666667</td>\n",
       "      <td>0.148438</td>\n",
       "      <td>0.5</td>\n",
       "      <td>0.141660</td>\n",
       "      <td>1.0</td>\n",
       "    </tr>\n",
       "    <tr>\n",
       "      <th>3</th>\n",
       "      <td>1.0</td>\n",
       "      <td>0.177419</td>\n",
       "      <td>0.151515</td>\n",
       "      <td>0.333333</td>\n",
       "      <td>0.000000</td>\n",
       "      <td>0.093750</td>\n",
       "      <td>0.5</td>\n",
       "      <td>0.043525</td>\n",
       "      <td>0.0</td>\n",
       "    </tr>\n",
       "    <tr>\n",
       "      <th>4</th>\n",
       "      <td>0.0</td>\n",
       "      <td>0.112903</td>\n",
       "      <td>0.303030</td>\n",
       "      <td>0.333333</td>\n",
       "      <td>0.000000</td>\n",
       "      <td>0.203125</td>\n",
       "      <td>0.5</td>\n",
       "      <td>0.083823</td>\n",
       "      <td>0.0</td>\n",
       "    </tr>\n",
       "    <tr>\n",
       "      <th>...</th>\n",
       "      <td>...</td>\n",
       "      <td>...</td>\n",
       "      <td>...</td>\n",
       "      <td>...</td>\n",
       "      <td>...</td>\n",
       "      <td>...</td>\n",
       "      <td>...</td>\n",
       "      <td>...</td>\n",
       "      <td>...</td>\n",
       "    </tr>\n",
       "    <tr>\n",
       "      <th>245720</th>\n",
       "      <td>1.0</td>\n",
       "      <td>0.451613</td>\n",
       "      <td>0.090909</td>\n",
       "      <td>1.000000</td>\n",
       "      <td>0.666667</td>\n",
       "      <td>0.796875</td>\n",
       "      <td>0.0</td>\n",
       "      <td>0.184373</td>\n",
       "      <td>0.0</td>\n",
       "    </tr>\n",
       "    <tr>\n",
       "      <th>245721</th>\n",
       "      <td>1.0</td>\n",
       "      <td>0.064516</td>\n",
       "      <td>0.000000</td>\n",
       "      <td>0.333333</td>\n",
       "      <td>0.000000</td>\n",
       "      <td>0.062500</td>\n",
       "      <td>0.5</td>\n",
       "      <td>0.081516</td>\n",
       "      <td>1.0</td>\n",
       "    </tr>\n",
       "    <tr>\n",
       "      <th>245722</th>\n",
       "      <td>0.0</td>\n",
       "      <td>0.048387</td>\n",
       "      <td>0.363636</td>\n",
       "      <td>0.333333</td>\n",
       "      <td>0.000000</td>\n",
       "      <td>0.046875</td>\n",
       "      <td>0.5</td>\n",
       "      <td>0.062903</td>\n",
       "      <td>0.0</td>\n",
       "    </tr>\n",
       "    <tr>\n",
       "      <th>245723</th>\n",
       "      <td>0.0</td>\n",
       "      <td>0.080645</td>\n",
       "      <td>0.424242</td>\n",
       "      <td>0.333333</td>\n",
       "      <td>0.000000</td>\n",
       "      <td>0.187500</td>\n",
       "      <td>0.5</td>\n",
       "      <td>0.037432</td>\n",
       "      <td>0.0</td>\n",
       "    </tr>\n",
       "    <tr>\n",
       "      <th>245724</th>\n",
       "      <td>1.0</td>\n",
       "      <td>0.096774</td>\n",
       "      <td>0.181818</td>\n",
       "      <td>0.333333</td>\n",
       "      <td>0.000000</td>\n",
       "      <td>0.109375</td>\n",
       "      <td>0.5</td>\n",
       "      <td>0.107295</td>\n",
       "      <td>0.0</td>\n",
       "    </tr>\n",
       "  </tbody>\n",
       "</table>\n",
       "<p>245725 rows × 9 columns</p>\n",
       "</div>"
      ],
      "text/plain": [
       "        Gender       Age  Region_Code  Occupation  Channel_Code   Vintage  \\\n",
       "0          0.0  0.806452     0.000000    0.000000      0.666667  0.281250   \n",
       "1          0.0  0.112903     0.121212    0.333333      0.000000  0.195312   \n",
       "2          0.0  0.532258     0.000000    1.000000      0.666667  0.148438   \n",
       "3          1.0  0.177419     0.151515    0.333333      0.000000  0.093750   \n",
       "4          0.0  0.112903     0.303030    0.333333      0.000000  0.203125   \n",
       "...        ...       ...          ...         ...           ...       ...   \n",
       "245720     1.0  0.451613     0.090909    1.000000      0.666667  0.796875   \n",
       "245721     1.0  0.064516     0.000000    0.333333      0.000000  0.062500   \n",
       "245722     0.0  0.048387     0.363636    0.333333      0.000000  0.046875   \n",
       "245723     0.0  0.080645     0.424242    0.333333      0.000000  0.187500   \n",
       "245724     1.0  0.096774     0.181818    0.333333      0.000000  0.109375   \n",
       "\n",
       "        Credit_Product  Avg_Account_Balance  Is_Active  \n",
       "0                  0.5             0.099205        0.0  \n",
       "1                  0.5             0.054321        0.0  \n",
       "2                  0.5             0.141660        1.0  \n",
       "3                  0.5             0.043525        0.0  \n",
       "4                  0.5             0.083823        0.0  \n",
       "...                ...                  ...        ...  \n",
       "245720             0.0             0.184373        0.0  \n",
       "245721             0.5             0.081516        1.0  \n",
       "245722             0.5             0.062903        0.0  \n",
       "245723             0.5             0.037432        0.0  \n",
       "245724             0.5             0.107295        0.0  \n",
       "\n",
       "[245725 rows x 9 columns]"
      ]
     },
     "execution_count": 341,
     "metadata": {},
     "output_type": "execute_result"
    }
   ],
   "source": [
    "X = pd.DataFrame(X, columns=[\"Gender\",\"Age\",\"Region_Code\",\"Occupation\",\"Channel_Code\",\"Vintage\",\"Credit_Product\",\"Avg_Account_Balance\",\"Is_Active\"])\n",
    "X"
   ]
  },
  {
   "cell_type": "code",
   "execution_count": 342,
   "metadata": {},
   "outputs": [
    {
     "data": {
      "text/plain": [
       "(245725, 9)"
      ]
     },
     "execution_count": 342,
     "metadata": {},
     "output_type": "execute_result"
    }
   ],
   "source": [
    "X.shape"
   ]
  },
  {
   "cell_type": "code",
   "execution_count": 343,
   "metadata": {},
   "outputs": [],
   "source": [
    "Y = temp['Is_Lead']     #dependent variable\n",
    "Y = Y.astype('float64') #data type of x and y are diffrent"
   ]
  },
  {
   "cell_type": "code",
   "execution_count": 344,
   "metadata": {},
   "outputs": [
    {
     "data": {
      "text/plain": [
       "(245725,)"
      ]
     },
     "execution_count": 344,
     "metadata": {},
     "output_type": "execute_result"
    }
   ],
   "source": [
    "Y.shape"
   ]
  },
  {
   "cell_type": "markdown",
   "metadata": {},
   "source": [
    "### 6. Feature Selection\n",
    "### 6.1 correlation matrix"
   ]
  },
  {
   "cell_type": "code",
   "execution_count": 114,
   "metadata": {
    "scrolled": false
   },
   "outputs": [
    {
     "data": {
      "text/html": [
       "<div>\n",
       "<style scoped>\n",
       "    .dataframe tbody tr th:only-of-type {\n",
       "        vertical-align: middle;\n",
       "    }\n",
       "\n",
       "    .dataframe tbody tr th {\n",
       "        vertical-align: top;\n",
       "    }\n",
       "\n",
       "    .dataframe thead th {\n",
       "        text-align: right;\n",
       "    }\n",
       "</style>\n",
       "<table border=\"1\" class=\"dataframe\">\n",
       "  <thead>\n",
       "    <tr style=\"text-align: right;\">\n",
       "      <th></th>\n",
       "      <th>Gender</th>\n",
       "      <th>Age</th>\n",
       "      <th>Region_Code</th>\n",
       "      <th>Occupation</th>\n",
       "      <th>Channel_Code</th>\n",
       "      <th>Vintage</th>\n",
       "      <th>Credit_Product</th>\n",
       "      <th>Avg_Account_Balance</th>\n",
       "      <th>Is_Active</th>\n",
       "      <th>Is_Lead</th>\n",
       "    </tr>\n",
       "  </thead>\n",
       "  <tbody>\n",
       "    <tr>\n",
       "      <th>Gender</th>\n",
       "      <td>1.000000</td>\n",
       "      <td>0.152076</td>\n",
       "      <td>-0.021311</td>\n",
       "      <td>0.058284</td>\n",
       "      <td>0.150586</td>\n",
       "      <td>0.146380</td>\n",
       "      <td>0.001726</td>\n",
       "      <td>0.022477</td>\n",
       "      <td>0.064207</td>\n",
       "      <td>0.072068</td>\n",
       "    </tr>\n",
       "    <tr>\n",
       "      <th>Age</th>\n",
       "      <td>0.152076</td>\n",
       "      <td>1.000000</td>\n",
       "      <td>-0.173305</td>\n",
       "      <td>-0.019709</td>\n",
       "      <td>0.605543</td>\n",
       "      <td>0.631242</td>\n",
       "      <td>-0.005145</td>\n",
       "      <td>0.145232</td>\n",
       "      <td>0.218770</td>\n",
       "      <td>0.230814</td>\n",
       "    </tr>\n",
       "    <tr>\n",
       "      <th>Region_Code</th>\n",
       "      <td>-0.021311</td>\n",
       "      <td>-0.173305</td>\n",
       "      <td>1.000000</td>\n",
       "      <td>-0.056567</td>\n",
       "      <td>-0.153822</td>\n",
       "      <td>-0.183710</td>\n",
       "      <td>0.008507</td>\n",
       "      <td>-0.251650</td>\n",
       "      <td>-0.126037</td>\n",
       "      <td>-0.071240</td>\n",
       "    </tr>\n",
       "    <tr>\n",
       "      <th>Occupation</th>\n",
       "      <td>0.058284</td>\n",
       "      <td>-0.019709</td>\n",
       "      <td>-0.056567</td>\n",
       "      <td>1.000000</td>\n",
       "      <td>0.233852</td>\n",
       "      <td>0.120847</td>\n",
       "      <td>0.014861</td>\n",
       "      <td>-0.015787</td>\n",
       "      <td>0.117004</td>\n",
       "      <td>0.062796</td>\n",
       "    </tr>\n",
       "    <tr>\n",
       "      <th>Channel_Code</th>\n",
       "      <td>0.150586</td>\n",
       "      <td>0.605543</td>\n",
       "      <td>-0.153822</td>\n",
       "      <td>0.233852</td>\n",
       "      <td>1.000000</td>\n",
       "      <td>0.537852</td>\n",
       "      <td>0.020034</td>\n",
       "      <td>0.099911</td>\n",
       "      <td>0.249655</td>\n",
       "      <td>0.261211</td>\n",
       "    </tr>\n",
       "    <tr>\n",
       "      <th>Vintage</th>\n",
       "      <td>0.146380</td>\n",
       "      <td>0.631242</td>\n",
       "      <td>-0.183710</td>\n",
       "      <td>0.120847</td>\n",
       "      <td>0.537852</td>\n",
       "      <td>1.000000</td>\n",
       "      <td>-0.047703</td>\n",
       "      <td>0.167433</td>\n",
       "      <td>0.209356</td>\n",
       "      <td>0.279642</td>\n",
       "    </tr>\n",
       "    <tr>\n",
       "      <th>Credit_Product</th>\n",
       "      <td>0.001726</td>\n",
       "      <td>-0.005145</td>\n",
       "      <td>0.008507</td>\n",
       "      <td>0.014861</td>\n",
       "      <td>0.020034</td>\n",
       "      <td>-0.047703</td>\n",
       "      <td>1.000000</td>\n",
       "      <td>0.011652</td>\n",
       "      <td>-0.115421</td>\n",
       "      <td>-0.192146</td>\n",
       "    </tr>\n",
       "    <tr>\n",
       "      <th>Avg_Account_Balance</th>\n",
       "      <td>0.022477</td>\n",
       "      <td>0.145232</td>\n",
       "      <td>-0.251650</td>\n",
       "      <td>-0.015787</td>\n",
       "      <td>0.099911</td>\n",
       "      <td>0.167433</td>\n",
       "      <td>0.011652</td>\n",
       "      <td>1.000000</td>\n",
       "      <td>0.076637</td>\n",
       "      <td>0.053370</td>\n",
       "    </tr>\n",
       "    <tr>\n",
       "      <th>Is_Active</th>\n",
       "      <td>0.064207</td>\n",
       "      <td>0.218770</td>\n",
       "      <td>-0.126037</td>\n",
       "      <td>0.117004</td>\n",
       "      <td>0.249655</td>\n",
       "      <td>0.209356</td>\n",
       "      <td>-0.115421</td>\n",
       "      <td>0.076637</td>\n",
       "      <td>1.000000</td>\n",
       "      <td>0.085723</td>\n",
       "    </tr>\n",
       "    <tr>\n",
       "      <th>Is_Lead</th>\n",
       "      <td>0.072068</td>\n",
       "      <td>0.230814</td>\n",
       "      <td>-0.071240</td>\n",
       "      <td>0.062796</td>\n",
       "      <td>0.261211</td>\n",
       "      <td>0.279642</td>\n",
       "      <td>-0.192146</td>\n",
       "      <td>0.053370</td>\n",
       "      <td>0.085723</td>\n",
       "      <td>1.000000</td>\n",
       "    </tr>\n",
       "  </tbody>\n",
       "</table>\n",
       "</div>"
      ],
      "text/plain": [
       "                       Gender       Age  Region_Code  Occupation  \\\n",
       "Gender               1.000000  0.152076    -0.021311    0.058284   \n",
       "Age                  0.152076  1.000000    -0.173305   -0.019709   \n",
       "Region_Code         -0.021311 -0.173305     1.000000   -0.056567   \n",
       "Occupation           0.058284 -0.019709    -0.056567    1.000000   \n",
       "Channel_Code         0.150586  0.605543    -0.153822    0.233852   \n",
       "Vintage              0.146380  0.631242    -0.183710    0.120847   \n",
       "Credit_Product       0.001726 -0.005145     0.008507    0.014861   \n",
       "Avg_Account_Balance  0.022477  0.145232    -0.251650   -0.015787   \n",
       "Is_Active            0.064207  0.218770    -0.126037    0.117004   \n",
       "Is_Lead              0.072068  0.230814    -0.071240    0.062796   \n",
       "\n",
       "                     Channel_Code   Vintage  Credit_Product  \\\n",
       "Gender                   0.150586  0.146380        0.001726   \n",
       "Age                      0.605543  0.631242       -0.005145   \n",
       "Region_Code             -0.153822 -0.183710        0.008507   \n",
       "Occupation               0.233852  0.120847        0.014861   \n",
       "Channel_Code             1.000000  0.537852        0.020034   \n",
       "Vintage                  0.537852  1.000000       -0.047703   \n",
       "Credit_Product           0.020034 -0.047703        1.000000   \n",
       "Avg_Account_Balance      0.099911  0.167433        0.011652   \n",
       "Is_Active                0.249655  0.209356       -0.115421   \n",
       "Is_Lead                  0.261211  0.279642       -0.192146   \n",
       "\n",
       "                     Avg_Account_Balance  Is_Active   Is_Lead  \n",
       "Gender                          0.022477   0.064207  0.072068  \n",
       "Age                             0.145232   0.218770  0.230814  \n",
       "Region_Code                    -0.251650  -0.126037 -0.071240  \n",
       "Occupation                     -0.015787   0.117004  0.062796  \n",
       "Channel_Code                    0.099911   0.249655  0.261211  \n",
       "Vintage                         0.167433   0.209356  0.279642  \n",
       "Credit_Product                  0.011652  -0.115421 -0.192146  \n",
       "Avg_Account_Balance             1.000000   0.076637  0.053370  \n",
       "Is_Active                       0.076637   1.000000  0.085723  \n",
       "Is_Lead                         0.053370   0.085723  1.000000  "
      ]
     },
     "execution_count": 114,
     "metadata": {},
     "output_type": "execute_result"
    }
   ],
   "source": [
    "temp.corr()"
   ]
  },
  {
   "cell_type": "code",
   "execution_count": 115,
   "metadata": {},
   "outputs": [
    {
     "data": {
      "text/plain": [
       "<AxesSubplot:>"
      ]
     },
     "execution_count": 115,
     "metadata": {},
     "output_type": "execute_result"
    },
    {
     "data": {
      "image/png": "[encoded data removed]",
      "text/plain": [
       "<Figure size 864x720 with 1 Axes>"
      ]
     },
     "metadata": {
      "needs_background": "light"
     },
     "output_type": "display_data"
    }
   ],
   "source": [
    "plt.figure(1, figsize=(12,10))\n",
    "sns.heatmap(temp.corr(),cmap=\"cubehelix\", annot=True, cbar=False)"
   ]
  },
  {
   "cell_type": "markdown",
   "metadata": {},
   "source": [
    "### 6.2 Information gain"
   ]
  },
  {
   "cell_type": "code",
   "execution_count": 116,
   "metadata": {},
   "outputs": [
    {
     "data": {
      "text/plain": [
       "Credit_Product         0.172117\n",
       "Channel_Code           0.050628\n",
       "Age                    0.050192\n",
       "Vintage                0.045938\n",
       "Occupation             0.017572\n",
       "Gender                 0.012531\n",
       "Region_Code            0.008943\n",
       "Is_Active              0.007457\n",
       "Avg_Account_Balance    0.006408\n",
       "dtype: float64"
      ]
     },
     "execution_count": 116,
     "metadata": {},
     "output_type": "execute_result"
    }
   ],
   "source": [
    "from sklearn.feature_selection import mutual_info_classif\n",
    "# determine the mutual information\n",
    "\n",
    "mutual_info = pd.Series(mutual_info_classif(X,Y))\n",
    "mutual_info.index = temp.drop('Is_Lead',axis=1).columns\n",
    "mutual_info.sort_values(ascending=False)"
   ]
  },
  {
   "cell_type": "code",
   "execution_count": 117,
   "metadata": {},
   "outputs": [
    {
     "data": {
      "text/plain": [
       "<AxesSubplot:>"
      ]
     },
     "execution_count": 117,
     "metadata": {},
     "output_type": "execute_result"
    },
    {
     "data": {
      "image/png": "[encoded data removed]",
      "text/plain": [
       "<Figure size 1152x432 with 1 Axes>"
      ]
     },
     "metadata": {
      "needs_background": "light"
     },
     "output_type": "display_data"
    }
   ],
   "source": [
    "#plot mutual_info values per feature\n",
    "mutual_info.sort_values(ascending=False).plot.bar(figsize=(16, 6))"
   ]
  },
  {
   "cell_type": "code",
   "execution_count": 118,
   "metadata": {},
   "outputs": [
    {
     "data": {
      "text/plain": [
       "<function matplotlib.pyplot.show(close=None, block=None)>"
      ]
     },
     "execution_count": 118,
     "metadata": {},
     "output_type": "execute_result"
    },
    {
     "data": {
      "image/png": "[encoded data removed]",
      "text/plain": [
       "<Figure size 2160x432 with 10 Axes>"
      ]
     },
     "metadata": {
      "needs_background": "light"
     },
     "output_type": "display_data"
    }
   ],
   "source": [
    "plt.figure(1, figsize=(30,6))\n",
    "n=0\n",
    "for x in temp.columns:\n",
    "    n += 1\n",
    "    plt.subplot(1,temp.shape[1],n)\n",
    "    plt.subplots_adjust(hspace  = 1, wspace = 1)\n",
    "    sns.histplot(temp[x], bins =20)\n",
    "    plt.title('Distplot of {}'.format(x))\n",
    "plt.show"
   ]
  },
  {
   "cell_type": "markdown",
   "metadata": {},
   "source": [
    "##### distribution shows skewness... therefore stratified cross validation is the way forward"
   ]
  },
  {
   "cell_type": "markdown",
   "metadata": {},
   "source": [
    "### 7. Train test Split"
   ]
  },
  {
   "cell_type": "code",
   "execution_count": 283,
   "metadata": {},
   "outputs": [],
   "source": [
    "from sklearn.model_selection import train_test_split\n",
    "\n",
    "X_train, X_test, y_train, y_test = train_test_split(X,\n",
    "                                    Y, stratify=Y,\n",
    "                                    test_size=0.10, random_state=0, shuffle=True)"
   ]
  },
  {
   "cell_type": "code",
   "execution_count": 284,
   "metadata": {},
   "outputs": [
    {
     "name": "stdout",
     "output_type": "stream",
     "text": [
      "(221152,) (24573,)\n",
      "(221152, 9) (24573, 9)\n"
     ]
    }
   ],
   "source": [
    "print(y_train.shape, y_test.shape)\n",
    "print(X_train.shape, X_test.shape)"
   ]
  },
  {
   "cell_type": "markdown",
   "metadata": {},
   "source": [
    "### 8. Model selection"
   ]
  },
  {
   "cell_type": "code",
   "execution_count": 74,
   "metadata": {},
   "outputs": [],
   "source": [
    "from sklearn.model_selection import StratifiedKFold\n",
    "from sklearn import model_selection\n",
    "\n",
    "\n",
    "from sklearn.ensemble import RandomForestClassifier\n",
    "from sklearn.linear_model import LogisticRegression\n",
    "from sklearn.tree import DecisionTreeClassifier\n",
    "from sklearn.naive_bayes import GaussianNB\n",
    "from sklearn.neighbors import KNeighborsClassifier\n",
    "from xgboost import XGBClassifier\n",
    "from sklearn.ensemble import AdaBoostClassifier\n",
    "from sklearn.ensemble import VotingClassifier\n",
    "\n",
    "#from sklearn.svm import SVC\n",
    "#from sklearn.linear_model import SGDClassifier"
   ]
  },
  {
   "cell_type": "code",
   "execution_count": 75,
   "metadata": {},
   "outputs": [],
   "source": [
    "#scoring\n",
    "from sklearn.metrics import accuracy_score\n",
    "from sklearn.metrics import roc_auc_score\n",
    "from sklearn.metrics import f1_score\n",
    "from statistics import mean\n"
   ]
  },
  {
   "cell_type": "code",
   "execution_count": 76,
   "metadata": {},
   "outputs": [],
   "source": [
    "seed = 1994\n",
    "num_trees = 30\n",
    "classifier_name = []\n",
    "accuracy =  []\n",
    "roc_auc = []\n",
    "f1 = []\n",
    "time = []"
   ]
  },
  {
   "cell_type": "code",
   "execution_count": 77,
   "metadata": {},
   "outputs": [],
   "source": [
    "#Models\n",
    "#SGD_classifier = SGDClassifier()\n",
    "#svm_classifier = SVC()\n",
    "logistic_classifier = LogisticRegression()\n",
    "random_forest_classifier = RandomForestClassifier()\n",
    "decision_classifier = DecisionTreeClassifier()\n",
    "naiveB_classifier = GaussianNB()\n",
    "knn_classifier = KNeighborsClassifier()\n",
    "adb_classifier = AdaBoostClassifier( n_estimators = num_trees, random_state = seed )\n",
    "xgb_classifier = XGBClassifier(n_estimators = num_trees, random_state = seed )\n",
    "\n",
    "models = [logistic_classifier, random_forest_classifier, decision_classifier, naiveB_classifier, knn_classifier, adb_classifier, xgb_classifier]"
   ]
  },
  {
   "cell_type": "code",
   "execution_count": 78,
   "metadata": {
    "scrolled": true
   },
   "outputs": [
    {
     "name": "stderr",
     "output_type": "stream",
     "text": [
      "C:\\Users\\anand\\anaconda3\\lib\\site-packages\\xgboost\\sklearn.py:1146: UserWarning: The use of label encoder in XGBClassifier is deprecated and will be removed in a future release. To remove this warning, do the following: 1) Pass option use_label_encoder=False when constructing XGBClassifier object; and 2) Encode your labels (y) as integers starting with 0, i.e. 0, 1, 2, ..., [num_class - 1].\n",
      "  warnings.warn(label_encoder_deprecation_msg, UserWarning)\n"
     ]
    },
    {
     "name": "stdout",
     "output_type": "stream",
     "text": [
      "[21:31:00] WARNING: C:/Users/Administrator/workspace/xgboost-win64_release_1.4.0/src/learner.cc:1095: Starting in XGBoost 1.3.0, the default evaluation metric used with the objective 'binary:logistic' was changed from 'error' to 'logloss'. Explicitly set eval_metric if you'd like to restore the old behavior.\n"
     ]
    },
    {
     "name": "stderr",
     "output_type": "stream",
     "text": [
      "C:\\Users\\anand\\anaconda3\\lib\\site-packages\\xgboost\\sklearn.py:1146: UserWarning: The use of label encoder in XGBClassifier is deprecated and will be removed in a future release. To remove this warning, do the following: 1) Pass option use_label_encoder=False when constructing XGBClassifier object; and 2) Encode your labels (y) as integers starting with 0, i.e. 0, 1, 2, ..., [num_class - 1].\n",
      "  warnings.warn(label_encoder_deprecation_msg, UserWarning)\n"
     ]
    },
    {
     "name": "stdout",
     "output_type": "stream",
     "text": [
      "[21:31:04] WARNING: C:/Users/Administrator/workspace/xgboost-win64_release_1.4.0/src/learner.cc:1095: Starting in XGBoost 1.3.0, the default evaluation metric used with the objective 'binary:logistic' was changed from 'error' to 'logloss'. Explicitly set eval_metric if you'd like to restore the old behavior.\n"
     ]
    },
    {
     "name": "stderr",
     "output_type": "stream",
     "text": [
      "C:\\Users\\anand\\anaconda3\\lib\\site-packages\\xgboost\\sklearn.py:1146: UserWarning: The use of label encoder in XGBClassifier is deprecated and will be removed in a future release. To remove this warning, do the following: 1) Pass option use_label_encoder=False when constructing XGBClassifier object; and 2) Encode your labels (y) as integers starting with 0, i.e. 0, 1, 2, ..., [num_class - 1].\n",
      "  warnings.warn(label_encoder_deprecation_msg, UserWarning)\n"
     ]
    },
    {
     "name": "stdout",
     "output_type": "stream",
     "text": [
      "[21:31:07] WARNING: C:/Users/Administrator/workspace/xgboost-win64_release_1.4.0/src/learner.cc:1095: Starting in XGBoost 1.3.0, the default evaluation metric used with the objective 'binary:logistic' was changed from 'error' to 'logloss'. Explicitly set eval_metric if you'd like to restore the old behavior.\n"
     ]
    },
    {
     "name": "stderr",
     "output_type": "stream",
     "text": [
      "C:\\Users\\anand\\anaconda3\\lib\\site-packages\\xgboost\\sklearn.py:1146: UserWarning: The use of label encoder in XGBClassifier is deprecated and will be removed in a future release. To remove this warning, do the following: 1) Pass option use_label_encoder=False when constructing XGBClassifier object; and 2) Encode your labels (y) as integers starting with 0, i.e. 0, 1, 2, ..., [num_class - 1].\n",
      "  warnings.warn(label_encoder_deprecation_msg, UserWarning)\n"
     ]
    },
    {
     "name": "stdout",
     "output_type": "stream",
     "text": [
      "[21:31:10] WARNING: C:/Users/Administrator/workspace/xgboost-win64_release_1.4.0/src/learner.cc:1095: Starting in XGBoost 1.3.0, the default evaluation metric used with the objective 'binary:logistic' was changed from 'error' to 'logloss'. Explicitly set eval_metric if you'd like to restore the old behavior.\n"
     ]
    },
    {
     "name": "stderr",
     "output_type": "stream",
     "text": [
      "C:\\Users\\anand\\anaconda3\\lib\\site-packages\\xgboost\\sklearn.py:1146: UserWarning: The use of label encoder in XGBClassifier is deprecated and will be removed in a future release. To remove this warning, do the following: 1) Pass option use_label_encoder=False when constructing XGBClassifier object; and 2) Encode your labels (y) as integers starting with 0, i.e. 0, 1, 2, ..., [num_class - 1].\n",
      "  warnings.warn(label_encoder_deprecation_msg, UserWarning)\n"
     ]
    },
    {
     "name": "stdout",
     "output_type": "stream",
     "text": [
      "[21:31:13] WARNING: C:/Users/Administrator/workspace/xgboost-win64_release_1.4.0/src/learner.cc:1095: Starting in XGBoost 1.3.0, the default evaluation metric used with the objective 'binary:logistic' was changed from 'error' to 'logloss'. Explicitly set eval_metric if you'd like to restore the old behavior.\n"
     ]
    },
    {
     "name": "stderr",
     "output_type": "stream",
     "text": [
      "C:\\Users\\anand\\anaconda3\\lib\\site-packages\\xgboost\\sklearn.py:1146: UserWarning: The use of label encoder in XGBClassifier is deprecated and will be removed in a future release. To remove this warning, do the following: 1) Pass option use_label_encoder=False when constructing XGBClassifier object; and 2) Encode your labels (y) as integers starting with 0, i.e. 0, 1, 2, ..., [num_class - 1].\n",
      "  warnings.warn(label_encoder_deprecation_msg, UserWarning)\n"
     ]
    },
    {
     "name": "stdout",
     "output_type": "stream",
     "text": [
      "[21:31:16] WARNING: C:/Users/Administrator/workspace/xgboost-win64_release_1.4.0/src/learner.cc:1095: Starting in XGBoost 1.3.0, the default evaluation metric used with the objective 'binary:logistic' was changed from 'error' to 'logloss'. Explicitly set eval_metric if you'd like to restore the old behavior.\n"
     ]
    },
    {
     "name": "stderr",
     "output_type": "stream",
     "text": [
      "C:\\Users\\anand\\anaconda3\\lib\\site-packages\\xgboost\\sklearn.py:1146: UserWarning: The use of label encoder in XGBClassifier is deprecated and will be removed in a future release. To remove this warning, do the following: 1) Pass option use_label_encoder=False when constructing XGBClassifier object; and 2) Encode your labels (y) as integers starting with 0, i.e. 0, 1, 2, ..., [num_class - 1].\n",
      "  warnings.warn(label_encoder_deprecation_msg, UserWarning)\n"
     ]
    },
    {
     "name": "stdout",
     "output_type": "stream",
     "text": [
      "[21:31:19] WARNING: C:/Users/Administrator/workspace/xgboost-win64_release_1.4.0/src/learner.cc:1095: Starting in XGBoost 1.3.0, the default evaluation metric used with the objective 'binary:logistic' was changed from 'error' to 'logloss'. Explicitly set eval_metric if you'd like to restore the old behavior.\n"
     ]
    },
    {
     "name": "stderr",
     "output_type": "stream",
     "text": [
      "C:\\Users\\anand\\anaconda3\\lib\\site-packages\\xgboost\\sklearn.py:1146: UserWarning: The use of label encoder in XGBClassifier is deprecated and will be removed in a future release. To remove this warning, do the following: 1) Pass option use_label_encoder=False when constructing XGBClassifier object; and 2) Encode your labels (y) as integers starting with 0, i.e. 0, 1, 2, ..., [num_class - 1].\n",
      "  warnings.warn(label_encoder_deprecation_msg, UserWarning)\n"
     ]
    },
    {
     "name": "stdout",
     "output_type": "stream",
     "text": [
      "[21:31:22] WARNING: C:/Users/Administrator/workspace/xgboost-win64_release_1.4.0/src/learner.cc:1095: Starting in XGBoost 1.3.0, the default evaluation metric used with the objective 'binary:logistic' was changed from 'error' to 'logloss'. Explicitly set eval_metric if you'd like to restore the old behavior.\n"
     ]
    },
    {
     "name": "stderr",
     "output_type": "stream",
     "text": [
      "C:\\Users\\anand\\anaconda3\\lib\\site-packages\\xgboost\\sklearn.py:1146: UserWarning: The use of label encoder in XGBClassifier is deprecated and will be removed in a future release. To remove this warning, do the following: 1) Pass option use_label_encoder=False when constructing XGBClassifier object; and 2) Encode your labels (y) as integers starting with 0, i.e. 0, 1, 2, ..., [num_class - 1].\n",
      "  warnings.warn(label_encoder_deprecation_msg, UserWarning)\n"
     ]
    },
    {
     "name": "stdout",
     "output_type": "stream",
     "text": [
      "[21:31:25] WARNING: C:/Users/Administrator/workspace/xgboost-win64_release_1.4.0/src/learner.cc:1095: Starting in XGBoost 1.3.0, the default evaluation metric used with the objective 'binary:logistic' was changed from 'error' to 'logloss'. Explicitly set eval_metric if you'd like to restore the old behavior.\n"
     ]
    },
    {
     "name": "stderr",
     "output_type": "stream",
     "text": [
      "C:\\Users\\anand\\anaconda3\\lib\\site-packages\\xgboost\\sklearn.py:1146: UserWarning: The use of label encoder in XGBClassifier is deprecated and will be removed in a future release. To remove this warning, do the following: 1) Pass option use_label_encoder=False when constructing XGBClassifier object; and 2) Encode your labels (y) as integers starting with 0, i.e. 0, 1, 2, ..., [num_class - 1].\n",
      "  warnings.warn(label_encoder_deprecation_msg, UserWarning)\n"
     ]
    },
    {
     "name": "stdout",
     "output_type": "stream",
     "text": [
      "[21:31:29] WARNING: C:/Users/Administrator/workspace/xgboost-win64_release_1.4.0/src/learner.cc:1095: Starting in XGBoost 1.3.0, the default evaluation metric used with the objective 'binary:logistic' was changed from 'error' to 'logloss'. Explicitly set eval_metric if you'd like to restore the old behavior.\n"
     ]
    }
   ],
   "source": [
    "\n",
    "kfold = model_selection.StratifiedKFold( n_splits = 10, random_state = seed, shuffle=True)\n",
    "\n",
    "for model in models:\n",
    "    results = model_selection.cross_validate(model, X_train, y_train, cv = kfold, scoring=['accuracy','roc_auc','f1'])\n",
    "    classifier_name.append(model.__class__.__name__)\n",
    "    \n",
    "    accuracy.append(mean(results['test_accuracy'])) # taking mean results of kflods\n",
    "    roc_auc.append(mean(results['test_roc_auc']))\n",
    "    f1.append(mean(results['test_f1']))\n",
    "    time.append(mean(results['fit_time']))\n"
   ]
  },
  {
   "cell_type": "code",
   "execution_count": 79,
   "metadata": {},
   "outputs": [
    {
     "data": {
      "text/html": [
       "<div>\n",
       "<style scoped>\n",
       "    .dataframe tbody tr th:only-of-type {\n",
       "        vertical-align: middle;\n",
       "    }\n",
       "\n",
       "    .dataframe tbody tr th {\n",
       "        vertical-align: top;\n",
       "    }\n",
       "\n",
       "    .dataframe thead th {\n",
       "        text-align: right;\n",
       "    }\n",
       "</style>\n",
       "<table border=\"1\" class=\"dataframe\">\n",
       "  <thead>\n",
       "    <tr style=\"text-align: right;\">\n",
       "      <th></th>\n",
       "      <th>Model</th>\n",
       "      <th>accuracy</th>\n",
       "      <th>roc_auc</th>\n",
       "      <th>f1</th>\n",
       "      <th>Time</th>\n",
       "    </tr>\n",
       "  </thead>\n",
       "  <tbody>\n",
       "    <tr>\n",
       "      <th>0</th>\n",
       "      <td>LogisticRegression</td>\n",
       "      <td>0.787773</td>\n",
       "      <td>0.727041</td>\n",
       "      <td>0.348761</td>\n",
       "      <td>0.465841</td>\n",
       "    </tr>\n",
       "    <tr>\n",
       "      <th>1</th>\n",
       "      <td>RandomForestClassifier</td>\n",
       "      <td>0.852896</td>\n",
       "      <td>0.856815</td>\n",
       "      <td>0.649073</td>\n",
       "      <td>22.895381</td>\n",
       "    </tr>\n",
       "    <tr>\n",
       "      <th>2</th>\n",
       "      <td>DecisionTreeClassifier</td>\n",
       "      <td>0.782348</td>\n",
       "      <td>0.705930</td>\n",
       "      <td>0.549919</td>\n",
       "      <td>0.927670</td>\n",
       "    </tr>\n",
       "    <tr>\n",
       "      <th>3</th>\n",
       "      <td>GaussianNB</td>\n",
       "      <td>0.777661</td>\n",
       "      <td>0.797938</td>\n",
       "      <td>0.561071</td>\n",
       "      <td>0.067091</td>\n",
       "    </tr>\n",
       "    <tr>\n",
       "      <th>4</th>\n",
       "      <td>KNeighborsClassifier</td>\n",
       "      <td>0.844714</td>\n",
       "      <td>0.824277</td>\n",
       "      <td>0.637760</td>\n",
       "      <td>22.794106</td>\n",
       "    </tr>\n",
       "    <tr>\n",
       "      <th>5</th>\n",
       "      <td>AdaBoostClassifier</td>\n",
       "      <td>0.855376</td>\n",
       "      <td>0.865022</td>\n",
       "      <td>0.620247</td>\n",
       "      <td>3.688366</td>\n",
       "    </tr>\n",
       "    <tr>\n",
       "      <th>6</th>\n",
       "      <td>XGBClassifier</td>\n",
       "      <td>0.860614</td>\n",
       "      <td>0.873517</td>\n",
       "      <td>0.650703</td>\n",
       "      <td>3.307260</td>\n",
       "    </tr>\n",
       "  </tbody>\n",
       "</table>\n",
       "</div>"
      ],
      "text/plain": [
       "                    Model  accuracy   roc_auc        f1       Time\n",
       "0      LogisticRegression  0.787773  0.727041  0.348761   0.465841\n",
       "1  RandomForestClassifier  0.852896  0.856815  0.649073  22.895381\n",
       "2  DecisionTreeClassifier  0.782348  0.705930  0.549919   0.927670\n",
       "3              GaussianNB  0.777661  0.797938  0.561071   0.067091\n",
       "4    KNeighborsClassifier  0.844714  0.824277  0.637760  22.794106\n",
       "5      AdaBoostClassifier  0.855376  0.865022  0.620247   3.688366\n",
       "6           XGBClassifier  0.860614  0.873517  0.650703   3.307260"
      ]
     },
     "execution_count": 79,
     "metadata": {},
     "output_type": "execute_result"
    }
   ],
   "source": [
    "evaluation = pd.DataFrame({'Model': classifier_name,\n",
    "                           'accuracy': accuracy,\n",
    "                          'roc_auc':roc_auc,\n",
    "                          'f1':f1,\n",
    "                         'Time': time})\n",
    "evaluation"
   ]
  },
  {
   "cell_type": "markdown",
   "metadata": {},
   "source": [
    "##### Xgb showed best reslut  therefore its selected\n",
    "### 9. Xgb parameter tuning using random search"
   ]
  },
  {
   "cell_type": "code",
   "execution_count": 142,
   "metadata": {},
   "outputs": [],
   "source": [
    "from sklearn.model_selection import RandomizedSearchCV\n",
    "from xgboost import XGBClassifier\n",
    "#from xgboost import DMatrix\n",
    "\n",
    "params={\n",
    " \"n_estimators\"     : np.arange(10, 100, 5),\n",
    " \"learning_rate\"    : [0.001, 0.005, 0.01, 0.03, 0.05, 0.07, 0.10, 0.12, 0.15, 0.2, 0.25, 0.3, 0.5 ] ,\n",
    " \"max_depth\"        : np.arange(1, 20, 1),\n",
    " 'use_label_encoder': [False],\n",
    " #\"criterion\"        : [\"gini\", \"entropy\"],\n",
    " \"min_child_weight\" : np.arange(1, 10, 1),\n",
    " \"gamma\"            : [ 0.0, 0.1, 0.2 , 0.3, 0.4, 0.5, 0.6, 0.7, 0.8, 0.9, 1.0 ],\n",
    " \"colsample_bytree\" : [ 0.3, 0.4, 0.5 , 0.7 ]\n",
    "}\n",
    "\n",
    "scoring_metric = [\"accuracy\", \"f1_weighted\", \"roc_auc\"]\n",
    "#itr =  [5, 10, 15, 20, 25, 30]\n",
    "jobs = 8\n",
    "#cvs = [5,10,15,20] #automatic 5 fod startified_kfod for multilabe  not required\n",
    "\n",
    "\n",
    "\n",
    "xgb_classifier = XGBClassifier(use_label_encoder=False)\n",
    "#xgb_train = DMatrix(data = X_train, label =  y_train)"
   ]
  },
  {
   "cell_type": "code",
   "execution_count": 143,
   "metadata": {
    "scrolled": false
   },
   "outputs": [
    {
     "name": "stdout",
     "output_type": "stream",
     "text": [
      "[22:14:29] WARNING: C:/Users/Administrator/workspace/xgboost-win64_release_1.4.0/src/learner.cc:1095: Starting in XGBoost 1.3.0, the default evaluation metric used with the objective 'binary:logistic' was changed from 'error' to 'logloss'. Explicitly set eval_metric if you'd like to restore the old behavior.\n",
      "0.8604655582237513\n",
      "{'objective': 'binary:logistic', 'use_label_encoder': False, 'base_score': 0.5, 'booster': 'gbtree', 'colsample_bylevel': 1, 'colsample_bynode': 1, 'colsample_bytree': 0.7, 'gamma': 0.5, 'gpu_id': -1, 'importance_type': 'gain', 'interaction_constraints': '', 'learning_rate': 0.03, 'max_delta_step': 0, 'max_depth': 8, 'min_child_weight': 4, 'missing': nan, 'monotone_constraints': '()', 'n_estimators': 85, 'n_jobs': 8, 'num_parallel_tree': 1, 'random_state': 0, 'reg_alpha': 0, 'reg_lambda': 1, 'scale_pos_weight': 1, 'subsample': 1, 'tree_method': 'exact', 'validate_parameters': 1, 'verbosity': None}\n",
      "nan\n"
     ]
    }
   ],
   "source": [
    "model = RandomizedSearchCV(\n",
    "    estimator = xgb_classifier,\n",
    "    param_distributions = params,\n",
    "    scoring = scoring_metric,\n",
    "    refit= \"accuracy\",\n",
    "    n_iter = 10,\n",
    "    n_jobs = jobs\n",
    ")\n",
    "model.fit(X_train, y = y_train)\n",
    "\n",
    "\n",
    "print(model.best_score_)\n",
    "print(model.best_estimator_.get_params())\n",
    "print(model.error_score)\n",
    "\n",
    "#print(model.scoring)\n",
    "#print(model.scorer_)\n",
    "#print(model.score)"
   ]
  },
  {
   "cell_type": "markdown",
   "metadata": {},
   "source": [
    "### 10. Model Training"
   ]
  },
  {
   "cell_type": "code",
   "execution_count": 345,
   "metadata": {},
   "outputs": [],
   "source": [
    "\n",
    "xgb_params= {'n_estimators': 35,\n",
    "             'booster': 'gbtree',\n",
    "             'random_state': 1994,\n",
    "             'max_depth': 15, \n",
    "             'learning_rate': 0.015,\n",
    "             'use_label_encoder': False,\n",
    "             'eval_metric':'auc'}"
   ]
  },
  {
   "cell_type": "code",
   "execution_count": 346,
   "metadata": {},
   "outputs": [],
   "source": [
    "def cross_val(X,Y,model,params, folds):\n",
    "    \n",
    "    kfold = StratifiedKFold( n_splits = folds, random_state = seed, shuffle=True)\n",
    "    for fold, (train_idx, test_idx) in enumerate(kfold.split(X,Y)):\n",
    "        print(\"fold :\", fold)\n",
    "        \n",
    "        x_train, y_train = X.iloc[train_idx], Y.iloc[train_idx]\n",
    "        x_test, y_test = X.iloc[test_idx], Y.iloc[test_idx]\n",
    "        \n",
    "        alg = model(**params)\n",
    "        alg.fit(x_train, y_train, eval_set = [(x_test, y_test)],early_stopping_rounds=100,verbose=400)\n",
    "        \n",
    "        pred = alg.predict(x_test)\n",
    "        roc_score = roc_auc_score(y_test, pred)\n",
    "        accuracy = accuracy_score(y_test, pred)\n",
    "        f1 = f1_score(y_test, pred, average = \"weighted\") \n",
    "        print(f\"   accuracy: {accuracy}\")\n",
    "        print(f\"   f1_score: {f1}\")\n",
    "        print(f\"   roc_auc_score: {roc_score}\")\n",
    "        print(\"-\"*100)\n",
    "    \n",
    "    return alg\n",
    "    \n",
    "    "
   ]
  },
  {
   "cell_type": "code",
   "execution_count": 347,
   "metadata": {},
   "outputs": [
    {
     "name": "stdout",
     "output_type": "stream",
     "text": [
      "fold : 0\n",
      "[0]\tvalidation_0-auc:0.86529\n",
      "[34]\tvalidation_0-auc:0.87017\n",
      "   accuracy: 0.8535901609694339\n",
      "   f1_score: 0.8467464417368855\n",
      "   roc_auc_score: 0.7587636929347586\n",
      "----------------------------------------------------------------------------------------------------\n",
      "fold : 1\n",
      "[0]\tvalidation_0-auc:0.86753\n",
      "[34]\tvalidation_0-auc:0.86973\n",
      "   accuracy: 0.8537258093687827\n",
      "   f1_score: 0.8464117811551605\n",
      "   roc_auc_score: 0.7566854222179836\n",
      "----------------------------------------------------------------------------------------------------\n",
      "fold : 2\n",
      "[0]\tvalidation_0-auc:0.86542\n",
      "[34]\tvalidation_0-auc:0.86761\n",
      "   accuracy: 0.8510513226316979\n",
      "   f1_score: 0.8439051021342693\n",
      "   roc_auc_score: 0.7543704366311552\n",
      "----------------------------------------------------------------------------------------------------\n",
      "fold : 3\n",
      "[0]\tvalidation_0-auc:0.86449\n",
      "[34]\tvalidation_0-auc:0.86729\n",
      "   accuracy: 0.8540809405380964\n",
      "   f1_score: 0.8458621978636154\n",
      "   roc_auc_score: 0.75291490094093\n",
      "----------------------------------------------------------------------------------------------------\n",
      "fold : 4\n",
      "[0]\tvalidation_0-auc:0.86262\n",
      "[34]\tvalidation_0-auc:0.86694\n",
      "   accuracy: 0.8554374858693194\n",
      "   f1_score: 0.8472521081788281\n",
      "   roc_auc_score: 0.7545921525264306\n",
      "----------------------------------------------------------------------------------------------------\n",
      "fold : 5\n",
      "[0]\tvalidation_0-auc:0.86484\n",
      "[34]\tvalidation_0-auc:0.86875\n",
      "   accuracy: 0.8531313588062401\n",
      "   f1_score: 0.8460871468785388\n",
      "   roc_auc_score: 0.7572834187926171\n",
      "----------------------------------------------------------------------------------------------------\n",
      "fold : 6\n",
      "[0]\tvalidation_0-auc:0.86224\n",
      "[34]\tvalidation_0-auc:0.86490\n",
      "   accuracy: 0.8553018313361972\n",
      "   f1_score: 0.8480322137795394\n",
      "   roc_auc_score: 0.7587061468737125\n",
      "----------------------------------------------------------------------------------------------------\n",
      "fold : 7\n",
      "[0]\tvalidation_0-auc:0.86618\n",
      "[34]\tvalidation_0-auc:0.86898\n",
      "   accuracy: 0.8539000678272666\n",
      "   f1_score: 0.8461587656319571\n",
      "   roc_auc_score: 0.7548977976936807\n",
      "----------------------------------------------------------------------------------------------------\n",
      "fold : 8\n",
      "[0]\tvalidation_0-auc:0.86467\n",
      "[34]\tvalidation_0-auc:0.86839\n",
      "   accuracy: 0.8539905041826814\n",
      "   f1_score: 0.8469806202066414\n",
      "   roc_auc_score: 0.7584376168924958\n",
      "----------------------------------------------------------------------------------------------------\n",
      "fold : 9\n",
      "[0]\tvalidation_0-auc:0.86456\n",
      "[34]\tvalidation_0-auc:0.86848\n",
      "   accuracy: 0.854985304092245\n",
      "   f1_score: 0.8478310599149859\n",
      "   roc_auc_score: 0.7588926889626273\n",
      "----------------------------------------------------------------------------------------------------\n"
     ]
    }
   ],
   "source": [
    "xgb_model = cross_val(X_train, y_train, XGBClassifier,xgb_params, folds = 10)"
   ]
  },
  {
   "cell_type": "markdown",
   "metadata": {},
   "source": [
    "### 11. Validating predictions on test set"
   ]
  },
  {
   "cell_type": "code",
   "execution_count": 348,
   "metadata": {},
   "outputs": [
    {
     "name": "stdout",
     "output_type": "stream",
     "text": [
      "roc_auc_score: 0.7592008993401135\n",
      "accuracy: 0.8555324950148537\n",
      "f1_score: 0.848311833439668\n"
     ]
    }
   ],
   "source": [
    "pred_test_set = xgb_model.predict(X_test)  #new\n",
    "\n",
    "accuracy = accuracy_score(y_test, pred_test_set)\n",
    "f1 = f1_score(y_test, pred_test_set, average = \"weighted\")\n",
    "roc_score = roc_auc_score(y_test, pred_test_set)\n",
    "\n",
    "print(f\"roc_auc_score: {roc_score}\")\n",
    "print(f\"accuracy: {accuracy}\")\n",
    "print(f\"f1_score: {f1}\")"
   ]
  },
  {
   "cell_type": "code",
   "execution_count": 349,
   "metadata": {},
   "outputs": [
    {
     "data": {
      "text/plain": [
       "Text(0.5, 1.0, 'Prediction')"
      ]
     },
     "execution_count": 349,
     "metadata": {},
     "output_type": "execute_result"
    },
    {
     "data": {
      "image/png": "[encoded data removed]",
      "text/plain": [
       "<Figure size 720x720 with 2 Axes>"
      ]
     },
     "metadata": {
      "needs_background": "light"
     },
     "output_type": "display_data"
    }
   ],
   "source": [
    "from sklearn.metrics import confusion_matrix\n",
    "plt.figure(1, figsize=(10,10))\n",
    "ax = plt.subplot()\n",
    "cm = confusion_matrix(y_test, pred_test_set, normalize = \"true\")\n",
    "sns.heatmap(cm, annot=True)\n",
    "ax.set_xlabel(\"Predicted\")\n",
    "ax.set_ylabel(\"True labels\")\n",
    "ax.set_title(\"Prediction\")"
   ]
  },
  {
   "cell_type": "markdown",
   "metadata": {},
   "source": [
    "# submission data prep and prediction"
   ]
  },
  {
   "cell_type": "code",
   "execution_count": 350,
   "metadata": {},
   "outputs": [
    {
     "data": {
      "text/plain": [
       "array([[1.        , 0.08196721, 0.06060606, ..., 1.        , 0.07280498,\n",
       "        0.        ],\n",
       "       [1.        , 0.31147541, 0.        , ..., 0.        , 0.09133281,\n",
       "        0.        ],\n",
       "       [1.        , 0.1147541 , 0.15151515, ..., 0.5       , 0.01955765,\n",
       "        0.        ],\n",
       "       ...,\n",
       "       [1.        , 0.18032787, 0.06060606, ..., 0.5       , 0.1700471 ,\n",
       "        0.        ],\n",
       "       [1.        , 0.47540984, 0.06060606, ..., 0.5       , 0.07228021,\n",
       "        1.        ],\n",
       "       [1.        , 0.04918033, 0.60606061, ..., 0.5       , 0.05755138,\n",
       "        0.        ]])"
      ]
     },
     "execution_count": 350,
     "metadata": {},
     "output_type": "execute_result"
    }
   ],
   "source": [
    "test_set = test.copy()\n",
    "data_prep(test_set)\n",
    "test_set = transform(test_set)\n",
    "test_set"
   ]
  },
  {
   "cell_type": "code",
   "execution_count": 351,
   "metadata": {},
   "outputs": [],
   "source": [
    "pred_test_xgb = xgb_model.predict_proba(test_set)"
   ]
  },
  {
   "cell_type": "code",
   "execution_count": 352,
   "metadata": {},
   "outputs": [
    {
     "data": {
      "text/html": [
       "<div>\n",
       "<style scoped>\n",
       "    .dataframe tbody tr th:only-of-type {\n",
       "        vertical-align: middle;\n",
       "    }\n",
       "\n",
       "    .dataframe tbody tr th {\n",
       "        vertical-align: top;\n",
       "    }\n",
       "\n",
       "    .dataframe thead th {\n",
       "        text-align: right;\n",
       "    }\n",
       "</style>\n",
       "<table border=\"1\" class=\"dataframe\">\n",
       "  <thead>\n",
       "    <tr style=\"text-align: right;\">\n",
       "      <th></th>\n",
       "      <th>ID</th>\n",
       "      <th>Is_Lead</th>\n",
       "    </tr>\n",
       "  </thead>\n",
       "  <tbody>\n",
       "    <tr>\n",
       "      <th>0</th>\n",
       "      <td>VBENBARO</td>\n",
       "      <td>0.500422</td>\n",
       "    </tr>\n",
       "    <tr>\n",
       "      <th>1</th>\n",
       "      <td>CCMEWNKY</td>\n",
       "      <td>0.516705</td>\n",
       "    </tr>\n",
       "    <tr>\n",
       "      <th>2</th>\n",
       "      <td>VK3KGA9M</td>\n",
       "      <td>0.594557</td>\n",
       "    </tr>\n",
       "    <tr>\n",
       "      <th>3</th>\n",
       "      <td>TT8RPZVC</td>\n",
       "      <td>0.500422</td>\n",
       "    </tr>\n",
       "    <tr>\n",
       "      <th>4</th>\n",
       "      <td>SHQZEYTZ</td>\n",
       "      <td>0.462837</td>\n",
       "    </tr>\n",
       "  </tbody>\n",
       "</table>\n",
       "</div>"
      ],
      "text/plain": [
       "         ID   Is_Lead\n",
       "0  VBENBARO  0.500422\n",
       "1  CCMEWNKY  0.516705\n",
       "2  VK3KGA9M  0.594557\n",
       "3  TT8RPZVC  0.500422\n",
       "4  SHQZEYTZ  0.462837"
      ]
     },
     "execution_count": 352,
     "metadata": {},
     "output_type": "execute_result"
    }
   ],
   "source": [
    "submission.head()"
   ]
  },
  {
   "cell_type": "code",
   "execution_count": 353,
   "metadata": {},
   "outputs": [],
   "source": [
    "submission['Is_Lead'] = pred_test_xgb"
   ]
  },
  {
   "cell_type": "code",
   "execution_count": 354,
   "metadata": {},
   "outputs": [
    {
     "data": {
      "text/html": [
       "<div>\n",
       "<style scoped>\n",
       "    .dataframe tbody tr th:only-of-type {\n",
       "        vertical-align: middle;\n",
       "    }\n",
       "\n",
       "    .dataframe tbody tr th {\n",
       "        vertical-align: top;\n",
       "    }\n",
       "\n",
       "    .dataframe thead th {\n",
       "        text-align: right;\n",
       "    }\n",
       "</style>\n",
       "<table border=\"1\" class=\"dataframe\">\n",
       "  <thead>\n",
       "    <tr style=\"text-align: right;\">\n",
       "      <th></th>\n",
       "      <th>ID</th>\n",
       "      <th>Is_Lead</th>\n",
       "    </tr>\n",
       "  </thead>\n",
       "  <tbody>\n",
       "    <tr>\n",
       "      <th>0</th>\n",
       "      <td>VBENBARO</td>\n",
       "      <td>0.688027</td>\n",
       "    </tr>\n",
       "    <tr>\n",
       "      <th>1</th>\n",
       "      <td>CCMEWNKY</td>\n",
       "      <td>0.330475</td>\n",
       "    </tr>\n",
       "    <tr>\n",
       "      <th>2</th>\n",
       "      <td>VK3KGA9M</td>\n",
       "      <td>0.683722</td>\n",
       "    </tr>\n",
       "    <tr>\n",
       "      <th>3</th>\n",
       "      <td>TT8RPZVC</td>\n",
       "      <td>0.696364</td>\n",
       "    </tr>\n",
       "    <tr>\n",
       "      <th>4</th>\n",
       "      <td>SHQZEYTZ</td>\n",
       "      <td>0.696364</td>\n",
       "    </tr>\n",
       "  </tbody>\n",
       "</table>\n",
       "</div>"
      ],
      "text/plain": [
       "         ID   Is_Lead\n",
       "0  VBENBARO  0.688027\n",
       "1  CCMEWNKY  0.330475\n",
       "2  VK3KGA9M  0.683722\n",
       "3  TT8RPZVC  0.696364\n",
       "4  SHQZEYTZ  0.696364"
      ]
     },
     "execution_count": 354,
     "metadata": {},
     "output_type": "execute_result"
    }
   ],
   "source": [
    "submission.head()"
   ]
  },
  {
   "cell_type": "code",
   "execution_count": 95,
   "metadata": {},
   "outputs": [],
   "source": [
    "submission.to_csv(f'pred_test_xgb.csv',index=False)"
   ]
  },
  {
   "cell_type": "code",
   "execution_count": 355,
   "metadata": {},
   "outputs": [
    {
     "name": "stdout",
     "output_type": "stream",
     "text": [
      "finish\n"
     ]
    }
   ],
   "source": [
    "print(\"finish\")"
   ]
  },
  {
   "cell_type": "code",
   "execution_count": null,
   "metadata": {},
   "outputs": [],
   "source": []
  },
  {
   "cell_type": "code",
   "execution_count": null,
   "metadata": {},
   "outputs": [],
   "source": []
  },
  {
   "cell_type": "code",
   "execution_count": null,
   "metadata": {},
   "outputs": [],
   "source": []
  },
  {
   "cell_type": "code",
   "execution_count": null,
   "metadata": {},
   "outputs": [],
   "source": []
  },
  {
   "cell_type": "code",
   "execution_count": null,
   "metadata": {},
   "outputs": [],
   "source": []
  },
  {
   "cell_type": "code",
   "execution_count": null,
   "metadata": {},
   "outputs": [],
   "source": []
  },
  {
   "cell_type": "code",
   "execution_count": null,
   "metadata": {},
   "outputs": [],
   "source": []
  },
  {
   "cell_type": "code",
   "execution_count": null,
   "metadata": {},
   "outputs": [],
   "source": []
  },
  {
   "cell_type": "code",
   "execution_count": null,
   "metadata": {},
   "outputs": [],
   "source": []
  },
  {
   "cell_type": "code",
   "execution_count": null,
   "metadata": {},
   "outputs": [],
   "source": []
  },
  {
   "cell_type": "code",
   "execution_count": null,
   "metadata": {},
   "outputs": [],
   "source": []
  },
  {
   "cell_type": "code",
   "execution_count": null,
   "metadata": {},
   "outputs": [],
   "source": []
  },
  {
   "cell_type": "code",
   "execution_count": null,
   "metadata": {},
   "outputs": [],
   "source": []
  },
  {
   "cell_type": "code",
   "execution_count": null,
   "metadata": {},
   "outputs": [],
   "source": []
  },
  {
   "cell_type": "code",
   "execution_count": null,
   "metadata": {},
   "outputs": [],
   "source": []
  },
  {
   "cell_type": "code",
   "execution_count": null,
   "metadata": {},
   "outputs": [],
   "source": []
  },
  {
   "cell_type": "code",
   "execution_count": null,
   "metadata": {},
   "outputs": [],
   "source": []
  },
  {
   "cell_type": "code",
   "execution_count": null,
   "metadata": {},
   "outputs": [],
   "source": []
  },
  {
   "cell_type": "code",
   "execution_count": null,
   "metadata": {},
   "outputs": [],
   "source": []
  },
  {
   "cell_type": "code",
   "execution_count": null,
   "metadata": {},
   "outputs": [],
   "source": []
  },
  {
   "cell_type": "code",
   "execution_count": null,
   "metadata": {},
   "outputs": [],
   "source": []
  },
  {
   "cell_type": "code",
   "execution_count": null,
   "metadata": {},
   "outputs": [],
   "source": []
  },
  {
   "cell_type": "code",
   "execution_count": null,
   "metadata": {},
   "outputs": [],
   "source": []
  },
  {
   "cell_type": "code",
   "execution_count": null,
   "metadata": {},
   "outputs": [],
   "source": []
  },
  {
   "cell_type": "code",
   "execution_count": null,
   "metadata": {},
   "outputs": [],
   "source": []
  },
  {
   "cell_type": "code",
   "execution_count": null,
   "metadata": {},
   "outputs": [],
   "source": []
  },
  {
   "cell_type": "code",
   "execution_count": null,
   "metadata": {},
   "outputs": [],
   "source": []
  },
  {
   "cell_type": "code",
   "execution_count": null,
   "metadata": {},
   "outputs": [],
   "source": []
  },
  {
   "cell_type": "code",
   "execution_count": null,
   "metadata": {},
   "outputs": [],
   "source": []
  },
  {
   "cell_type": "code",
   "execution_count": null,
   "metadata": {},
   "outputs": [],
   "source": []
  },
  {
   "cell_type": "code",
   "execution_count": null,
   "metadata": {},
   "outputs": [],
   "source": []
  },
  {
   "cell_type": "code",
   "execution_count": null,
   "metadata": {},
   "outputs": [],
   "source": []
  },
  {
   "cell_type": "code",
   "execution_count": null,
   "metadata": {},
   "outputs": [],
   "source": []
  },
  {
   "cell_type": "code",
   "execution_count": null,
   "metadata": {},
   "outputs": [],
   "source": []
  }
 ],
 "metadata": {
  "kernelspec": {
   "display_name": "Python 3",
   "language": "python",
   "name": "python3"
  },
  "language_info": {
   "codemirror_mode": {
    "name": "ipython",
    "version": 3
   },
   "file_extension": ".py",
   "mimetype": "text/x-python",
   "name": "python",
   "nbconvert_exporter": "python",
   "pygments_lexer": "ipython3",
   "version": "3.8.3"
  }
 },
 "nbformat": 4,
 "nbformat_minor": 4
}
